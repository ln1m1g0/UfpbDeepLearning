{
 "cells": [
  {
   "cell_type": "markdown",
   "metadata": {},
   "source": [
    "Esse script implementa LSTM para vários arquivos. Todas os arquivos serão colocados em uma variável chamada inpt"
   ]
  },
  {
   "cell_type": "markdown",
   "metadata": {},
   "source": [
    "Nessa versão o tamanho do ngrama e o modelo forneceram resultados bons. Importante usar data load e tentar melhorar a complexidade do modelo"
   ]
  },
  {
   "cell_type": "markdown",
   "metadata": {},
   "source": [
    "Esse exemplo tem problema no DataLoader. O objetivo dessa versão é limpar o código e melhorar o modelo."
   ]
  },
  {
   "cell_type": "markdown",
   "metadata": {},
   "source": [
    "Essa versão visa fine tunning dos modelos e limpeza do código eliminando as celulas de debug da versão anterior."
   ]
  },
  {
   "cell_type": "markdown",
   "metadata": {},
   "source": [
    "Essa versão visa prospectar desempenho com ngram de outros tamanhos"
   ]
  },
  {
   "cell_type": "markdown",
   "metadata": {},
   "source": [
    "Colocar mais uma camada linear"
   ]
  },
  {
   "cell_type": "markdown",
   "metadata": {},
   "source": [
    "Essa versão terá a entrada melhorada, sendo coletada para cada arquivo, sem ngrams inter arquivos."
   ]
  },
  {
   "cell_type": "markdown",
   "metadata": {},
   "source": [
    "Nessa versão 10 os testes são feitos com a base de dados de validação"
   ]
  },
  {
   "cell_type": "markdown",
   "metadata": {},
   "source": [
    "Nessa versão 11 as acurácias são apresentadas durante o treinamento"
   ]
  },
  {
   "cell_type": "markdown",
   "metadata": {},
   "source": [
    "Versão 12 - tentativa de aumentar a complexidade do modelo"
   ]
  },
  {
   "cell_type": "markdown",
   "metadata": {},
   "source": [
    "Versão 12_1 - tentativa de aumentar a complexidade do modelo da versão 12"
   ]
  },
  {
   "cell_type": "markdown",
   "metadata": {},
   "source": [
    "Versão 13 adiciona dropout nas camadas LSTM"
   ]
  },
  {
   "cell_type": "markdown",
   "metadata": {},
   "source": [
    "Versão 14: aumenta a dimensão dos ngrams (quanto maior melhor a acurácia de treinamento) e adiciona regularização L1 e L2."
   ]
  },
  {
   "cell_type": "markdown",
   "metadata": {},
   "source": [
    "Versão 15: adiciona visualização da acurácia de validação (early stop não adicionado) "
   ]
  },
  {
   "cell_type": "markdown",
   "metadata": {},
   "source": [
    "Versão 16: early stop adicionado"
   ]
  },
  {
   "cell_type": "code",
   "execution_count": 1,
   "metadata": {
    "id": "qjZ8KLHSkXW1"
   },
   "outputs": [
    {
     "data": {
      "text/plain": [
       "20"
      ]
     },
     "execution_count": 1,
     "metadata": {},
     "output_type": "execute_result"
    }
   ],
   "source": [
    "import numpy as np\n",
    "import random\n",
    "import torch\n",
    "#from nltk.tokenize import WordPunctTokenizer\n",
    "from torch import nn\n",
    "import os\n",
    "from tqdm import tqdm\n",
    "import gc\n",
    "from torch.utils.data import TensorDataset, DataLoader, random_split\n",
    "gc.collect()"
   ]
  },
  {
   "cell_type": "code",
   "execution_count": 2,
   "metadata": {},
   "outputs": [],
   "source": [
    "# !pip install numba"
   ]
  },
  {
   "cell_type": "code",
   "execution_count": 3,
   "metadata": {},
   "outputs": [],
   "source": [
    "# print(nw_model)"
   ]
  },
  {
   "cell_type": "code",
   "execution_count": 4,
   "metadata": {},
   "outputs": [],
   "source": [
    "# del nw_model"
   ]
  },
  {
   "cell_type": "code",
   "execution_count": 5,
   "metadata": {},
   "outputs": [],
   "source": [
    "# device_ = get_current_device()\n",
    "# device.reset()"
   ]
  },
  {
   "cell_type": "code",
   "execution_count": 6,
   "metadata": {},
   "outputs": [],
   "source": [
    "#Parâmetros\n",
    "ngram_size = 8#7#6\n",
    "embed_size = 650#880#1024#800#512#512#700#512 melhor #- 51% #2048 - acuracia de 85% #1024 - acurácia de 85%#128\n",
    "hidden_size = 650#880#1024#1024#780#700#512  melhor #- 51% #2048 - acuracia de 85% #1024 - acurácia de 85%#128\n",
    "#melhores (~ 66.5%): (512, 512, 251 epocas), (512, 1024, 125 epocas)\n",
    "layers_sz = 3#3#4#3#2\n",
    "# layers_sz = 3#2\n",
    "\n",
    "# output_size = one_hot_size\n",
    "dropout_rate = 0.3#0.03#0.3\n",
    "learning_rate = 0.00004#0.005#0.01\n",
    "dilMlp = 4\n",
    "batch_size = 150#1000#3000#3350#950#3950#400#8000#10000#32\n",
    "# batch_size = 3950#400#8000#10000#32\n",
    "regularization_type1 = 'L1'\n",
    "regularization_type2 = 'L2'\n",
    "lambda_reg=0.000003\n",
    "lambda_reg2 = 1*lambda_reg\n",
    "lambda_reg1 = 0.000002 #lambda_reg - lambda_reg2"
   ]
  },
  {
   "cell_type": "code",
   "execution_count": 7,
   "metadata": {
    "colab": {
     "base_uri": "https://localhost:8080/"
    },
    "id": "asQHba7NkmY-",
    "outputId": "60d37ec4-3f01-4529-b64f-ae6db5812fd2"
   },
   "outputs": [
    {
     "data": {
      "text/plain": [
       "<torch._C.Generator at 0x7a16abf3e290>"
      ]
     },
     "execution_count": 7,
     "metadata": {},
     "output_type": "execute_result"
    }
   ],
   "source": [
    "seed_value = 101\n",
    "\n",
    "torch.manual_seed(seed_value)"
   ]
  },
  {
   "cell_type": "code",
   "execution_count": 8,
   "metadata": {
    "colab": {
     "base_uri": "https://localhost:8080/"
    },
    "id": "_TSF9YaulGGq",
    "outputId": "01ad26f9-120e-4cbe-9ba0-dd42c6649b62"
   },
   "outputs": [
    {
     "name": "stdout",
     "output_type": "stream",
     "text": [
      "file:  UTD-0237.txt\n"
     ]
    }
   ],
   "source": [
    "path = 'data/ADFA-LD/Training_Data_Master/'\n",
    "allFiles = os.listdir(path)\n",
    "# /content/UTD-0001.txt\n",
    "# df = pd.read_csv('data/ADFA-LD/TrainingDataMaster/SBUX.csv', index_col = 'Date', parse_dates=True)\n",
    "print('file: ', allFiles[5])"
   ]
  },
  {
   "cell_type": "code",
   "execution_count": 9,
   "metadata": {},
   "outputs": [
    {
     "data": {
      "text/plain": [
       "833"
      ]
     },
     "execution_count": 9,
     "metadata": {},
     "output_type": "execute_result"
    }
   ],
   "source": [
    "len(allFiles)"
   ]
  },
  {
   "cell_type": "code",
   "execution_count": 10,
   "metadata": {},
   "outputs": [],
   "source": [
    "# ngram_size = 6\n",
    "\n",
    "def create_ngram_sequences(tokens):\n",
    "  ngrams_list = []\n",
    "  for i in range(ngram_size, len(tokens) + 1):\n",
    "    ngrams = tokens[i - ngram_size:i]\n",
    "    ngrams_list.append(ngrams)\n",
    "  return ngrams_list"
   ]
  },
  {
   "cell_type": "code",
   "execution_count": 11,
   "metadata": {},
   "outputs": [
    {
     "name": "stdout",
     "output_type": "stream",
     "text": [
      "[[174, 174, 174, 57, 175, 54, 175, 6], [174, 174, 57, 175, 54, 175, 6, 3], [174, 57, 175, 54, 175, 6, 3, 6]]\n"
     ]
    }
   ],
   "source": [
    "a = [174, 174, 174, 57, 175, 54, 175, 6, 3, 6]\n",
    "b = create_ngram_sequences(a)\n",
    "print(b)"
   ]
  },
  {
   "cell_type": "code",
   "execution_count": 12,
   "metadata": {},
   "outputs": [
    {
     "name": "stderr",
     "output_type": "stream",
     "text": [
      "100%|██████████████████████████████████████████████████████████████████████████████| 833/833 [02:04<00:00,  6.67it/s]"
     ]
    },
    {
     "name": "stdout",
     "output_type": "stream",
     "text": [
      "[174, 174, 174, 57, 175, 54, 175, 6, 3, 6, 174, 174, 174, 174, 174, 174, 174, 174, 174, 174, 174, 174, 174, 174, 174, 174, 174, 174, 174, 11, 45, 33, 192, 33, 5, 197, 192, 6, 33, 5, 3, 197, 192, 192, 6, 33, 5, 3, 197, 192, 192, 6, 33, 5, 3, 197, 192, 192, 192, 6, 33, 5, 3, 197, 192, 192, 192, 6, 33, 5, 3, 197, 192, 192, 6, 33, 5, 3, 197, 192, 192, 192, 6, 33, 5, 3, 197, 192, 192, 6, 192, 192, 243, 125, 125, 125, 125, 125, 125]\n"
     ]
    },
    {
     "name": "stderr",
     "output_type": "stream",
     "text": [
      "\n"
     ]
    }
   ],
   "source": [
    "inpt = []\n",
    "ngram_sequences_ = []\n",
    "for file in tqdm(allFiles):\n",
    "    # print(\"File: \", file)\n",
    "    inpt_ = []\n",
    "    fileInpt = open(path + file, \"r\")\n",
    "    content=fileInpt.readlines()\n",
    "    inptString = content[0]\n",
    "    myList = inptString.split()\n",
    "    corpus_tokens = myList\n",
    "    for elem in myList:\n",
    "        inpt = inpt + [int(elem)]\n",
    "        inpt_ = inpt_ + [int(elem)]\n",
    "    ngram_sequences_ = ngram_sequences_ + create_ngram_sequences(inpt_)\n",
    "    ngram_sequences_[:10]\n",
    "    #len(corpus_tokens)\n",
    "print(inpt[1:100]) \n",
    "    "
   ]
  },
  {
   "cell_type": "code",
   "execution_count": 13,
   "metadata": {},
   "outputs": [
    {
     "data": {
      "text/plain": [
       "302246"
      ]
     },
     "execution_count": 13,
     "metadata": {},
     "output_type": "execute_result"
    }
   ],
   "source": [
    "ngram_sequences_[:10]\n",
    "len(ngram_sequences_)"
   ]
  },
  {
   "cell_type": "code",
   "execution_count": 14,
   "metadata": {
    "id": "fFpDONFipPxn"
   },
   "outputs": [],
   "source": [
    "def extract_corpus_vocab(all_words):\n",
    "  vocab_words = list(set(all_words))\n",
    "  vocab_words.sort()\n",
    "  return vocab_words"
   ]
  },
  {
   "cell_type": "code",
   "execution_count": 15,
   "metadata": {
    "colab": {
     "base_uri": "https://localhost:8080/"
    },
    "id": "9TxGA1eapTNH",
    "outputId": "c5ecc4d5-3cc4-475f-cbb3-299f49919505"
   },
   "outputs": [
    {
     "name": "stdout",
     "output_type": "stream",
     "text": [
      "[1, 3, 4, 5, 6, 7, 8, 9, 10, 11]\n",
      "340\n"
     ]
    }
   ],
   "source": [
    "vocab_words_list = extract_corpus_vocab(inpt)\n",
    "\n",
    "print(vocab_words_list[0:10])\n",
    "print(max(vocab_words_list))"
   ]
  },
  {
   "cell_type": "code",
   "execution_count": 16,
   "metadata": {
    "colab": {
     "base_uri": "https://localhost:8080/"
    },
    "id": "A_yFPi-0qJyh",
    "outputId": "6a46006e-61f2-4698-9a73-e2bbbf91101e"
   },
   "outputs": [
    {
     "data": {
      "text/plain": [
       "340"
      ]
     },
     "execution_count": 16,
     "metadata": {},
     "output_type": "execute_result"
    }
   ],
   "source": [
    "vocab_words_list = range(1, max(vocab_words_list) + 1)\n",
    "len(vocab_words_list)\n"
   ]
  },
  {
   "cell_type": "code",
   "execution_count": 17,
   "metadata": {
    "id": "lyY_YcwgrFKE"
   },
   "outputs": [],
   "source": [
    "word_to_nums = (vocab_words_list)"
   ]
  },
  {
   "cell_type": "code",
   "execution_count": 18,
   "metadata": {
    "colab": {
     "base_uri": "https://localhost:8080/"
    },
    "id": "biIRz5mdrdPJ",
    "outputId": "758352ae-bcd0-48b1-eb01-dfd8b3ee82f6"
   },
   "outputs": [
    {
     "data": {
      "text/plain": [
       "[[175, 174, 174, 174, 57, 175, 54, 175],\n",
       " [174, 174, 174, 57, 175, 54, 175, 6],\n",
       " [174, 174, 57, 175, 54, 175, 6, 3],\n",
       " [174, 57, 175, 54, 175, 6, 3, 6],\n",
       " [57, 175, 54, 175, 6, 3, 6, 174],\n",
       " [175, 54, 175, 6, 3, 6, 174, 174],\n",
       " [54, 175, 6, 3, 6, 174, 174, 174],\n",
       " [175, 6, 3, 6, 174, 174, 174, 174],\n",
       " [6, 3, 6, 174, 174, 174, 174, 174],\n",
       " [3, 6, 174, 174, 174, 174, 174, 174]]"
      ]
     },
     "execution_count": 18,
     "metadata": {},
     "output_type": "execute_result"
    }
   ],
   "source": [
    "ngram_sequences = create_ngram_sequences(inpt)\n",
    "ngram_sequences[:10]\n",
    "#len(corpus_tokens)"
   ]
  },
  {
   "cell_type": "code",
   "execution_count": 19,
   "metadata": {
    "colab": {
     "base_uri": "https://localhost:8080/"
    },
    "id": "3x-fM_iOr8xy",
    "outputId": "5ba572a3-ea2a-4fd8-e0be-3c5c2a1be494"
   },
   "outputs": [
    {
     "data": {
      "text/plain": [
       "308070"
      ]
     },
     "execution_count": 19,
     "metadata": {},
     "output_type": "execute_result"
    }
   ],
   "source": [
    "len(ngram_sequences)"
   ]
  },
  {
   "cell_type": "code",
   "execution_count": 20,
   "metadata": {
    "colab": {
     "base_uri": "https://localhost:8080/"
    },
    "id": "EESEobv3tYM1",
    "outputId": "d45ddec3-4372-4a97-a0c6-492186fb45a3"
   },
   "outputs": [],
   "source": [
    "# device = 'cuda' if torch.cuda.is_available() else 'cpu'\n",
    "# # model.cpu()\n",
    "# # del  nw_model, checkpoint\n",
    "# gc.collect()\n",
    "# torch.cuda.empty_cache()\n",
    "\n",
    "# print(device)"
   ]
  },
  {
   "cell_type": "code",
   "execution_count": 21,
   "metadata": {},
   "outputs": [],
   "source": [
    "ngram_seq_nums = ngram_sequences_\n",
    "# ngram_sequences_to_numbers"
   ]
  },
  {
   "cell_type": "code",
   "execution_count": 22,
   "metadata": {
    "colab": {
     "base_uri": "https://localhost:8080/"
    },
    "id": "phcXYHQwtfQG",
    "outputId": "937ab4cc-d045-49d5-f976-b70de4cf7e22"
   },
   "outputs": [
    {
     "data": {
      "text/plain": [
       "tensor([[175, 174, 174, 174,  57, 175,  54, 175],\n",
       "        [174, 174, 174,  57, 175,  54, 175,   6],\n",
       "        [174, 174,  57, 175,  54, 175,   6,   3],\n",
       "        [174,  57, 175,  54, 175,   6,   3,   6],\n",
       "        [ 57, 175,  54, 175,   6,   3,   6, 174],\n",
       "        [175,  54, 175,   6,   3,   6, 174, 174],\n",
       "        [ 54, 175,   6,   3,   6, 174, 174, 174],\n",
       "        [175,   6,   3,   6, 174, 174, 174, 174],\n",
       "        [  6,   3,   6, 174, 174, 174, 174, 174],\n",
       "        [  3,   6, 174, 174, 174, 174, 174, 174]])"
      ]
     },
     "execution_count": 22,
     "metadata": {},
     "output_type": "execute_result"
    }
   ],
   "source": [
    "ngram_nums = torch.tensor(ngram_seq_nums, device='cpu')\n",
    "ngram_nums[:10]"
   ]
  },
  {
   "cell_type": "code",
   "execution_count": 23,
   "metadata": {
    "id": "_bXZ-HPBttPQ"
   },
   "outputs": [],
   "source": [
    "\n",
    "X_train = ngram_nums[:, :-1]\n",
    "y_target = ngram_nums[:, -1]"
   ]
  },
  {
   "cell_type": "code",
   "execution_count": 24,
   "metadata": {},
   "outputs": [
    {
     "data": {
      "text/plain": [
       "302246"
      ]
     },
     "execution_count": 24,
     "metadata": {},
     "output_type": "execute_result"
    }
   ],
   "source": [
    "len(X_train)"
   ]
  },
  {
   "cell_type": "code",
   "execution_count": 25,
   "metadata": {
    "colab": {
     "base_uri": "https://localhost:8080/"
    },
    "id": "IovxUtcXt1Lt",
    "outputId": "f1f1e772-cf2c-497f-e735-7af2e71c2add"
   },
   "outputs": [],
   "source": [
    "y_target[:10]\n",
    "y_train = y_target"
   ]
  },
  {
   "cell_type": "markdown",
   "metadata": {},
   "source": [
    "Colocar a parte de dataloader aqui"
   ]
  },
  {
   "cell_type": "code",
   "execution_count": 26,
   "metadata": {
    "colab": {
     "base_uri": "https://localhost:8080/"
    },
    "id": "n55bFFUEvyiQ",
    "outputId": "ac8f6818-0ddb-4990-f5fa-5b66a0062066"
   },
   "outputs": [
    {
     "name": "stdout",
     "output_type": "stream",
     "text": [
      "tensor(175)\n",
      "tensor(6)\n",
      "tensor(3)\n",
      "tensor(6)\n",
      "tensor(174)\n",
      "tensor(174)\n",
      "tensor(174)\n",
      "tensor(174)\n",
      "tensor(174)\n",
      "tensor(174)\n"
     ]
    }
   ],
   "source": [
    "for idx in y_target[:10]:\n",
    "  print(idx)"
   ]
  },
  {
   "cell_type": "code",
   "execution_count": 27,
   "metadata": {
    "colab": {
     "base_uri": "https://localhost:8080/"
    },
    "id": "E71VXNest7yx",
    "outputId": "feafcc8c-085b-46e0-a337-a7b3c4db447e"
   },
   "outputs": [
    {
     "name": "stdout",
     "output_type": "stream",
     "text": [
      "340\n",
      "340\n",
      "341\n"
     ]
    }
   ],
   "source": [
    "one_hot_size = len(vocab_words_list)\n",
    "print(one_hot_size)\n",
    "print(max(vocab_words_list))\n",
    "one_hot_size = max(vocab_words_list) +1\n",
    "print(one_hot_size)\n",
    "def word_num_to_onehot(target):\n",
    "  one_hot_list = []\n",
    "  for idx in target:\n",
    "    one_hot = np.zeros(one_hot_size, dtype=np.float32)\n",
    "    one_hot[idx] = 1.0\n",
    "    one_hot_list.append(one_hot)\n",
    "  return one_hot_list"
   ]
  },
  {
   "cell_type": "code",
   "execution_count": 28,
   "metadata": {},
   "outputs": [],
   "source": [
    "device = 'cpu'\n",
    "\n",
    "# nw_model.to(device_cpu)"
   ]
  },
  {
   "cell_type": "code",
   "execution_count": 29,
   "metadata": {
    "colab": {
     "base_uri": "https://localhost:8080/"
    },
    "id": "JF2rl0Eot_IP",
    "outputId": "0bdf7528-3f30-4d66-fbf0-3d1f3ae16315"
   },
   "outputs": [],
   "source": [
    "y_one_hot = word_num_to_onehot(y_target)\n",
    "y_one_hot_target_ = np.asarray(y_one_hot)\n",
    "y_one_hot_target = torch.tensor(np.asarray(y_one_hot), device=device)\n",
    "# print(y_one_hot_target[0])\n",
    "# print(y_target[0])"
   ]
  },
  {
   "cell_type": "code",
   "execution_count": 30,
   "metadata": {},
   "outputs": [
    {
     "name": "stdout",
     "output_type": "stream",
     "text": [
      "cuda\n"
     ]
    }
   ],
   "source": [
    "device = 'cuda' if torch.cuda.is_available() else 'cpu'\n",
    "# model.cpu()\n",
    "# del  nw_model, checkpoint\n",
    "gc.collect()\n",
    "torch.cuda.empty_cache()\n",
    "\n",
    "print(device)"
   ]
  },
  {
   "cell_type": "code",
   "execution_count": 31,
   "metadata": {
    "id": "d28YlV4mvUqX"
   },
   "outputs": [],
   "source": [
    "num_features = X_train.shape[1]\n",
    "vocab_size = one_hot_size\n",
    "# embed_size = 512#512#700#512 melhor #- 51% #2048 - acuracia de 85% #1024 - acurácia de 85%#128\n",
    "# hidden_size = 1024#780#700#512  melhor #- 51% #2048 - acuracia de 85% #1024 - acurácia de 85%#128\n",
    "# #melhores (~ 66.5%): (512, 512, 251 epocas), (512, 1024, 125 epocas)\n",
    "# layers_sz = 2\n",
    "output_size = one_hot_size\n",
    "# dropout_rate = 0.03#0.3\n",
    "\n",
    "class NextWordLSTM(nn.Module):\n",
    "  def __init__(self, vocab_sz, embed_sz, hidden_sz, output_sz):\n",
    "    super(NextWordLSTM, self).__init__()\n",
    "    self.embed = nn.Embedding(vocab_sz, embed_sz)\n",
    "    self.lstm = nn.LSTM(input_size=embed_sz, hidden_size=hidden_sz, num_layers=layers_sz, dropout=dropout_rate)\n",
    "    self.fc = nn.Sequential(\n",
    "            nn.Dropout(dropout_rate),\n",
    "            # nn.Linear(hidden_size*num_features, hidden_size*num_features),\n",
    "            nn.Linear(hidden_size*num_features, dilMlp*hidden_size*num_features),\n",
    "            nn.ReLU())\n",
    "    self.fc1 = nn.Sequential(\n",
    "            nn.Dropout(dropout_rate),\n",
    "            # nn.Linear(hidden_size*num_features, output_sz),\n",
    "            nn.Linear(dilMlp*hidden_size*num_features, hidden_size*num_features),\n",
    "            nn.ReLU()\n",
    "            )\n",
    "    self.fc2 = nn.Sequential(\n",
    "        nn.Dropout(dropout_rate),\n",
    "        nn.Linear(hidden_size*num_features, output_sz),\n",
    "        )\n",
    "    # self.dropout = nn.Dropout(dropout_rate)\n",
    "    # self.linear = nn.Linear(hidden_size*num_features, output_sz)\n",
    "\n",
    "  def forward(self, x_in: torch.Tensor):\n",
    "    embedded = self.embed(x_in)\n",
    "    output, _ = self.lstm(embedded)\n",
    "    output = output.view(output.size(0), -1)\n",
    "    # output = self.dropout(output)\n",
    "    # output = self.linear(output)\n",
    "    output = self.fc(output)\n",
    "    output = self.fc1(output)\n",
    "    output = self.fc2(output)\n",
    "    return output"
   ]
  },
  {
   "cell_type": "code",
   "execution_count": 32,
   "metadata": {
    "colab": {
     "base_uri": "https://localhost:8080/"
    },
    "id": "HbZPnYi6vyM1",
    "outputId": "8daa95cb-000c-4abd-d1f3-e9420d8744dc"
   },
   "outputs": [
    {
     "data": {
      "text/plain": [
       "NextWordLSTM(\n",
       "  (embed): Embedding(341, 650)\n",
       "  (lstm): LSTM(650, 650, num_layers=3, dropout=0.3)\n",
       "  (fc): Sequential(\n",
       "    (0): Dropout(p=0.3, inplace=False)\n",
       "    (1): Linear(in_features=4550, out_features=18200, bias=True)\n",
       "    (2): ReLU()\n",
       "  )\n",
       "  (fc1): Sequential(\n",
       "    (0): Dropout(p=0.3, inplace=False)\n",
       "    (1): Linear(in_features=18200, out_features=4550, bias=True)\n",
       "    (2): ReLU()\n",
       "  )\n",
       "  (fc2): Sequential(\n",
       "    (0): Dropout(p=0.3, inplace=False)\n",
       "    (1): Linear(in_features=4550, out_features=341, bias=True)\n",
       "  )\n",
       ")"
      ]
     },
     "execution_count": 32,
     "metadata": {},
     "output_type": "execute_result"
    }
   ],
   "source": [
    "nw_model = NextWordLSTM(vocab_size, embed_size, hidden_size, output_size)\n",
    "nw_model.to(device)"
   ]
  },
  {
   "cell_type": "code",
   "execution_count": 33,
   "metadata": {
    "colab": {
     "base_uri": "https://localhost:8080/"
    },
    "id": "dGvhSgh9wH_3",
    "outputId": "4641632c-3e3b-4490-e165-8876da0fc084"
   },
   "outputs": [
    {
     "data": {
      "text/plain": [
       "CrossEntropyLoss()"
      ]
     },
     "execution_count": 33,
     "metadata": {},
     "output_type": "execute_result"
    }
   ],
   "source": [
    "criterion = nn.CrossEntropyLoss()\n",
    "criterion.to(device)"
   ]
  },
  {
   "cell_type": "code",
   "execution_count": 34,
   "metadata": {
    "id": "vOInfwU7wMRD"
   },
   "outputs": [],
   "source": [
    "# learning_rate = 0.0005#0.005#0.01\n",
    "\n",
    "optimizer = torch.optim.Adam(nw_model.parameters(), lr=learning_rate)"
   ]
  },
  {
   "cell_type": "code",
   "execution_count": 35,
   "metadata": {},
   "outputs": [],
   "source": [
    "import os\n",
    "os.environ[\"PYTORCH_CUDA_ALLOC_CONF\"] = \"expandable_segments: TRUE\"\n",
    "# print(torch.cuda.memory_summary())\n",
    "# torch.cuda.memory_summary()"
   ]
  },
  {
   "cell_type": "code",
   "execution_count": 36,
   "metadata": {},
   "outputs": [
    {
     "name": "stdout",
     "output_type": "stream",
     "text": [
      "tensor([[175, 174, 174, 174,  57, 175,  54],\n",
      "        [174, 174, 174,  57, 175,  54, 175],\n",
      "        [174, 174,  57, 175,  54, 175,   6],\n",
      "        [174,  57, 175,  54, 175,   6,   3],\n",
      "        [ 57, 175,  54, 175,   6,   3,   6],\n",
      "        [175,  54, 175,   6,   3,   6, 174],\n",
      "        [ 54, 175,   6,   3,   6, 174, 174],\n",
      "        [175,   6,   3,   6, 174, 174, 174],\n",
      "        [  6,   3,   6, 174, 174, 174, 174],\n",
      "        [  3,   6, 174, 174, 174, 174, 174]])\n"
     ]
    }
   ],
   "source": [
    "print(X_train[0:10])"
   ]
  },
  {
   "cell_type": "code",
   "execution_count": 37,
   "metadata": {},
   "outputs": [],
   "source": [
    "#Normalization of input\n",
    "# X_train = X_train/341"
   ]
  },
  {
   "cell_type": "code",
   "execution_count": 38,
   "metadata": {},
   "outputs": [
    {
     "name": "stdout",
     "output_type": "stream",
     "text": [
      "torch.Size([302246, 7])\n",
      "torch.Size([302246, 341])\n"
     ]
    }
   ],
   "source": [
    "import os\n",
    "from torch.utils.data import TensorDataset, DataLoader, random_split\n",
    "# data = TensorDataset(X_train_, y_one_hot_target_)\n",
    "print(X_train.shape)\n",
    "print(y_one_hot_target.shape)\n",
    "type(y_one_hot_target)\n",
    "#torch.tensor\n",
    "data = TensorDataset(X_train, y_one_hot_target)"
   ]
  },
  {
   "cell_type": "code",
   "execution_count": 39,
   "metadata": {},
   "outputs": [],
   "source": [
    "# train_size = int(0.108 * len(data))\n",
    "train_size = int(0.8* len(data))\n",
    "valid_size = len(data) - train_size\n",
    "# batch_size = 10000#400#8000#10000#32"
   ]
  },
  {
   "cell_type": "code",
   "execution_count": 40,
   "metadata": {},
   "outputs": [],
   "source": [
    "train_data, valid_data = random_split(data, [train_size, valid_size])"
   ]
  },
  {
   "cell_type": "code",
   "execution_count": 41,
   "metadata": {},
   "outputs": [],
   "source": [
    "train_loader = DataLoader(train_data, batch_size=batch_size, shuffle=True)\n",
    "valid_loader = DataLoader(valid_data, batch_size=batch_size, shuffle=False)"
   ]
  },
  {
   "cell_type": "code",
   "execution_count": 42,
   "metadata": {},
   "outputs": [],
   "source": [
    "# # # Carrega modelo pre-treinado\n",
    "# # PATH = 'modelos/512_1024'\n",
    "# PATH = 'modelos/5_800_800_1024_lr_dropout_3_layers'\n",
    "# # torch.save(nw_model, PATH)\n",
    "# nw_model = torch.load(PATH, weights_only=False)\n",
    "# nw_model.to(device)\n",
    "# # # model.eval()"
   ]
  },
  {
   "cell_type": "code",
   "execution_count": 43,
   "metadata": {},
   "outputs": [],
   "source": [
    "class EarlyStopper:\n",
    "    def __init__(self, patience=5, min_delta=0):\n",
    "        self.patience = patience\n",
    "        self.min_delta = min_delta\n",
    "        self.counter = 0\n",
    "        self.min_validation_loss = float('inf')\n",
    "\n",
    "    def early_stop(self, validation_loss):\n",
    "        if validation_loss < self.min_validation_loss:\n",
    "            self.min_validation_loss = validation_loss\n",
    "            self.counter = 0\n",
    "        elif validation_loss > (self.min_validation_loss + self.min_delta):\n",
    "            self.counter += 1\n",
    "            if self.counter >= self.patience:\n",
    "                return True\n",
    "        return False"
   ]
  },
  {
   "cell_type": "code",
   "execution_count": 44,
   "metadata": {},
   "outputs": [],
   "source": [
    "early_stopper = EarlyStopper(patience=10, min_delta=0.1) #falta testar patience = 5 e min_delta = 0"
   ]
  },
  {
   "cell_type": "code",
   "execution_count": null,
   "metadata": {
    "id": "btOiO6bTwSWN",
    "scrolled": true
   },
   "outputs": [
    {
     "name": "stderr",
     "output_type": "stream",
     "text": [
      "100%|████████████████████████████████████████████████████████████████████████████| 1612/1612 [11:04<00:00,  2.42it/s]\n",
      "100%|██████████████████████████████████████████████████████████████████████████████| 403/403 [00:49<00:00,  8.10it/s]\n"
     ]
    },
    {
     "name": "stdout",
     "output_type": "stream",
     "text": [
      "Next Word Model LSTM -> Epoch: 1, Loss: 2.2842843532562256, Train Accuracy: 0.6527816837333951, Validation Accuracy: 0.6438356164383562, Validation Loss: 0.28668506838135155\n"
     ]
    },
    {
     "name": "stderr",
     "output_type": "stream",
     "text": [
      "100%|████████████████████████████████████████████████████████████████████████████| 1612/1612 [11:07<00:00,  2.41it/s]\n",
      "100%|██████████████████████████████████████████████████████████████████████████████| 403/403 [00:49<00:00,  8.16it/s]\n"
     ]
    },
    {
     "name": "stdout",
     "output_type": "stream",
     "text": [
      "Next Word Model LSTM -> Epoch: 2, Loss: 1.8822417259216309, Train Accuracy: 0.6865332759847144, Validation Accuracy: 0.726027397260274, Validation Loss: 0.26565969663785743\n"
     ]
    },
    {
     "name": "stderr",
     "output_type": "stream",
     "text": [
      "100%|████████████████████████████████████████████████████████████████████████████| 1612/1612 [11:02<00:00,  2.43it/s]\n",
      "100%|██████████████████████████████████████████████████████████████████████████████| 403/403 [00:49<00:00,  8.14it/s]\n"
     ]
    },
    {
     "name": "stdout",
     "output_type": "stream",
     "text": [
      "Next Word Model LSTM -> Epoch: 3, Loss: 1.9335832595825195, Train Accuracy: 0.7043003192774074, Validation Accuracy: 0.6917808219178082, Validation Loss: 0.25207586360304296\n"
     ]
    },
    {
     "name": "stderr",
     "output_type": "stream",
     "text": [
      "100%|████████████████████████████████████████████████████████████████████████████| 1612/1612 [11:04<00:00,  2.43it/s]\n",
      "100%|██████████████████████████████████████████████████████████████████████████████| 403/403 [00:49<00:00,  8.11it/s]\n"
     ]
    },
    {
     "name": "stdout",
     "output_type": "stream",
     "text": [
      "Next Word Model LSTM -> Epoch: 4, Loss: 1.77944815158844, Train Accuracy: 0.7173030157653559, Validation Accuracy: 0.684931506849315, Validation Loss: 0.2433512959796368\n"
     ]
    },
    {
     "name": "stderr",
     "output_type": "stream",
     "text": [
      "100%|████████████████████████████████████████████████████████████████████████████| 1612/1612 [11:06<00:00,  2.42it/s]\n",
      "100%|██████████████████████████████████████████████████████████████████████████████| 403/403 [00:49<00:00,  8.08it/s]\n"
     ]
    },
    {
     "name": "stdout",
     "output_type": "stream",
     "text": [
      "Next Word Model LSTM -> Epoch: 5, Loss: 1.5185096263885498, Train Accuracy: 0.7267076378434714, Validation Accuracy: 0.7602739726027398, Validation Loss: 0.23437632857697163\n"
     ]
    },
    {
     "name": "stderr",
     "output_type": "stream",
     "text": [
      "100%|████████████████████████████████████████████████████████████████████████████| 1612/1612 [11:05<00:00,  2.42it/s]\n",
      "100%|██████████████████████████████████████████████████████████████████████████████| 403/403 [00:49<00:00,  8.07it/s]\n"
     ]
    },
    {
     "name": "stdout",
     "output_type": "stream",
     "text": [
      "Next Word Model LSTM -> Epoch: 6, Loss: 1.698807954788208, Train Accuracy: 0.7340898939601979, Validation Accuracy: 0.6986301369863014, Validation Loss: 0.231843846836\n"
     ]
    },
    {
     "name": "stderr",
     "output_type": "stream",
     "text": [
      "100%|████████████████████████████████████████████████████████████████████████████| 1612/1612 [11:04<00:00,  2.42it/s]\n",
      "100%|██████████████████████████████████████████████████████████████████████████████| 403/403 [00:49<00:00,  8.08it/s]\n"
     ]
    },
    {
     "name": "stdout",
     "output_type": "stream",
     "text": [
      "Next Word Model LSTM -> Epoch: 7, Loss: 1.673295497894287, Train Accuracy: 0.7396979271782825, Validation Accuracy: 0.7328767123287672, Validation Loss: 0.22578383168631247\n"
     ]
    },
    {
     "name": "stderr",
     "output_type": "stream",
     "text": [
      "100%|████████████████████████████████████████████████████████████████████████████| 1612/1612 [11:03<00:00,  2.43it/s]\n",
      "100%|██████████████████████████████████████████████████████████████████████████████| 403/403 [00:49<00:00,  8.06it/s]\n"
     ]
    },
    {
     "name": "stdout",
     "output_type": "stream",
     "text": [
      "Next Word Model LSTM -> Epoch: 8, Loss: 1.5445215702056885, Train Accuracy: 0.7461248325034326, Validation Accuracy: 0.7328767123287672, Validation Loss: 0.22384704451527135\n"
     ]
    },
    {
     "name": "stderr",
     "output_type": "stream",
     "text": [
      "100%|████████████████████████████████████████████████████████████████████████████| 1612/1612 [11:03<00:00,  2.43it/s]\n",
      "100%|██████████████████████████████████████████████████████████████████████████████| 403/403 [00:49<00:00,  8.09it/s]\n"
     ]
    },
    {
     "name": "stdout",
     "output_type": "stream",
     "text": [
      "Next Word Model LSTM -> Epoch: 9, Loss: 1.5221784114837646, Train Accuracy: 0.7504053003358203, Validation Accuracy: 0.7671232876712328, Validation Loss: 0.2216575200776529\n"
     ]
    },
    {
     "name": "stderr",
     "output_type": "stream",
     "text": [
      "100%|████████████████████████████████████████████████████████████████████████████| 1612/1612 [11:04<00:00,  2.42it/s]\n",
      "100%|██████████████████████████████████████████████████████████████████████████████| 403/403 [00:49<00:00,  8.08it/s]\n"
     ]
    },
    {
     "name": "stdout",
     "output_type": "stream",
     "text": [
      "Next Word Model LSTM -> Epoch: 10, Loss: 1.5481982231140137, Train Accuracy: 0.7546444109910834, Validation Accuracy: 0.7054794520547946, Validation Loss: 0.21909766737185263\n"
     ]
    },
    {
     "name": "stderr",
     "output_type": "stream",
     "text": [
      "100%|████████████████████████████████████████████████████████████████████████████| 1612/1612 [11:05<00:00,  2.42it/s]\n",
      "100%|██████████████████████████████████████████████████████████████████████████████| 403/403 [00:49<00:00,  8.10it/s]\n"
     ]
    },
    {
     "name": "stdout",
     "output_type": "stream",
     "text": [
      "Next Word Model LSTM -> Epoch: 11, Loss: 1.363828182220459, Train Accuracy: 0.7587677215503978, Validation Accuracy: 0.7671232876712328, Validation Loss: 0.21679940824966265\n"
     ]
    },
    {
     "name": "stderr",
     "output_type": "stream",
     "text": [
      "100%|████████████████████████████████████████████████████████████████████████████| 1612/1612 [11:05<00:00,  2.42it/s]\n",
      "100%|██████████████████████████████████████████████████████████████████████████████| 403/403 [00:49<00:00,  8.09it/s]\n"
     ]
    },
    {
     "name": "stdout",
     "output_type": "stream",
     "text": [
      "Next Word Model LSTM -> Epoch: 12, Loss: 1.2474946975708008, Train Accuracy: 0.7612491521778689, Validation Accuracy: 0.7876712328767124, Validation Loss: 0.2147053216710162\n"
     ]
    },
    {
     "name": "stderr",
     "output_type": "stream",
     "text": [
      "100%|████████████████████████████████████████████████████████████████████████████| 1612/1612 [11:04<00:00,  2.43it/s]\n",
      "100%|██████████████████████████████████████████████████████████████████████████████| 403/403 [00:49<00:00,  8.09it/s]\n"
     ]
    },
    {
     "name": "stdout",
     "output_type": "stream",
     "text": [
      "Next Word Model LSTM -> Epoch: 13, Loss: 1.1695284843444824, Train Accuracy: 0.7646032192426674, Validation Accuracy: 0.815068493150685, Validation Loss: 0.2140708668387481\n"
     ]
    },
    {
     "name": "stderr",
     "output_type": "stream",
     "text": [
      "100%|████████████████████████████████████████████████████████████████████████████| 1612/1612 [11:04<00:00,  2.43it/s]\n",
      "100%|██████████████████████████████████████████████████████████████████████████████| 403/403 [00:49<00:00,  8.08it/s]\n"
     ]
    },
    {
     "name": "stdout",
     "output_type": "stream",
     "text": [
      "Next Word Model LSTM -> Epoch: 14, Loss: 1.1609714031219482, Train Accuracy: 0.7686975797779947, Validation Accuracy: 0.8013698630136986, Validation Loss: 0.21286728664648188\n"
     ]
    },
    {
     "name": "stderr",
     "output_type": "stream",
     "text": [
      "100%|████████████████████████████████████████████████████████████████████████████| 1612/1612 [11:04<00:00,  2.43it/s]\n",
      "100%|██████████████████████████████████████████████████████████████████████████████| 403/403 [00:49<00:00,  8.13it/s]\n"
     ]
    },
    {
     "name": "stdout",
     "output_type": "stream",
     "text": [
      "Next Word Model LSTM -> Epoch: 15, Loss: 1.2430689334869385, Train Accuracy: 0.770686859997684, Validation Accuracy: 0.8013698630136986, Validation Loss: 0.21149374550906466\n"
     ]
    },
    {
     "name": "stderr",
     "output_type": "stream",
     "text": [
      "100%|████████████████████████████████████████████████████████████████████████████| 1612/1612 [11:04<00:00,  2.43it/s]\n",
      "100%|██████████████████████████████████████████████████████████████████████████████| 403/403 [00:49<00:00,  8.11it/s]\n"
     ]
    },
    {
     "name": "stdout",
     "output_type": "stream",
     "text": [
      "Next Word Model LSTM -> Epoch: 16, Loss: 1.1524080038070679, Train Accuracy: 0.7728994689738458, Validation Accuracy: 0.7808219178082192, Validation Loss: 0.2108522644042318\n"
     ]
    },
    {
     "name": "stderr",
     "output_type": "stream",
     "text": [
      "100%|████████████████████████████████████████████████████████████████████████████| 1612/1612 [11:05<00:00,  2.42it/s]\n",
      "100%|██████████████████████████████████████████████████████████████████████████████| 403/403 [00:49<00:00,  8.09it/s]\n"
     ]
    },
    {
     "name": "stdout",
     "output_type": "stream",
     "text": [
      "Next Word Model LSTM -> Epoch: 17, Loss: 1.2260985374450684, Train Accuracy: 0.7753850353190292, Validation Accuracy: 0.773972602739726, Validation Loss: 0.20985281088653573\n"
     ]
    },
    {
     "name": "stderr",
     "output_type": "stream",
     "text": [
      "100%|████████████████████████████████████████████████████████████████████████████| 1612/1612 [11:05<00:00,  2.42it/s]\n",
      "100%|██████████████████████████████████████████████████████████████████████████████| 403/403 [00:49<00:00,  8.10it/s]\n"
     ]
    },
    {
     "name": "stdout",
     "output_type": "stream",
     "text": [
      "Next Word Model LSTM -> Epoch: 18, Loss: 1.3197873830795288, Train Accuracy: 0.7794793958543565, Validation Accuracy: 0.7328767123287672, Validation Loss: 0.20928809329268103\n"
     ]
    },
    {
     "name": "stderr",
     "output_type": "stream",
     "text": [
      "100%|████████████████████████████████████████████████████████████████████████████| 1612/1612 [11:04<00:00,  2.43it/s]\n",
      "100%|██████████████████████████████████████████████████████████████████████████████| 403/403 [00:49<00:00,  8.07it/s]\n"
     ]
    },
    {
     "name": "stdout",
     "output_type": "stream",
     "text": [
      "Next Word Model LSTM -> Epoch: 19, Loss: 1.3426214456558228, Train Accuracy: 0.7810385614319509, Validation Accuracy: 0.7671232876712328, Validation Loss: 0.20770585394697028\n"
     ]
    },
    {
     "name": "stderr",
     "output_type": "stream",
     "text": [
      "100%|████████████████████████████████████████████████████████████████████████████| 1612/1612 [11:03<00:00,  2.43it/s]\n",
      "100%|██████████████████████████████████████████████████████████████████████████████| 403/403 [00:50<00:00,  8.05it/s]\n"
     ]
    },
    {
     "name": "stdout",
     "output_type": "stream",
     "text": [
      "Next Word Model LSTM -> Epoch: 20, Loss: 1.1482789516448975, Train Accuracy: 0.7832511704081127, Validation Accuracy: 0.7945205479452054, Validation Loss: 0.2091064168275163\n"
     ]
    },
    {
     "name": "stderr",
     "output_type": "stream",
     "text": [
      "100%|████████████████████████████████████████████████████████████████████████████| 1612/1612 [11:03<00:00,  2.43it/s]\n",
      "100%|██████████████████████████████████████████████████████████████████████████████| 403/403 [00:49<00:00,  8.09it/s]\n"
     ]
    },
    {
     "name": "stdout",
     "output_type": "stream",
     "text": [
      "Next Word Model LSTM -> Epoch: 21, Loss: 1.3005220890045166, Train Accuracy: 0.7856622938344721, Validation Accuracy: 0.7671232876712328, Validation Loss: 0.20826903327553342\n"
     ]
    },
    {
     "name": "stderr",
     "output_type": "stream",
     "text": [
      "100%|████████████████████████████████████████████████████████████████████████████| 1612/1612 [11:04<00:00,  2.43it/s]\n",
      "100%|██████████████████████████████████████████████████████████████████████████████| 403/403 [00:49<00:00,  8.09it/s]\n"
     ]
    },
    {
     "name": "stdout",
     "output_type": "stream",
     "text": [
      "Next Word Model LSTM -> Epoch: 22, Loss: 1.0264627933502197, Train Accuracy: 0.7871594236463796, Validation Accuracy: 0.8013698630136986, Validation Loss: 0.20728822363744423\n"
     ]
    },
    {
     "name": "stderr",
     "output_type": "stream",
     "text": [
      "100%|████████████████████████████████████████████████████████████████████████████| 1612/1612 [11:05<00:00,  2.42it/s]\n",
      "100%|██████████████████████████████████████████████████████████████████████████████| 403/403 [00:49<00:00,  8.08it/s]\n"
     ]
    },
    {
     "name": "stdout",
     "output_type": "stream",
     "text": [
      "Next Word Model LSTM -> Epoch: 23, Loss: 1.071610689163208, Train Accuracy: 0.7903315191318301, Validation Accuracy: 0.7808219178082192, Validation Loss: 0.2083218228434603\n"
     ]
    },
    {
     "name": "stderr",
     "output_type": "stream",
     "text": [
      "100%|████████████████████████████████████████████████████████████████████████████| 1612/1612 [11:05<00:00,  2.42it/s]\n",
      "100%|██████████████████████████████████████████████████████████████████████████████| 403/403 [00:49<00:00,  8.11it/s]\n"
     ]
    },
    {
     "name": "stdout",
     "output_type": "stream",
     "text": [
      "Next Word Model LSTM -> Epoch: 24, Loss: 1.3013437986373901, Train Accuracy: 0.7921098777481844, Validation Accuracy: 0.7808219178082192, Validation Loss: 0.2069820457630259\n"
     ]
    },
    {
     "name": "stderr",
     "output_type": "stream",
     "text": [
      "100%|████████████████████████████████████████████████████████████████████████████| 1612/1612 [11:03<00:00,  2.43it/s]\n",
      "100%|██████████████████████████████████████████████████████████████████████████████| 403/403 [00:49<00:00,  8.14it/s]\n"
     ]
    },
    {
     "name": "stdout",
     "output_type": "stream",
     "text": [
      "Next Word Model LSTM -> Epoch: 25, Loss: 1.0901944637298584, Train Accuracy: 0.7928336283478635, Validation Accuracy: 0.7945205479452054, Validation Loss: 0.20601927962202035\n"
     ]
    },
    {
     "name": "stderr",
     "output_type": "stream",
     "text": [
      "100%|████████████████████████████████████████████████████████████████████████████| 1612/1612 [11:02<00:00,  2.43it/s]\n",
      "100%|██████████████████████████████████████████████████████████████████████████████| 403/403 [00:49<00:00,  8.10it/s]\n"
     ]
    },
    {
     "name": "stdout",
     "output_type": "stream",
     "text": [
      "Next Word Model LSTM -> Epoch: 26, Loss: 1.226469874382019, Train Accuracy: 0.7952695660804976, Validation Accuracy: 0.7602739726027398, Validation Loss: 0.20757753835047607\n"
     ]
    },
    {
     "name": "stderr",
     "output_type": "stream",
     "text": [
      "100%|████████████████████████████████████████████████████████████████████████████| 1612/1612 [11:04<00:00,  2.42it/s]\n",
      "100%|██████████████████████████████████████████████████████████████████████████████| 403/403 [00:49<00:00,  8.13it/s]\n"
     ]
    },
    {
     "name": "stdout",
     "output_type": "stream",
     "text": [
      "Next Word Model LSTM -> Epoch: 27, Loss: 1.1428838968276978, Train Accuracy: 0.797176131945938, Validation Accuracy: 0.7534246575342466, Validation Loss: 0.20799232306426216\n"
     ]
    },
    {
     "name": "stderr",
     "output_type": "stream",
     "text": [
      "100%|████████████████████████████████████████████████████████████████████████████| 1612/1612 [11:05<00:00,  2.42it/s]\n",
      "100%|██████████████████████████████████████████████████████████████████████████████| 403/403 [00:49<00:00,  8.10it/s]\n"
     ]
    },
    {
     "name": "stdout",
     "output_type": "stream",
     "text": [
      "Next Word Model LSTM -> Epoch: 28, Loss: 1.0229322910308838, Train Accuracy: 0.7989007262320303, Validation Accuracy: 0.821917808219178, Validation Loss: 0.20725205076605763\n"
     ]
    },
    {
     "name": "stderr",
     "output_type": "stream",
     "text": [
      "100%|████████████████████████████████████████████████████████████████████████████| 1612/1612 [11:06<00:00,  2.42it/s]\n",
      "100%|██████████████████████████████████████████████████████████████████████████████| 403/403 [00:49<00:00,  8.10it/s]\n"
     ]
    },
    {
     "name": "stdout",
     "output_type": "stream",
     "text": [
      "Next Word Model LSTM -> Epoch: 29, Loss: 0.959625244140625, Train Accuracy: 0.8015144998262999, Validation Accuracy: 0.8356164383561644, Validation Loss: 0.20715661884176537\n"
     ]
    },
    {
     "name": "stderr",
     "output_type": "stream",
     "text": [
      "100%|████████████████████████████████████████████████████████████████████████████| 1612/1612 [11:05<00:00,  2.42it/s]\n",
      "100%|██████████████████████████████████████████████████████████████████████████████| 403/403 [00:49<00:00,  8.09it/s]\n"
     ]
    },
    {
     "name": "stdout",
     "output_type": "stream",
     "text": [
      "Next Word Model LSTM -> Epoch: 30, Loss: 1.3204997777938843, Train Accuracy: 0.802742807986898, Validation Accuracy: 0.7054794520547946, Validation Loss: 0.2078589361822436\n"
     ]
    },
    {
     "name": "stderr",
     "output_type": "stream",
     "text": [
      "100%|████████████████████████████████████████████████████████████████████████████| 1612/1612 [11:05<00:00,  2.42it/s]\n",
      "100%|██████████████████████████████████████████████████████████████████████████████| 403/403 [00:49<00:00,  8.07it/s]\n"
     ]
    },
    {
     "name": "stdout",
     "output_type": "stream",
     "text": [
      "Next Word Model LSTM -> Epoch: 31, Loss: 1.118013620376587, Train Accuracy: 0.8051125742361329, Validation Accuracy: 0.7671232876712328, Validation Loss: 0.20747371663783812\n"
     ]
    },
    {
     "name": "stderr",
     "output_type": "stream",
     "text": [
      "100%|████████████████████████████████████████████████████████████████████████████| 1612/1612 [11:03<00:00,  2.43it/s]\n",
      "100%|██████████████████████████████████████████████████████████████████████████████| 403/403 [00:49<00:00,  8.07it/s]\n"
     ]
    },
    {
     "name": "stdout",
     "output_type": "stream",
     "text": [
      "Next Word Model LSTM -> Epoch: 32, Loss: 1.20975923538208, Train Accuracy: 0.8066510612251651, Validation Accuracy: 0.7534246575342466, Validation Loss: 0.20787966851447678\n"
     ]
    },
    {
     "name": "stderr",
     "output_type": "stream",
     "text": [
      "100%|████████████████████████████████████████████████████████████████████████████| 1612/1612 [11:03<00:00,  2.43it/s]\n",
      "100%|██████████████████████████████████████████████████████████████████████████████| 403/403 [00:49<00:00,  8.09it/s]\n"
     ]
    },
    {
     "name": "stdout",
     "output_type": "stream",
     "text": [
      "Next Word Model LSTM -> Epoch: 33, Loss: 1.201006293296814, Train Accuracy: 0.8079372694337376, Validation Accuracy: 0.7602739726027398, Validation Loss: 0.2086749797536472\n"
     ]
    },
    {
     "name": "stderr",
     "output_type": "stream",
     "text": [
      "100%|████████████████████████████████████████████████████████████████████████████| 1612/1612 [11:04<00:00,  2.42it/s]\n",
      "100%|██████████████████████████████████████████████████████████████████████████████| 403/403 [00:49<00:00,  8.09it/s]\n"
     ]
    },
    {
     "name": "stdout",
     "output_type": "stream",
     "text": [
      "Next Word Model LSTM -> Epoch: 34, Loss: 1.0351415872573853, Train Accuracy: 0.8098024781220533, Validation Accuracy: 0.815068493150685, Validation Loss: 0.20939147877862577\n"
     ]
    },
    {
     "name": "stderr",
     "output_type": "stream",
     "text": [
      "100%|████████████████████████████████████████████████████████████████████████████| 1612/1612 [11:05<00:00,  2.42it/s]\n",
      "100%|██████████████████████████████████████████████████████████████████████████████| 403/403 [00:49<00:00,  8.09it/s]\n"
     ]
    },
    {
     "name": "stdout",
     "output_type": "stream",
     "text": [
      "Next Word Model LSTM -> Epoch: 35, Loss: 1.0859289169311523, Train Accuracy: 0.8119902727919404, Validation Accuracy: 0.7465753424657534, Validation Loss: 0.20905077680147943\n"
     ]
    },
    {
     "name": "stderr",
     "output_type": "stream",
     "text": [
      "100%|████████████████████████████████████████████████████████████████████████████| 1612/1612 [11:05<00:00,  2.42it/s]\n",
      "100%|██████████████████████████████████████████████████████████████████████████████| 403/403 [00:49<00:00,  8.10it/s]\n"
     ]
    },
    {
     "name": "stdout",
     "output_type": "stream",
     "text": [
      "Next Word Model LSTM -> Epoch: 36, Loss: 0.9288241863250732, Train Accuracy: 0.8133178381776374, Validation Accuracy: 0.8493150684931506, Validation Loss: 0.2094960407547431\n"
     ]
    },
    {
     "name": "stderr",
     "output_type": "stream",
     "text": [
      "100%|████████████████████████████████████████████████████████████████████████████| 1612/1612 [11:04<00:00,  2.43it/s]\n",
      "100%|██████████████████████████████████████████████████████████████████████████████| 403/403 [00:49<00:00,  8.09it/s]\n"
     ]
    },
    {
     "name": "stdout",
     "output_type": "stream",
     "text": [
      "Next Word Model LSTM -> Epoch: 37, Loss: 1.1215046644210815, Train Accuracy: 0.815199589736803, Validation Accuracy: 0.8082191780821918, Validation Loss: 0.20922815785267768\n"
     ]
    },
    {
     "name": "stderr",
     "output_type": "stream",
     "text": [
      "100%|████████████████████████████████████████████████████████████████████████████| 1612/1612 [11:04<00:00,  2.43it/s]\n",
      "100%|██████████████████████████████████████████████████████████████████████████████| 403/403 [00:49<00:00,  8.08it/s]\n"
     ]
    },
    {
     "name": "stdout",
     "output_type": "stream",
     "text": [
      "Next Word Model LSTM -> Epoch: 38, Loss: 0.9773262739181519, Train Accuracy: 0.817213684262767, Validation Accuracy: 0.8424657534246576, Validation Loss: 0.21118017124882996\n"
     ]
    },
    {
     "name": "stderr",
     "output_type": "stream",
     "text": [
      "100%|████████████████████████████████████████████████████████████████████████████| 1612/1612 [11:04<00:00,  2.43it/s]\n",
      "100%|██████████████████████████████████████████████████████████████████████████████| 403/403 [00:49<00:00,  8.13it/s]\n"
     ]
    },
    {
     "name": "stdout",
     "output_type": "stream",
     "text": [
      "Next Word Model LSTM -> Epoch: 39, Loss: 1.0541894435882568, Train Accuracy: 0.8177802775893729, Validation Accuracy: 0.8356164383561644, Validation Loss: 0.21002952377784026\n"
     ]
    },
    {
     "name": "stderr",
     "output_type": "stream",
     "text": [
      "100%|████████████████████████████████████████████████████████████████████████████| 1612/1612 [11:04<00:00,  2.42it/s]\n",
      "100%|██████████████████████████████████████████████████████████████████████████████| 403/403 [00:49<00:00,  8.10it/s]\n"
     ]
    },
    {
     "name": "stdout",
     "output_type": "stream",
     "text": [
      "Next Word Model LSTM -> Epoch: 40, Loss: 1.0527615547180176, Train Accuracy: 0.8191326572813447, Validation Accuracy: 0.8082191780821918, Validation Loss: 0.21170114309808968\n"
     ]
    },
    {
     "name": "stderr",
     "output_type": "stream",
     "text": [
      "100%|████████████████████████████████████████████████████████████████████████████| 1612/1612 [11:05<00:00,  2.42it/s]\n",
      "100%|██████████████████████████████████████████████████████████████████████████████| 403/403 [00:49<00:00,  8.11it/s]\n"
     ]
    },
    {
     "name": "stdout",
     "output_type": "stream",
     "text": [
      "Next Word Model LSTM -> Epoch: 41, Loss: 1.121910810470581, Train Accuracy: 0.8202575724991314, Validation Accuracy: 0.7876712328767124, Validation Loss: 0.21196574299448362\n"
     ]
    },
    {
     "name": "stderr",
     "output_type": "stream",
     "text": [
      "100%|████████████████████████████████████████████████████████████████████████████| 1612/1612 [11:06<00:00,  2.42it/s]\n",
      "100%|██████████████████████████████████████████████████████████████████████████████| 403/403 [00:49<00:00,  8.08it/s]\n"
     ]
    },
    {
     "name": "stdout",
     "output_type": "stream",
     "text": [
      "Next Word Model LSTM -> Epoch: 42, Loss: 0.9672119617462158, Train Accuracy: 0.8215768664494036, Validation Accuracy: 0.821917808219178, Validation Loss: 0.2121894298743057\n"
     ]
    },
    {
     "name": "stderr",
     "output_type": "stream",
     "text": [
      "100%|████████████████████████████████████████████████████████████████████████████| 1612/1612 [11:04<00:00,  2.42it/s]\n",
      "100%|██████████████████████████████████████████████████████████████████████████████| 403/403 [00:49<00:00,  8.06it/s]\n"
     ]
    },
    {
     "name": "stdout",
     "output_type": "stream",
     "text": [
      "Next Word Model LSTM -> Epoch: 43, Loss: 1.088590145111084, Train Accuracy: 0.8242940329864845, Validation Accuracy: 0.7808219178082192, Validation Loss: 0.21209352692871816\n"
     ]
    },
    {
     "name": "stderr",
     "output_type": "stream",
     "text": [
      "100%|████████████████████████████████████████████████████████████████████████████| 1612/1612 [11:03<00:00,  2.43it/s]\n",
      "100%|██████████████████████████████████████████████████████████████████████████████| 403/403 [00:49<00:00,  8.07it/s]\n"
     ]
    },
    {
     "name": "stdout",
     "output_type": "stream",
     "text": [
      "Next Word Model LSTM -> Epoch: 44, Loss: 0.7816160917282104, Train Accuracy: 0.8250550050455756, Validation Accuracy: 0.9041095890410958, Validation Loss: 0.2124990096698476\n"
     ]
    },
    {
     "name": "stderr",
     "output_type": "stream",
     "text": [
      "100%|████████████████████████████████████████████████████████████████████████████| 1612/1612 [11:03<00:00,  2.43it/s]\n",
      "100%|██████████████████████████████████████████████████████████████████████████████| 403/403 [00:49<00:00,  8.09it/s]\n"
     ]
    },
    {
     "name": "stdout",
     "output_type": "stream",
     "text": [
      "Next Word Model LSTM -> Epoch: 45, Loss: 0.978705644607544, Train Accuracy: 0.8261054773445383, Validation Accuracy: 0.8287671232876712, Validation Loss: 0.21366902959944503\n"
     ]
    },
    {
     "name": "stderr",
     "output_type": "stream",
     "text": [
      "100%|████████████████████████████████████████████████████████████████████████████| 1612/1612 [11:04<00:00,  2.43it/s]\n",
      "100%|██████████████████████████████████████████████████████████████████████████████| 403/403 [00:49<00:00,  8.10it/s]\n"
     ]
    },
    {
     "name": "stdout",
     "output_type": "stream",
     "text": [
      "Next Word Model LSTM -> Epoch: 46, Loss: 1.1713712215423584, Train Accuracy: 0.8272055782560506, Validation Accuracy: 0.7671232876712328, Validation Loss: 0.2123950613137323\n"
     ]
    },
    {
     "name": "stderr",
     "output_type": "stream",
     "text": [
      "100%|████████████████████████████████████████████████████████████████████████████| 1612/1612 [11:04<00:00,  2.42it/s]\n",
      "100%|██████████████████████████████████████████████████████████████████████████████| 403/403 [00:49<00:00,  8.09it/s]\n"
     ]
    },
    {
     "name": "stdout",
     "output_type": "stream",
     "text": [
      "Next Word Model LSTM -> Epoch: 47, Loss: 1.0096975564956665, Train Accuracy: 0.8287233866565203, Validation Accuracy: 0.8287671232876712, Validation Loss: 0.21415506034690643\n"
     ]
    },
    {
     "name": "stderr",
     "output_type": "stream",
     "text": [
      "100%|████████████████████████████████████████████████████████████████████████████| 1612/1612 [11:05<00:00,  2.42it/s]\n",
      "100%|██████████████████████████████████████████████████████████████████████████████| 403/403 [00:49<00:00,  8.08it/s]\n"
     ]
    },
    {
     "name": "stdout",
     "output_type": "stream",
     "text": [
      "Next Word Model LSTM -> Epoch: 48, Loss: 1.0690202713012695, Train Accuracy: 0.8299723734056809, Validation Accuracy: 0.815068493150685, Validation Loss: 0.21371796434328993\n"
     ]
    },
    {
     "name": "stderr",
     "output_type": "stream",
     "text": [
      "100%|████████████████████████████████████████████████████████████████████████████| 1612/1612 [11:04<00:00,  2.43it/s]\n",
      "100%|██████████████████████████████████████████████████████████████████████████████| 403/403 [00:49<00:00,  8.07it/s]\n"
     ]
    },
    {
     "name": "stdout",
     "output_type": "stream",
     "text": [
      "Next Word Model LSTM -> Epoch: 49, Loss: 0.9988343715667725, Train Accuracy: 0.8307829740773214, Validation Accuracy: 0.8287671232876712, Validation Loss: 0.21442631947163796\n"
     ]
    },
    {
     "name": "stderr",
     "output_type": "stream",
     "text": [
      "100%|████████████████████████████████████████████████████████████████████████████| 1612/1612 [11:04<00:00,  2.42it/s]\n",
      "100%|██████████████████████████████████████████████████████████████████████████████| 403/403 [00:49<00:00,  8.09it/s]\n"
     ]
    },
    {
     "name": "stdout",
     "output_type": "stream",
     "text": [
      "Next Word Model LSTM -> Epoch: 50, Loss: 0.9637407660484314, Train Accuracy: 0.8324579397508644, Validation Accuracy: 0.8493150684931506, Validation Loss: 0.21586574370744624\n"
     ]
    },
    {
     "name": "stderr",
     "output_type": "stream",
     "text": [
      "100%|████████████████████████████████████████████████████████████████████████████| 1612/1612 [11:04<00:00,  2.42it/s]\n",
      "100%|██████████████████████████████████████████████████████████████████████████████| 403/403 [00:49<00:00,  8.13it/s]\n"
     ]
    },
    {
     "name": "stdout",
     "output_type": "stream",
     "text": [
      "Next Word Model LSTM -> Epoch: 51, Loss: 0.9741227626800537, Train Accuracy: 0.8326233684593625, Validation Accuracy: 0.8356164383561644, Validation Loss: 0.21567510337997728\n"
     ]
    },
    {
     "name": "stderr",
     "output_type": "stream",
     "text": [
      "100%|████████████████████████████████████████████████████████████████████████████| 1612/1612 [11:05<00:00,  2.42it/s]\n",
      "100%|██████████████████████████████████████████████████████████████████████████████| 403/403 [00:49<00:00,  8.09it/s]\n"
     ]
    },
    {
     "name": "stdout",
     "output_type": "stream",
     "text": [
      "Next Word Model LSTM -> Epoch: 52, Loss: 1.0327867269515991, Train Accuracy: 0.8344182699465665, Validation Accuracy: 0.8082191780821918, Validation Loss: 0.21699684781584208\n"
     ]
    },
    {
     "name": "stderr",
     "output_type": "stream",
     "text": [
      "100%|████████████████████████████████████████████████████████████████████████████| 1612/1612 [11:06<00:00,  2.42it/s]\n",
      "100%|██████████████████████████████████████████████████████████████████████████████| 403/403 [00:49<00:00,  8.07it/s]\n"
     ]
    },
    {
     "name": "stdout",
     "output_type": "stream",
     "text": [
      "Next Word Model LSTM -> Epoch: 53, Loss: 0.9798791408538818, Train Accuracy: 0.8357582424854009, Validation Accuracy: 0.8424657534246576, Validation Loss: 0.2172767991017766\n"
     ]
    },
    {
     "name": "stderr",
     "output_type": "stream",
     "text": [
      "100%|████████████████████████████████████████████████████████████████████████████| 1612/1612 [11:06<00:00,  2.42it/s]\n",
      "100%|██████████████████████████████████████████████████████████████████████████████| 403/403 [00:49<00:00,  8.07it/s]\n"
     ]
    },
    {
     "name": "stdout",
     "output_type": "stream",
     "text": [
      "Next Word Model LSTM -> Epoch: 54, Loss: 1.0517046451568604, Train Accuracy: 0.8358285496865125, Validation Accuracy: 0.8013698630136986, Validation Loss: 0.21610320449825962\n"
     ]
    },
    {
     "name": "stderr",
     "output_type": "stream",
     "text": [
      "100%|████████████████████████████████████████████████████████████████████████████| 1612/1612 [11:05<00:00,  2.42it/s]\n",
      "100%|██████████████████████████████████████████████████████████████████████████████| 403/403 [00:49<00:00,  8.06it/s]\n"
     ]
    },
    {
     "name": "stdout",
     "output_type": "stream",
     "text": [
      "Next Word Model LSTM -> Epoch: 55, Loss: 0.8997944593429565, Train Accuracy: 0.8364944002382173, Validation Accuracy: 0.863013698630137, Validation Loss: 0.2170289375536136\n"
     ]
    },
    {
     "name": "stderr",
     "output_type": "stream",
     "text": [
      "100%|████████████████████████████████████████████████████████████████████████████| 1612/1612 [11:03<00:00,  2.43it/s]\n",
      "100%|██████████████████████████████████████████████████████████████████████████████| 403/403 [00:50<00:00,  8.06it/s]\n"
     ]
    },
    {
     "name": "stdout",
     "output_type": "stream",
     "text": [
      "Next Word Model LSTM -> Epoch: 56, Loss: 1.0953096151351929, Train Accuracy: 0.8380783801220864, Validation Accuracy: 0.8013698630136986, Validation Loss: 0.2187318979360702\n"
     ]
    },
    {
     "name": "stderr",
     "output_type": "stream",
     "text": [
      "100%|████████████████████████████████████████████████████████████████████████████| 1612/1612 [11:03<00:00,  2.43it/s]\n",
      "100%|██████████████████████████████████████████████████████████████████████████████| 403/403 [00:49<00:00,  8.09it/s]\n"
     ]
    },
    {
     "name": "stdout",
     "output_type": "stream",
     "text": [
      "Next Word Model LSTM -> Epoch: 57, Loss: 1.016419529914856, Train Accuracy: 0.838413373256795, Validation Accuracy: 0.8287671232876712, Validation Loss: 0.2174828130969453\n"
     ]
    },
    {
     "name": "stderr",
     "output_type": "stream",
     "text": [
      "100%|████████████████████████████████████████████████████████████████████████████| 1612/1612 [11:04<00:00,  2.43it/s]\n",
      "100%|██████████████████████████████████████████████████████████████████████████████| 403/403 [00:49<00:00,  8.09it/s]\n"
     ]
    },
    {
     "name": "stdout",
     "output_type": "stream",
     "text": [
      "Next Word Model LSTM -> Epoch: 58, Loss: 0.9056922197341919, Train Accuracy: 0.8397202600539297, Validation Accuracy: 0.8493150684931506, Validation Loss: 0.21931271272937458\n"
     ]
    },
    {
     "name": "stderr",
     "output_type": "stream",
     "text": [
      "100%|████████████████████████████████████████████████████████████████████████████| 1612/1612 [11:04<00:00,  2.42it/s]\n",
      "100%|██████████████████████████████████████████████████████████████████████████████| 403/403 [00:49<00:00,  8.10it/s]\n"
     ]
    },
    {
     "name": "stdout",
     "output_type": "stream",
     "text": [
      "Next Word Model LSTM -> Epoch: 59, Loss: 0.9679072499275208, Train Accuracy: 0.8413621399857731, Validation Accuracy: 0.815068493150685, Validation Loss: 0.21969726770057751\n"
     ]
    },
    {
     "name": "stderr",
     "output_type": "stream",
     "text": [
      "100%|████████████████████████████████████████████████████████████████████████████| 1612/1612 [11:04<00:00,  2.42it/s]\n",
      "100%|██████████████████████████████████████████████████████████████████████████████| 403/403 [00:49<00:00,  8.09it/s]\n"
     ]
    },
    {
     "name": "stdout",
     "output_type": "stream",
     "text": [
      "Next Word Model LSTM -> Epoch: 60, Loss: 0.9377787113189697, Train Accuracy: 0.8410064682625022, Validation Accuracy: 0.8767123287671232, Validation Loss: 0.21997252683643154\n"
     ]
    },
    {
     "name": "stderr",
     "output_type": "stream",
     "text": [
      "100%|████████████████████████████████████████████████████████████████████████████| 1612/1612 [11:04<00:00,  2.43it/s]\n",
      "100%|██████████████████████████████████████████████████████████████████████████████| 403/403 [00:49<00:00,  8.08it/s]\n"
     ]
    },
    {
     "name": "stdout",
     "output_type": "stream",
     "text": [
      "Next Word Model LSTM -> Epoch: 61, Loss: 0.9624018669128418, Train Accuracy: 0.8429543913050671, Validation Accuracy: 0.8424657534246576, Validation Loss: 0.22025189465645334\n"
     ]
    },
    {
     "name": "stderr",
     "output_type": "stream",
     "text": [
      "100%|████████████████████████████████████████████████████████████████████████████| 1612/1612 [11:04<00:00,  2.43it/s]\n",
      "100%|██████████████████████████████████████████████████████████████████████████████| 403/403 [00:49<00:00,  8.09it/s]\n"
     ]
    },
    {
     "name": "stdout",
     "output_type": "stream",
     "text": [
      "Next Word Model LSTM -> Epoch: 62, Loss: 1.0659376382827759, Train Accuracy: 0.8432521629803637, Validation Accuracy: 0.8424657534246576, Validation Loss: 0.220136946805906\n"
     ]
    },
    {
     "name": "stderr",
     "output_type": "stream",
     "text": [
      "100%|████████████████████████████████████████████████████████████████████████████| 1612/1612 [11:04<00:00,  2.42it/s]\n",
      "100%|██████████████████████████████████████████████████████████████████████████████| 403/403 [00:49<00:00,  8.13it/s]\n"
     ]
    },
    {
     "name": "stdout",
     "output_type": "stream",
     "text": [
      "Next Word Model LSTM -> Epoch: 63, Loss: 0.9390897750854492, Train Accuracy: 0.8440668993697166, Validation Accuracy: 0.8561643835616438, Validation Loss: 0.22098590756843486\n"
     ]
    },
    {
     "name": "stderr",
     "output_type": "stream",
     "text": [
      "100%|████████████████████████████████████████████████████████████████████████████| 1612/1612 [11:04<00:00,  2.43it/s]\n",
      "100%|██████████████████████████████████████████████████████████████████████████████| 403/403 [00:49<00:00,  8.11it/s]\n"
     ]
    },
    {
     "name": "stdout",
     "output_type": "stream",
     "text": [
      "Next Word Model LSTM -> Epoch: 64, Loss: 0.8945363759994507, Train Accuracy: 0.8448071928402455, Validation Accuracy: 0.8561643835616438, Validation Loss: 0.2218492795636998\n"
     ]
    },
    {
     "name": "stderr",
     "output_type": "stream",
     "text": [
      "100%|████████████████████████████████████████████████████████████████████████████| 1612/1612 [11:05<00:00,  2.42it/s]\n",
      "100%|██████████████████████████████████████████████████████████████████████████████| 403/403 [00:49<00:00,  8.07it/s]\n"
     ]
    },
    {
     "name": "stdout",
     "output_type": "stream",
     "text": [
      "Next Word Model LSTM -> Epoch: 65, Loss: 0.9467988014221191, Train Accuracy: 0.8450139787258681, Validation Accuracy: 0.863013698630137, Validation Loss: 0.22077228657102724\n"
     ]
    },
    {
     "name": "stderr",
     "output_type": "stream",
     "text": [
      "100%|████████████████████████████████████████████████████████████████████████████| 1612/1612 [11:05<00:00,  2.42it/s]\n",
      "100%|██████████████████████████████████████████████████████████████████████████████| 403/403 [00:49<00:00,  8.08it/s]\n"
     ]
    },
    {
     "name": "stdout",
     "output_type": "stream",
     "text": [
      "Next Word Model LSTM -> Epoch: 66, Loss: 0.9863800406455994, Train Accuracy: 0.846221608297904, Validation Accuracy: 0.8287671232876712, Validation Loss: 0.22175370984760656\n"
     ]
    },
    {
     "name": "stderr",
     "output_type": "stream",
     "text": [
      "100%|████████████████████████████████████████████████████████████████████████████| 1612/1612 [11:04<00:00,  2.43it/s]\n",
      "100%|██████████████████████████████████████████████████████████████████████████████| 403/403 [00:49<00:00,  8.07it/s]\n"
     ]
    },
    {
     "name": "stdout",
     "output_type": "stream",
     "text": [
      "Next Word Model LSTM -> Epoch: 67, Loss: 0.9661495089530945, Train Accuracy: 0.8468295588016345, Validation Accuracy: 0.8287671232876712, Validation Loss: 0.22246031163860866\n"
     ]
    },
    {
     "name": "stderr",
     "output_type": "stream",
     "text": [
      "100%|████████████████████████████████████████████████████████████████████████████| 1612/1612 [11:03<00:00,  2.43it/s]\n",
      "100%|██████████████████████████████████████████████████████████████████████████████| 403/403 [00:50<00:00,  8.05it/s]\n"
     ]
    },
    {
     "name": "stdout",
     "output_type": "stream",
     "text": [
      "Next Word Model LSTM -> Epoch: 68, Loss: 0.9652541875839233, Train Accuracy: 0.8475863951430131, Validation Accuracy: 0.8493150684931506, Validation Loss: 0.22173053690143948\n"
     ]
    },
    {
     "name": "stderr",
     "output_type": "stream",
     "text": [
      "100%|████████████████████████████████████████████████████████████████████████████| 1612/1612 [11:03<00:00,  2.43it/s]\n",
      "100%|██████████████████████████████████████████████████████████████████████████████| 403/403 [00:49<00:00,  8.08it/s]\n"
     ]
    },
    {
     "name": "stdout",
     "output_type": "stream",
     "text": [
      "Next Word Model LSTM -> Epoch: 69, Loss: 0.9471073746681213, Train Accuracy: 0.8484590315803404, Validation Accuracy: 0.7945205479452054, Validation Loss: 0.2210205669300943\n"
     ]
    },
    {
     "name": "stderr",
     "output_type": "stream",
     "text": [
      "100%|████████████████████████████████████████████████████████████████████████████| 1612/1612 [11:04<00:00,  2.43it/s]\n",
      "100%|██████████████████████████████████████████████████████████████████████████████| 403/403 [00:49<00:00,  8.09it/s]\n"
     ]
    },
    {
     "name": "stdout",
     "output_type": "stream",
     "text": [
      "Next Word Model LSTM -> Epoch: 70, Loss: 1.0438932180404663, Train Accuracy: 0.8494681467021787, Validation Accuracy: 0.7945205479452054, Validation Loss: 0.22222779362254425\n"
     ]
    },
    {
     "name": "stderr",
     "output_type": "stream",
     "text": [
      "100%|████████████████████████████████████████████████████████████████████████████| 1612/1612 [11:05<00:00,  2.42it/s]\n",
      "100%|██████████████████████████████████████████████████████████████████████████████| 403/403 [00:49<00:00,  8.09it/s]\n"
     ]
    },
    {
     "name": "stdout",
     "output_type": "stream",
     "text": [
      "Next Word Model LSTM -> Epoch: 71, Loss: 0.8894978761672974, Train Accuracy: 0.8493399394530927, Validation Accuracy: 0.863013698630137, Validation Loss: 0.22276030372792563\n"
     ]
    },
    {
     "name": "stderr",
     "output_type": "stream",
     "text": [
      "100%|████████████████████████████████████████████████████████████████████████████| 1612/1612 [11:05<00:00,  2.42it/s]\n",
      "100%|██████████████████████████████████████████████████████████████████████████████| 403/403 [00:49<00:00,  8.09it/s]\n"
     ]
    },
    {
     "name": "stdout",
     "output_type": "stream",
     "text": [
      "Next Word Model LSTM -> Epoch: 72, Loss: 0.9377372860908508, Train Accuracy: 0.8500181971579348, Validation Accuracy: 0.863013698630137, Validation Loss: 0.22365153837900906\n"
     ]
    },
    {
     "name": "stderr",
     "output_type": "stream",
     "text": [
      "100%|████████████████████████████████████████████████████████████████████████████| 1612/1612 [11:04<00:00,  2.43it/s]\n",
      "100%|██████████████████████████████████████████████████████████████████████████████| 403/403 [00:49<00:00,  8.07it/s]\n"
     ]
    },
    {
     "name": "stdout",
     "output_type": "stream",
     "text": [
      "Next Word Model LSTM -> Epoch: 73, Loss: 0.986905574798584, Train Accuracy: 0.850129861536171, Validation Accuracy: 0.815068493150685, Validation Loss: 0.22510616560038818\n"
     ]
    },
    {
     "name": "stderr",
     "output_type": "stream",
     "text": [
      "100%|████████████████████████████████████████████████████████████████████████████| 1612/1612 [11:04<00:00,  2.42it/s]\n",
      "100%|██████████████████████████████████████████████████████████████████████████████| 403/403 [00:49<00:00,  8.09it/s]\n"
     ]
    },
    {
     "name": "stdout",
     "output_type": "stream",
     "text": [
      "Next Word Model LSTM -> Epoch: 74, Loss: 0.9247961044311523, Train Accuracy: 0.8511265695048719, Validation Accuracy: 0.8767123287671232, Validation Loss: 0.22535208488132275\n"
     ]
    },
    {
     "name": "stderr",
     "output_type": "stream",
     "text": [
      "100%|████████████████████████████████████████████████████████████████████████████| 1612/1612 [11:04<00:00,  2.43it/s]\n",
      "100%|██████████████████████████████████████████████████████████████████████████████| 403/403 [00:49<00:00,  8.19it/s]\n"
     ]
    },
    {
     "name": "stdout",
     "output_type": "stream",
     "text": [
      "Next Word Model LSTM -> Epoch: 75, Loss: 0.9332057237625122, Train Accuracy: 0.8511886052705586, Validation Accuracy: 0.8287671232876712, Validation Loss: 0.22483354403218547\n"
     ]
    },
    {
     "name": "stderr",
     "output_type": "stream",
     "text": [
      "100%|████████████████████████████████████████████████████████████████████████████| 1612/1612 [11:03<00:00,  2.43it/s]\n",
      "100%|██████████████████████████████████████████████████████████████████████████████| 403/403 [00:49<00:00,  8.11it/s]\n"
     ]
    },
    {
     "name": "stdout",
     "output_type": "stream",
     "text": [
      "Next Word Model LSTM -> Epoch: 76, Loss: 1.0804164409637451, Train Accuracy: 0.8520777845787358, Validation Accuracy: 0.7808219178082192, Validation Loss: 0.22518458801150315\n"
     ]
    },
    {
     "name": "stderr",
     "output_type": "stream",
     "text": [
      "100%|████████████████████████████████████████████████████████████████████████████| 1612/1612 [11:05<00:00,  2.42it/s]\n",
      "100%|██████████████████████████████████████████████████████████████████████████████| 403/403 [00:49<00:00,  8.10it/s]\n"
     ]
    },
    {
     "name": "stdout",
     "output_type": "stream",
     "text": [
      "Next Word Model LSTM -> Epoch: 77, Loss: 1.0157912969589233, Train Accuracy: 0.8529421495806382, Validation Accuracy: 0.8493150684931506, Validation Loss: 0.2266023879197713\n"
     ]
    },
    {
     "name": "stderr",
     "output_type": "stream",
     "text": [
      "100%|████████████████████████████████████████████████████████████████████████████| 1612/1612 [11:04<00:00,  2.43it/s]\n",
      "100%|██████████████████████████████████████████████████████████████████████████████| 403/403 [00:49<00:00,  8.15it/s]\n"
     ]
    },
    {
     "name": "stdout",
     "output_type": "stream",
     "text": [
      "Next Word Model LSTM -> Epoch: 78, Loss: 0.932008683681488, Train Accuracy: 0.853095171135999, Validation Accuracy: 0.8835616438356164, Validation Loss: 0.22636240805153235\n"
     ]
    },
    {
     "name": "stderr",
     "output_type": "stream",
     "text": [
      "100%|████████████████████████████████████████████████████████████████████████████| 1612/1612 [11:03<00:00,  2.43it/s]\n",
      "100%|██████████████████████████████████████████████████████████████████████████████| 403/403 [00:49<00:00,  8.14it/s]\n"
     ]
    },
    {
     "name": "stdout",
     "output_type": "stream",
     "text": [
      "Next Word Model LSTM -> Epoch: 79, Loss: 0.8648178577423096, Train Accuracy: 0.8540918791046999, Validation Accuracy: 0.8698630136986302, Validation Loss: 0.22589967977785883\n"
     ]
    },
    {
     "name": "stderr",
     "output_type": "stream",
     "text": [
      "100%|████████████████████████████████████████████████████████████████████████████| 1612/1612 [11:02<00:00,  2.43it/s]\n",
      "100%|██████████████████████████████████████████████████████████████████████████████| 403/403 [00:49<00:00,  8.12it/s]\n"
     ]
    },
    {
     "name": "stdout",
     "output_type": "stream",
     "text": [
      "Next Word Model LSTM -> Epoch: 80, Loss: 0.9116947054862976, Train Accuracy: 0.8541870006120862, Validation Accuracy: 0.8424657534246576, Validation Loss: 0.22605054713888564\n"
     ]
    },
    {
     "name": "stderr",
     "output_type": "stream",
     "text": [
      "100%|████████████████████████████████████████████████████████████████████████████| 1612/1612 [11:02<00:00,  2.43it/s]\n",
      "100%|██████████████████████████████████████████████████████████████████████████████| 403/403 [00:49<00:00,  8.15it/s]\n"
     ]
    },
    {
     "name": "stdout",
     "output_type": "stream",
     "text": [
      "Next Word Model LSTM -> Epoch: 81, Loss: 1.1017968654632568, Train Accuracy: 0.8543276150143095, Validation Accuracy: 0.8493150684931506, Validation Loss: 0.2264896446825756\n"
     ]
    },
    {
     "name": "stderr",
     "output_type": "stream",
     "text": [
      "100%|████████████████████████████████████████████████████████████████████████████| 1612/1612 [11:03<00:00,  2.43it/s]\n",
      "100%|██████████████████████████████████████████████████████████████████████████████| 403/403 [00:49<00:00,  8.08it/s]\n"
     ]
    },
    {
     "name": "stdout",
     "output_type": "stream",
     "text": [
      "Next Word Model LSTM -> Epoch: 82, Loss: 0.944216787815094, Train Accuracy: 0.8556345018114444, Validation Accuracy: 0.8287671232876712, Validation Loss: 0.22926811470206684\n"
     ]
    },
    {
     "name": "stderr",
     "output_type": "stream",
     "text": [
      "100%|████████████████████████████████████████████████████████████████████████████| 1612/1612 [11:04<00:00,  2.43it/s]\n",
      "100%|██████████████████████████████████████████████████████████████████████████████| 403/403 [00:49<00:00,  8.16it/s]\n"
     ]
    },
    {
     "name": "stdout",
     "output_type": "stream",
     "text": [
      "Next Word Model LSTM -> Epoch: 83, Loss: 0.9246605634689331, Train Accuracy: 0.8551258085328128, Validation Accuracy: 0.8493150684931506, Validation Loss: 0.2291120625940528\n"
     ]
    },
    {
     "name": "stderr",
     "output_type": "stream",
     "text": [
      "100%|████████████████████████████████████████████████████████████████████████████| 1612/1612 [11:02<00:00,  2.43it/s]\n",
      "100%|██████████████████████████████████████████████████████████████████████████████| 403/403 [00:49<00:00,  8.18it/s]\n"
     ]
    },
    {
     "name": "stdout",
     "output_type": "stream",
     "text": [
      "Next Word Model LSTM -> Epoch: 84, Loss: 0.7953599691390991, Train Accuracy: 0.8561762808317755, Validation Accuracy: 0.8972602739726028, Validation Loss: 0.22848790457904242\n"
     ]
    },
    {
     "name": "stderr",
     "output_type": "stream",
     "text": [
      "100%|████████████████████████████████████████████████████████████████████████████| 1612/1612 [11:02<00:00,  2.43it/s]\n",
      "100%|██████████████████████████████████████████████████████████████████████████████| 403/403 [00:49<00:00,  8.15it/s]\n"
     ]
    },
    {
     "name": "stdout",
     "output_type": "stream",
     "text": [
      "Next Word Model LSTM -> Epoch: 85, Loss: 0.9652248620986938, Train Accuracy: 0.856482323942497, Validation Accuracy: 0.863013698630137, Validation Loss: 0.22863734857831222\n"
     ]
    },
    {
     "name": "stderr",
     "output_type": "stream",
     "text": [
      "100%|████████████████████████████████████████████████████████████████████████████| 1612/1612 [11:02<00:00,  2.43it/s]\n",
      "100%|██████████████████████████████████████████████████████████████████████████████| 403/403 [00:49<00:00,  8.15it/s]\n"
     ]
    },
    {
     "name": "stdout",
     "output_type": "stream",
     "text": [
      "Next Word Model LSTM -> Epoch: 86, Loss: 0.7740799188613892, Train Accuracy: 0.8571978031067512, Validation Accuracy: 0.9041095890410958, Validation Loss: 0.22845277245820636\n"
     ]
    },
    {
     "name": "stderr",
     "output_type": "stream",
     "text": [
      "100%|████████████████████████████████████████████████████████████████████████████| 1612/1612 [11:02<00:00,  2.43it/s]\n",
      "100%|██████████████████████████████████████████████████████████████████████████████| 403/403 [00:49<00:00,  8.19it/s]\n"
     ]
    },
    {
     "name": "stdout",
     "output_type": "stream",
     "text": [
      "Next Word Model LSTM -> Epoch: 87, Loss: 0.9437310099601746, Train Accuracy: 0.8573673675329617, Validation Accuracy: 0.8561643835616438, Validation Loss: 0.2295455284779412\n"
     ]
    },
    {
     "name": "stderr",
     "output_type": "stream",
     "text": [
      "100%|████████████████████████████████████████████████████████████████████████████| 1612/1612 [11:03<00:00,  2.43it/s]\n",
      "100%|██████████████████████████████████████████████████████████████████████████████| 403/403 [00:49<00:00,  8.17it/s]\n"
     ]
    },
    {
     "name": "stdout",
     "output_type": "stream",
     "text": [
      "Next Word Model LSTM -> Epoch: 88, Loss: 0.957123875617981, Train Accuracy: 0.8574128604277986, Validation Accuracy: 0.8493150684931506, Validation Loss: 0.2313211186728104\n"
     ]
    },
    {
     "name": "stderr",
     "output_type": "stream",
     "text": [
      "100%|████████████████████████████████████████████████████████████████████████████| 1612/1612 [11:03<00:00,  2.43it/s]\n",
      "100%|██████████████████████████████████████████████████████████████████████████████| 403/403 [00:49<00:00,  8.17it/s]\n"
     ]
    },
    {
     "name": "stdout",
     "output_type": "stream",
     "text": [
      "Next Word Model LSTM -> Epoch: 89, Loss: 0.969992995262146, Train Accuracy: 0.8581283395920528, Validation Accuracy: 0.8493150684931506, Validation Loss: 0.22981322727551792\n"
     ]
    },
    {
     "name": "stderr",
     "output_type": "stream",
     "text": [
      "100%|████████████████████████████████████████████████████████████████████████████| 1612/1612 [11:03<00:00,  2.43it/s]\n",
      "100%|██████████████████████████████████████████████████████████████████████████████| 403/403 [00:49<00:00,  8.08it/s]\n"
     ]
    },
    {
     "name": "stdout",
     "output_type": "stream",
     "text": [
      "Next Word Model LSTM -> Epoch: 90, Loss: 0.9560350179672241, Train Accuracy: 0.8592036261972903, Validation Accuracy: 0.821917808219178, Validation Loss: 0.23042792524462624\n"
     ]
    },
    {
     "name": "stderr",
     "output_type": "stream",
     "text": [
      "100%|████████████████████████████████████████████████████████████████████████████| 1612/1612 [11:04<00:00,  2.42it/s]\n",
      "100%|██████████████████████████████████████████████████████████████████████████████| 403/403 [00:49<00:00,  8.06it/s]\n"
     ]
    },
    {
     "name": "stdout",
     "output_type": "stream",
     "text": [
      "Next Word Model LSTM -> Epoch: 91, Loss: 0.89696204662323, Train Accuracy: 0.8586039471289848, Validation Accuracy: 0.8561643835616438, Validation Loss: 0.228959723266057\n"
     ]
    },
    {
     "name": "stderr",
     "output_type": "stream",
     "text": [
      "100%|████████████████████████████████████████████████████████████████████████████| 1612/1612 [11:03<00:00,  2.43it/s]\n",
      "100%|██████████████████████████████████████████████████████████████████████████████| 403/403 [00:50<00:00,  8.05it/s]\n"
     ]
    },
    {
     "name": "stdout",
     "output_type": "stream",
     "text": [
      "Next Word Model LSTM -> Epoch: 92, Loss: 1.015053153038025, Train Accuracy: 0.8593525120349386, Validation Accuracy: 0.8424657534246576, Validation Loss: 0.22985049064892923\n"
     ]
    },
    {
     "name": "stderr",
     "output_type": "stream",
     "text": [
      "100%|████████████████████████████████████████████████████████████████████████████| 1612/1612 [11:03<00:00,  2.43it/s]\n",
      "100%|██████████████████████████████████████████████████████████████████████████████| 403/403 [00:49<00:00,  8.09it/s]\n"
     ]
    },
    {
     "name": "stdout",
     "output_type": "stream",
     "text": [
      "Next Word Model LSTM -> Epoch: 93, Loss: 0.9707801342010498, Train Accuracy: 0.8593359691640887, Validation Accuracy: 0.8287671232876712, Validation Loss: 0.23086483644120626\n"
     ]
    },
    {
     "name": "stderr",
     "output_type": "stream",
     "text": [
      "100%|████████████████████████████████████████████████████████████████████████████| 1612/1612 [11:04<00:00,  2.42it/s]\n",
      "100%|██████████████████████████████████████████████████████████████████████████████| 403/403 [00:49<00:00,  8.14it/s]\n"
     ]
    },
    {
     "name": "stdout",
     "output_type": "stream",
     "text": [
      "Next Word Model LSTM -> Epoch: 94, Loss: 0.8739818930625916, Train Accuracy: 0.8595551622028487, Validation Accuracy: 0.8356164383561644, Validation Loss: 0.23167956626679115\n"
     ]
    },
    {
     "name": "stderr",
     "output_type": "stream",
     "text": [
      "100%|████████████████████████████████████████████████████████████████████████████| 1612/1612 [11:13<00:00,  2.39it/s]\n",
      "100%|██████████████████████████████████████████████████████████████████████████████| 403/403 [00:49<00:00,  8.15it/s]\n"
     ]
    },
    {
     "name": "stdout",
     "output_type": "stream",
     "text": [
      "Next Word Model LSTM -> Epoch: 95, Loss: 0.8367642164230347, Train Accuracy: 0.8600142268689308, Validation Accuracy: 0.8767123287671232, Validation Loss: 0.23199023887537007\n"
     ]
    },
    {
     "name": "stderr",
     "output_type": "stream",
     "text": [
      "100%|████████████████████████████████████████████████████████████████████████████| 1612/1612 [11:02<00:00,  2.43it/s]\n",
      "100%|██████████████████████████████████████████████████████████████████████████████| 403/403 [00:49<00:00,  8.14it/s]\n"
     ]
    },
    {
     "name": "stdout",
     "output_type": "stream",
     "text": [
      "Next Word Model LSTM -> Epoch: 96, Loss: 0.8765193223953247, Train Accuracy: 0.8608496418468461, Validation Accuracy: 0.863013698630137, Validation Loss: 0.23221741155682038\n"
     ]
    },
    {
     "name": "stderr",
     "output_type": "stream",
     "text": [
      "100%|████████████████████████████████████████████████████████████████████████████| 1612/1612 [11:03<00:00,  2.43it/s]\n",
      "100%|██████████████████████████████████████████████████████████████████████████████| 403/403 [00:49<00:00,  8.09it/s]\n"
     ]
    },
    {
     "name": "stdout",
     "output_type": "stream",
     "text": [
      "Next Word Model LSTM -> Epoch: 97, Loss: 0.9036422371864319, Train Accuracy: 0.8608248275405714, Validation Accuracy: 0.8356164383561644, Validation Loss: 0.23304623025664917\n"
     ]
    },
    {
     "name": "stderr",
     "output_type": "stream",
     "text": [
      "100%|████████████████████████████████████████████████████████████████████████████| 1612/1612 [11:04<00:00,  2.43it/s]\n",
      "100%|██████████████████████████████████████████████████████████████████████████████| 403/403 [00:49<00:00,  8.08it/s]\n"
     ]
    },
    {
     "name": "stdout",
     "output_type": "stream",
     "text": [
      "Next Word Model LSTM -> Epoch: 98, Loss: 0.8835101127624512, Train Accuracy: 0.8605808201955367, Validation Accuracy: 0.8561643835616438, Validation Loss: 0.2316684858869265\n"
     ]
    },
    {
     "name": "stderr",
     "output_type": "stream",
     "text": [
      "100%|████████████████████████████████████████████████████████████████████████████| 1612/1612 [11:04<00:00,  2.43it/s]\n",
      "100%|██████████████████████████████████████████████████████████████████████████████| 403/403 [00:49<00:00,  8.12it/s]\n"
     ]
    },
    {
     "name": "stdout",
     "output_type": "stream",
     "text": [
      "Next Word Model LSTM -> Epoch: 99, Loss: 0.9556291103363037, Train Accuracy: 0.8613293851014905, Validation Accuracy: 0.8424657534246576, Validation Loss: 0.2338819419298498\n"
     ]
    },
    {
     "name": "stderr",
     "output_type": "stream",
     "text": [
      "100%|████████████████████████████████████████████████████████████████████████████| 1612/1612 [11:04<00:00,  2.42it/s]\n",
      "100%|██████████████████████████████████████████████████████████████████████████████| 403/403 [00:49<00:00,  8.11it/s]\n"
     ]
    },
    {
     "name": "stdout",
     "output_type": "stream",
     "text": [
      "Next Word Model LSTM -> Epoch: 100, Loss: 0.9986038208007812, Train Accuracy: 0.8612259921586792, Validation Accuracy: 0.7876712328767124, Validation Loss: 0.23321534936470548\n"
     ]
    },
    {
     "name": "stderr",
     "output_type": "stream",
     "text": [
      "100%|████████████████████████████████████████████████████████████████████████████| 1612/1612 [11:05<00:00,  2.42it/s]\n",
      "100%|██████████████████████████████████████████████████████████████████████████████| 403/403 [00:49<00:00,  8.08it/s]\n"
     ]
    },
    {
     "name": "stdout",
     "output_type": "stream",
     "text": [
      "Next Word Model LSTM -> Epoch: 101, Loss: 1.0144977569580078, Train Accuracy: 0.8624005359890156, Validation Accuracy: 0.863013698630137, Validation Loss: 0.23375773435195177\n"
     ]
    },
    {
     "name": "stderr",
     "output_type": "stream",
     "text": [
      "100%|████████████████████████████████████████████████████████████████████████████| 1612/1612 [11:05<00:00,  2.42it/s]\n",
      "100%|██████████████████████████████████████████████████████████████████████████████| 403/403 [00:49<00:00,  8.08it/s]\n"
     ]
    },
    {
     "name": "stdout",
     "output_type": "stream",
     "text": [
      "Next Word Model LSTM -> Epoch: 102, Loss: 0.8254812955856323, Train Accuracy: 0.8620696785720194, Validation Accuracy: 0.8493150684931506, Validation Loss: 0.23330295144970295\n"
     ]
    },
    {
     "name": "stderr",
     "output_type": "stream",
     "text": [
      "100%|████████████████████████████████████████████████████████████████████████████| 1612/1612 [11:04<00:00,  2.42it/s]\n",
      "100%|██████████████████████████████████████████████████████████████████████████████| 403/403 [00:49<00:00,  8.07it/s]\n"
     ]
    },
    {
     "name": "stdout",
     "output_type": "stream",
     "text": [
      "Next Word Model LSTM -> Epoch: 103, Loss: 0.8360201716423035, Train Accuracy: 0.8624749789078396, Validation Accuracy: 0.8904109589041096, Validation Loss: 0.23292524672587533\n"
     ]
    },
    {
     "name": "stderr",
     "output_type": "stream",
     "text": [
      "100%|████████████████████████████████████████████████████████████████████████████| 1612/1612 [11:03<00:00,  2.43it/s]\n",
      "100%|██████████████████████████████████████████████████████████████████████████████| 403/403 [00:49<00:00,  8.08it/s]\n"
     ]
    },
    {
     "name": "stdout",
     "output_type": "stream",
     "text": [
      "Next Word Model LSTM -> Epoch: 104, Loss: 0.9671294689178467, Train Accuracy: 0.8621896143856805, Validation Accuracy: 0.8013698630136986, Validation Loss: 0.2334701257206851\n"
     ]
    },
    {
     "name": "stderr",
     "output_type": "stream",
     "text": [
      "100%|████████████████████████████████████████████████████████████████████████████| 1612/1612 [11:03<00:00,  2.43it/s]\n",
      "100%|██████████████████████████████████████████████████████████████████████████████| 403/403 [00:49<00:00,  8.07it/s]\n"
     ]
    },
    {
     "name": "stdout",
     "output_type": "stream",
     "text": [
      "Next Word Model LSTM -> Epoch: 105, Loss: 0.9148135185241699, Train Accuracy: 0.8629009578322222, Validation Accuracy: 0.8835616438356164, Validation Loss: 0.23579531826835548\n"
     ]
    },
    {
     "name": "stderr",
     "output_type": "stream",
     "text": [
      "100%|████████████████████████████████████████████████████████████████████████████| 1612/1612 [11:04<00:00,  2.43it/s]\n",
      "100%|██████████████████████████████████████████████████████████████████████████████| 403/403 [00:49<00:00,  8.09it/s]\n"
     ]
    },
    {
     "name": "stdout",
     "output_type": "stream",
     "text": [
      "Next Word Model LSTM -> Epoch: 106, Loss: 0.8425906896591187, Train Accuracy: 0.8629009578322222, Validation Accuracy: 0.8493150684931506, Validation Loss: 0.235308263317192\n"
     ]
    },
    {
     "name": "stderr",
     "output_type": "stream",
     "text": [
      "100%|████████████████████████████████████████████████████████████████████████████| 1612/1612 [11:05<00:00,  2.42it/s]\n",
      "100%|██████████████████████████████████████████████████████████████████████████████| 403/403 [00:49<00:00,  8.08it/s]\n"
     ]
    },
    {
     "name": "stdout",
     "output_type": "stream",
     "text": [
      "Next Word Model LSTM -> Epoch: 107, Loss: 0.8452657461166382, Train Accuracy: 0.8628926863967973, Validation Accuracy: 0.8835616438356164, Validation Loss: 0.23693185386590626\n"
     ]
    },
    {
     "name": "stderr",
     "output_type": "stream",
     "text": [
      "100%|████████████████████████████████████████████████████████████████████████████| 1612/1612 [11:05<00:00,  2.42it/s]\n",
      "100%|██████████████████████████████████████████████████████████████████████████████| 403/403 [00:49<00:00,  8.09it/s]\n"
     ]
    },
    {
     "name": "stdout",
     "output_type": "stream",
     "text": [
      "Next Word Model LSTM -> Epoch: 108, Loss: 0.9793946743011475, Train Accuracy: 0.862962993597909, Validation Accuracy: 0.8424657534246576, Validation Loss: 0.234572516776178\n"
     ]
    },
    {
     "name": "stderr",
     "output_type": "stream",
     "text": [
      "100%|████████████████████████████████████████████████████████████████████████████| 1612/1612 [11:04<00:00,  2.43it/s]\n",
      "100%|██████████████████████████████████████████████████████████████████████████████| 403/403 [00:49<00:00,  8.07it/s]\n"
     ]
    },
    {
     "name": "stdout",
     "output_type": "stream",
     "text": [
      "Next Word Model LSTM -> Epoch: 109, Loss: 0.8868894577026367, Train Accuracy: 0.8633889725222915, Validation Accuracy: 0.8424657534246576, Validation Loss: 0.2363338169832636\n"
     ]
    },
    {
     "name": "stderr",
     "output_type": "stream",
     "text": [
      "100%|████████████████████████████████████████████████████████████████████████████| 1612/1612 [11:04<00:00,  2.43it/s]\n",
      "100%|██████████████████████████████████████████████████████████████████████████████| 403/403 [00:49<00:00,  8.09it/s]\n"
     ]
    },
    {
     "name": "stdout",
     "output_type": "stream",
     "text": [
      "Next Word Model LSTM -> Epoch: 110, Loss: 0.8736792802810669, Train Accuracy: 0.8641788946053698, Validation Accuracy: 0.8561643835616438, Validation Loss: 0.2352650378092116\n"
     ]
    },
    {
     "name": "stderr",
     "output_type": "stream",
     "text": [
      "100%|████████████████████████████████████████████████████████████████████████████| 1612/1612 [11:04<00:00,  2.42it/s]\n",
      "100%|██████████████████████████████████████████████████████████████████████████████| 403/403 [00:49<00:00,  8.13it/s]\n"
     ]
    },
    {
     "name": "stdout",
     "output_type": "stream",
     "text": [
      "Next Word Model LSTM -> Epoch: 111, Loss: 0.8147184252738953, Train Accuracy: 0.8643401875961554, Validation Accuracy: 0.8561643835616438, Validation Loss: 0.23760538693732464\n"
     ]
    },
    {
     "name": "stderr",
     "output_type": "stream",
     "text": [
      "100%|████████████████████████████████████████████████████████████████████████████| 1612/1612 [11:05<00:00,  2.42it/s]\n",
      "100%|██████████████████████████████████████████████████████████████████████████████| 403/403 [00:49<00:00,  8.11it/s]\n"
     ]
    },
    {
     "name": "stdout",
     "output_type": "stream",
     "text": [
      "Next Word Model LSTM -> Epoch: 112, Loss: 0.9167816042900085, Train Accuracy: 0.8640300087677215, Validation Accuracy: 0.8356164383561644, Validation Loss: 0.23595518602416993\n"
     ]
    },
    {
     "name": "stderr",
     "output_type": "stream",
     "text": [
      "100%|████████████████████████████████████████████████████████████████████████████| 1612/1612 [11:04<00:00,  2.42it/s]\n",
      "100%|██████████████████████████████████████████████████████████████████████████████| 403/403 [00:49<00:00,  8.16it/s]\n"
     ]
    },
    {
     "name": "stdout",
     "output_type": "stream",
     "text": [
      "Next Word Model LSTM -> Epoch: 113, Loss: 0.9744434356689453, Train Accuracy: 0.8640465516385714, Validation Accuracy: 0.815068493150685, Validation Loss: 0.23432323752361625\n"
     ]
    },
    {
     "name": "stderr",
     "output_type": "stream",
     "text": [
      "100%|████████████████████████████████████████████████████████████████████████████| 1612/1612 [11:04<00:00,  2.43it/s]\n",
      "100%|██████████████████████████████████████████████████████████████████████████████| 403/403 [00:49<00:00,  8.15it/s]\n"
     ]
    },
    {
     "name": "stdout",
     "output_type": "stream",
     "text": [
      "Next Word Model LSTM -> Epoch: 114, Loss: 0.9705072045326233, Train Accuracy: 0.8655767671921786, Validation Accuracy: 0.863013698630137, Validation Loss: 0.23570804220249375\n"
     ]
    },
    {
     "name": "stderr",
     "output_type": "stream",
     "text": [
      "100%|████████████████████████████████████████████████████████████████████████████| 1612/1612 [11:03<00:00,  2.43it/s]\n",
      "100%|██████████████████████████████████████████████████████████████████████████████| 403/403 [00:49<00:00,  8.12it/s]\n"
     ]
    },
    {
     "name": "stdout",
     "output_type": "stream",
     "text": [
      "Next Word Model LSTM -> Epoch: 115, Loss: 0.9307602047920227, Train Accuracy: 0.8646048735297523, Validation Accuracy: 0.8424657534246576, Validation Loss: 0.2372404840757132\n"
     ]
    },
    {
     "name": "stderr",
     "output_type": "stream",
     "text": [
      "100%|████████████████████████████████████████████████████████████████████████████| 1612/1612 [11:52<00:00,  2.26it/s]\n",
      "100%|██████████████████████████████████████████████████████████████████████████████| 403/403 [00:49<00:00,  8.13it/s]\n"
     ]
    },
    {
     "name": "stdout",
     "output_type": "stream",
     "text": [
      "Next Word Model LSTM -> Epoch: 116, Loss: 0.9452741146087646, Train Accuracy: 0.8656801601349898, Validation Accuracy: 0.8287671232876712, Validation Loss: 0.23739720421420424\n"
     ]
    },
    {
     "name": "stderr",
     "output_type": "stream",
     "text": [
      "100%|████████████████████████████████████████████████████████████████████████████| 1612/1612 [11:02<00:00,  2.43it/s]\n",
      "100%|██████████████████████████████████████████████████████████████████████████████| 403/403 [00:49<00:00,  8.17it/s]\n"
     ]
    },
    {
     "name": "stdout",
     "output_type": "stream",
     "text": [
      "Next Word Model LSTM -> Epoch: 117, Loss: 1.0464510917663574, Train Accuracy: 0.8651838740094956, Validation Accuracy: 0.8356164383561644, Validation Loss: 0.23709670394251317\n"
     ]
    },
    {
     "name": "stderr",
     "output_type": "stream",
     "text": [
      "100%|████████████████████████████████████████████████████████████████████████████| 1612/1612 [11:02<00:00,  2.43it/s]\n",
      "100%|██████████████████████████████████████████████████████████████████████████████| 403/403 [00:49<00:00,  8.16it/s]\n"
     ]
    },
    {
     "name": "stdout",
     "output_type": "stream",
     "text": [
      "Next Word Model LSTM -> Epoch: 118, Loss: 0.8750952482223511, Train Accuracy: 0.865709110158977, Validation Accuracy: 0.8698630136986302, Validation Loss: 0.2372433572372086\n"
     ]
    },
    {
     "name": "stderr",
     "output_type": "stream",
     "text": [
      "100%|████████████████████████████████████████████████████████████████████████████| 1612/1612 [11:03<00:00,  2.43it/s]\n",
      "100%|██████████████████████████████████████████████████████████████████████████████| 403/403 [00:49<00:00,  8.17it/s]\n"
     ]
    },
    {
     "name": "stdout",
     "output_type": "stream",
     "text": [
      "Next Word Model LSTM -> Epoch: 119, Loss: 0.8079637289047241, Train Accuracy: 0.8656594815464276, Validation Accuracy: 0.8972602739726028, Validation Loss: 0.23852168414769795\n"
     ]
    },
    {
     "name": "stderr",
     "output_type": "stream",
     "text": [
      "100%|████████████████████████████████████████████████████████████████████████████| 1612/1612 [11:03<00:00,  2.43it/s]\n",
      "100%|██████████████████████████████████████████████████████████████████████████████| 403/403 [00:49<00:00,  8.16it/s]\n"
     ]
    },
    {
     "name": "stdout",
     "output_type": "stream",
     "text": [
      "Next Word Model LSTM -> Epoch: 120, Loss: 0.8111395835876465, Train Accuracy: 0.866395639299244, Validation Accuracy: 0.8835616438356164, Validation Loss: 0.23936264498042228\n"
     ]
    },
    {
     "name": "stderr",
     "output_type": "stream",
     "text": [
      "100%|████████████████████████████████████████████████████████████████████████████| 1612/1612 [11:02<00:00,  2.43it/s]\n",
      "100%|██████████████████████████████████████████████████████████████████████████████| 403/403 [00:49<00:00,  8.16it/s]\n"
     ]
    },
    {
     "name": "stdout",
     "output_type": "stream",
     "text": [
      "Next Word Model LSTM -> Epoch: 121, Loss: 0.797322690486908, Train Accuracy: 0.8658993531737498, Validation Accuracy: 0.8767123287671232, Validation Loss: 0.2389361672096626\n"
     ]
    },
    {
     "name": "stderr",
     "output_type": "stream",
     "text": [
      "100%|████████████████████████████████████████████████████████████████████████████| 1612/1612 [11:03<00:00,  2.43it/s]\n",
      "100%|██████████████████████████████████████████████████████████████████████████████| 403/403 [00:49<00:00,  8.09it/s]\n"
     ]
    },
    {
     "name": "stdout",
     "output_type": "stream",
     "text": [
      "Next Word Model LSTM -> Epoch: 122, Loss: 0.8648083209991455, Train Accuracy: 0.8663708249929692, Validation Accuracy: 0.9041095890410958, Validation Loss: 0.2382696623705475\n"
     ]
    },
    {
     "name": "stderr",
     "output_type": "stream",
     "text": [
      "100%|████████████████████████████████████████████████████████████████████████████| 1612/1612 [11:04<00:00,  2.42it/s]\n",
      "100%|██████████████████████████████████████████████████████████████████████████████| 403/403 [00:49<00:00,  8.12it/s]\n"
     ]
    },
    {
     "name": "stdout",
     "output_type": "stream",
     "text": [
      "Next Word Model LSTM -> Epoch: 123, Loss: 0.8142253756523132, Train Accuracy: 0.8663253320981323, Validation Accuracy: 0.815068493150685, Validation Loss: 0.23574231786214891\n"
     ]
    },
    {
     "name": "stderr",
     "output_type": "stream",
     "text": [
      "100%|████████████████████████████████████████████████████████████████████████████| 1612/1612 [11:05<00:00,  2.42it/s]\n",
      "100%|██████████████████████████████████████████████████████████████████████████████| 403/403 [00:49<00:00,  8.10it/s]\n"
     ]
    },
    {
     "name": "stdout",
     "output_type": "stream",
     "text": [
      "Next Word Model LSTM -> Epoch: 124, Loss: 0.8919695615768433, Train Accuracy: 0.8664948965243429, Validation Accuracy: 0.8424657534246576, Validation Loss: 0.23852137412076774\n"
     ]
    },
    {
     "name": "stderr",
     "output_type": "stream",
     "text": [
      "100%|████████████████████████████████████████████████████████████████████████████| 1612/1612 [11:06<00:00,  2.42it/s]\n",
      "100%|██████████████████████████████████████████████████████████████████████████████| 403/403 [00:49<00:00,  8.09it/s]\n"
     ]
    },
    {
     "name": "stdout",
     "output_type": "stream",
     "text": [
      "Next Word Model LSTM -> Epoch: 125, Loss: 1.0199581384658813, Train Accuracy: 0.8670077255206868, Validation Accuracy: 0.815068493150685, Validation Loss: 0.23777353390416534\n"
     ]
    },
    {
     "name": "stderr",
     "output_type": "stream",
     "text": [
      "100%|████████████████████████████████████████████████████████████████████████████| 1612/1612 [11:05<00:00,  2.42it/s]\n",
      "100%|██████████████████████████████████████████████████████████████████████████████| 403/403 [00:49<00:00,  8.07it/s]\n"
     ]
    },
    {
     "name": "stdout",
     "output_type": "stream",
     "text": [
      "Next Word Model LSTM -> Epoch: 126, Loss: 0.9838064908981323, Train Accuracy: 0.8674461115982067, Validation Accuracy: 0.8356164383561644, Validation Loss: 0.23748808276008623\n"
     ]
    },
    {
     "name": "stderr",
     "output_type": "stream",
     "text": [
      "100%|████████████████████████████████████████████████████████████████████████████| 1612/1612 [11:04<00:00,  2.43it/s]\n",
      "100%|██████████████████████████████████████████████████████████████████████████████| 403/403 [00:49<00:00,  8.07it/s]\n"
     ]
    },
    {
     "name": "stdout",
     "output_type": "stream",
     "text": [
      "Next Word Model LSTM -> Epoch: 127, Loss: 0.7998459339141846, Train Accuracy: 0.8676611689192543, Validation Accuracy: 0.8835616438356164, Validation Loss: 0.23845478499885642\n"
     ]
    },
    {
     "name": "stderr",
     "output_type": "stream",
     "text": [
      "100%|████████████████████████████████████████████████████████████████████████████| 1612/1612 [11:03<00:00,  2.43it/s]\n",
      "100%|██████████████████████████████████████████████████████████████████████████████| 403/403 [00:49<00:00,  8.06it/s]\n"
     ]
    },
    {
     "name": "stdout",
     "output_type": "stream",
     "text": [
      "Next Word Model LSTM -> Epoch: 128, Loss: 0.9322507381439209, Train Accuracy: 0.8671896971000348, Validation Accuracy: 0.863013698630137, Validation Loss: 0.23721069386919297\n"
     ]
    },
    {
     "name": "stderr",
     "output_type": "stream",
     "text": [
      "100%|████████████████████████████████████████████████████████████████████████████| 1612/1612 [11:03<00:00,  2.43it/s]\n",
      "100%|██████████████████████████████████████████████████████████████████████████████| 403/403 [00:49<00:00,  8.08it/s]\n"
     ]
    },
    {
     "name": "stdout",
     "output_type": "stream",
     "text": [
      "Next Word Model LSTM -> Epoch: 129, Loss: 0.9923214912414551, Train Accuracy: 0.8676032688712799, Validation Accuracy: 0.8082191780821918, Validation Loss: 0.24046479557970107\n"
     ]
    },
    {
     "name": "stderr",
     "output_type": "stream",
     "text": [
      "100%|████████████████████████████████████████████████████████████████████████████| 1612/1612 [11:04<00:00,  2.43it/s]\n",
      "100%|██████████████████████████████████████████████████████████████████████████████| 403/403 [00:49<00:00,  8.09it/s]\n"
     ]
    },
    {
     "name": "stdout",
     "output_type": "stream",
     "text": [
      "Next Word Model LSTM -> Epoch: 130, Loss: 0.992745041847229, Train Accuracy: 0.8680292477956625, Validation Accuracy: 0.821917808219178, Validation Loss: 0.23821586891733926\n"
     ]
    },
    {
     "name": "stderr",
     "output_type": "stream",
     "text": [
      "100%|████████████████████████████████████████████████████████████████████████████| 1612/1612 [11:04<00:00,  2.42it/s]\n",
      "100%|██████████████████████████████████████████████████████████████████████████████| 403/403 [00:49<00:00,  8.10it/s]\n"
     ]
    },
    {
     "name": "stdout",
     "output_type": "stream",
     "text": [
      "Next Word Model LSTM -> Epoch: 131, Loss: 0.7787866592407227, Train Accuracy: 0.8683683766480835, Validation Accuracy: 0.8835616438356164, Validation Loss: 0.24054751636287838\n"
     ]
    },
    {
     "name": "stderr",
     "output_type": "stream",
     "text": [
      "100%|████████████████████████████████████████████████████████████████████████████| 1612/1612 [11:04<00:00,  2.43it/s]\n",
      "100%|██████████████████████████████████████████████████████████████████████████████| 403/403 [00:49<00:00,  8.08it/s]\n"
     ]
    },
    {
     "name": "stdout",
     "output_type": "stream",
     "text": [
      "Next Word Model LSTM -> Epoch: 132, Loss: 0.8071935176849365, Train Accuracy: 0.8674337044450694, Validation Accuracy: 0.9041095890410958, Validation Loss: 0.24038978368667566\n"
     ]
    },
    {
     "name": "stderr",
     "output_type": "stream",
     "text": [
      "100%|████████████████████████████████████████████████████████████████████████████| 1612/1612 [11:03<00:00,  2.43it/s]\n",
      "100%|██████████████████████████████████████████████████████████████████████████████| 403/403 [00:49<00:00,  8.08it/s]\n"
     ]
    },
    {
     "name": "stdout",
     "output_type": "stream",
     "text": [
      "Next Word Model LSTM -> Epoch: 133, Loss: 0.7544842958450317, Train Accuracy: 0.8682360336812851, Validation Accuracy: 0.9041095890410958, Validation Loss: 0.23844218613596602\n"
     ]
    },
    {
     "name": "stderr",
     "output_type": "stream",
     "text": [
      "100%|████████████████████████████████████████████████████████████████████████████| 1612/1612 [11:04<00:00,  2.43it/s]\n",
      "100%|██████████████████████████████████████████████████████████████████████████████| 403/403 [00:49<00:00,  8.10it/s]\n"
     ]
    },
    {
     "name": "stdout",
     "output_type": "stream",
     "text": [
      "Next Word Model LSTM -> Epoch: 134, Loss: 0.8027973771095276, Train Accuracy: 0.8681160978676239, Validation Accuracy: 0.863013698630137, Validation Loss: 0.2410958797727089\n"
     ]
    },
    {
     "name": "stderr",
     "output_type": "stream",
     "text": [
      "100%|████████████████████████████████████████████████████████████████████████████| 1612/1612 [11:04<00:00,  2.43it/s]\n",
      "100%|██████████████████████████████████████████████████████████████████████████████| 403/403 [00:49<00:00,  8.13it/s]\n"
     ]
    },
    {
     "name": "stdout",
     "output_type": "stream",
     "text": [
      "Next Word Model LSTM -> Epoch: 135, Loss: 0.8195843696594238, Train Accuracy: 0.8685710268159936, Validation Accuracy: 0.8561643835616438, Validation Loss: 0.2411963364479806\n"
     ]
    },
    {
     "name": "stderr",
     "output_type": "stream",
     "text": [
      "100%|████████████████████████████████████████████████████████████████████████████| 1612/1612 [11:04<00:00,  2.43it/s]\n",
      "100%|██████████████████████████████████████████████████████████████████████████████| 403/403 [00:49<00:00,  8.10it/s]\n"
     ]
    },
    {
     "name": "stdout",
     "output_type": "stream",
     "text": [
      "Next Word Model LSTM -> Epoch: 136, Loss: 0.7313472032546997, Train Accuracy: 0.8684593624377575, Validation Accuracy: 0.910958904109589, Validation Loss: 0.24042317483870393\n"
     ]
    },
    {
     "name": "stderr",
     "output_type": "stream",
     "text": [
      "100%|████████████████████████████████████████████████████████████████████████████| 1612/1612 [11:05<00:00,  2.42it/s]\n",
      "100%|██████████████████████████████████████████████████████████████████████████████| 403/403 [00:49<00:00,  8.17it/s]\n"
     ]
    },
    {
     "name": "stdout",
     "output_type": "stream",
     "text": [
      "Next Word Model LSTM -> Epoch: 137, Loss: 0.7798267602920532, Train Accuracy: 0.8693774917699217, Validation Accuracy: 0.8767123287671232, Validation Loss: 0.24088664659278605\n"
     ]
    },
    {
     "name": "stderr",
     "output_type": "stream",
     "text": [
      "100%|████████████████████████████████████████████████████████████████████████████| 1612/1612 [11:03<00:00,  2.43it/s]\n",
      "100%|██████████████████████████████████████████████████████████████████████████████| 403/403 [00:49<00:00,  8.10it/s]\n"
     ]
    },
    {
     "name": "stdout",
     "output_type": "stream",
     "text": [
      "Next Word Model LSTM -> Epoch: 138, Loss: 0.9440860748291016, Train Accuracy: 0.8683187480355341, Validation Accuracy: 0.8698630136986302, Validation Loss: 0.23996979610756547\n"
     ]
    },
    {
     "name": "stderr",
     "output_type": "stream",
     "text": [
      "100%|████████████████████████████████████████████████████████████████████████████| 1612/1612 [11:03<00:00,  2.43it/s]\n",
      "100%|██████████████████████████████████████████████████████████████████████████████| 403/403 [00:49<00:00,  8.07it/s]\n"
     ]
    },
    {
     "name": "stdout",
     "output_type": "stream",
     "text": [
      "Next Word Model LSTM -> Epoch: 139, Loss: 0.749004602432251, Train Accuracy: 0.8693733560522093, Validation Accuracy: 0.8972602739726028, Validation Loss: 0.2415671680731427\n"
     ]
    },
    {
     "name": "stderr",
     "output_type": "stream",
     "text": [
      "100%|████████████████████████████████████████████████████████████████████████████| 1612/1612 [11:02<00:00,  2.43it/s]\n",
      "100%|██████████████████████████████████████████████████████████████████████████████| 403/403 [00:49<00:00,  8.07it/s]\n"
     ]
    },
    {
     "name": "stdout",
     "output_type": "stream",
     "text": [
      "Next Word Model LSTM -> Epoch: 140, Loss: 0.8091031312942505, Train Accuracy: 0.8702170424655494, Validation Accuracy: 0.8493150684931506, Validation Loss: 0.24219582052650412\n"
     ]
    },
    {
     "name": "stderr",
     "output_type": "stream",
     "text": [
      "100%|████████████████████████████████████████████████████████████████████████████| 1612/1612 [11:03<00:00,  2.43it/s]\n",
      "100%|██████████████████████████████████████████████████████████████████████████████| 403/403 [00:49<00:00,  8.08it/s]\n"
     ]
    },
    {
     "name": "stdout",
     "output_type": "stream",
     "text": [
      "Next Word Model LSTM -> Epoch: 141, Loss: 0.8115045428276062, Train Accuracy: 0.8693733560522093, Validation Accuracy: 0.8561643835616438, Validation Loss: 0.240866014687906\n"
     ]
    },
    {
     "name": "stderr",
     "output_type": "stream",
     "text": [
      "100%|████████████████████████████████████████████████████████████████████████████| 1612/1612 [11:04<00:00,  2.43it/s]\n",
      "100%|██████████████████████████████████████████████████████████████████████████████| 403/403 [00:49<00:00,  8.08it/s]\n"
     ]
    },
    {
     "name": "stdout",
     "output_type": "stream",
     "text": [
      "Next Word Model LSTM -> Epoch: 142, Loss: 0.8485201597213745, Train Accuracy: 0.8691334844248871, Validation Accuracy: 0.8904109589041096, Validation Loss: 0.24272879998925193\n"
     ]
    },
    {
     "name": "stderr",
     "output_type": "stream",
     "text": [
      "100%|████████████████████████████████████████████████████████████████████████████| 1612/1612 [11:05<00:00,  2.42it/s]\n",
      "100%|██████████████████████████████████████████████████████████████████████████████| 403/403 [00:49<00:00,  8.09it/s]\n"
     ]
    },
    {
     "name": "stdout",
     "output_type": "stream",
     "text": [
      "Next Word Model LSTM -> Epoch: 143, Loss: 0.7542389631271362, Train Accuracy: 0.869315456004235, Validation Accuracy: 0.9383561643835616, Validation Loss: 0.24076856574900155\n"
     ]
    },
    {
     "name": "stderr",
     "output_type": "stream",
     "text": [
      "100%|████████████████████████████████████████████████████████████████████████████| 1612/1612 [11:05<00:00,  2.42it/s]\n",
      "100%|██████████████████████████████████████████████████████████████████████████████| 403/403 [00:49<00:00,  8.09it/s]\n"
     ]
    },
    {
     "name": "stdout",
     "output_type": "stream",
     "text": [
      "Next Word Model LSTM -> Epoch: 144, Loss: 0.9965407848358154, Train Accuracy: 0.8693444060282222, Validation Accuracy: 0.8424657534246576, Validation Loss: 0.23968836366607682\n"
     ]
    },
    {
     "name": "stderr",
     "output_type": "stream",
     "text": [
      "100%|████████████████████████████████████████████████████████████████████████████| 1612/1612 [11:04<00:00,  2.43it/s]\n",
      "100%|██████████████████████████████████████████████████████████████████████████████| 403/403 [00:49<00:00,  8.07it/s]\n"
     ]
    },
    {
     "name": "stdout",
     "output_type": "stream",
     "text": [
      "Next Word Model LSTM -> Epoch: 145, Loss: 1.2611476182937622, Train Accuracy: 0.8692492845208357, Validation Accuracy: 0.773972602739726, Validation Loss: 0.23963798298650618\n"
     ]
    },
    {
     "name": "stderr",
     "output_type": "stream",
     "text": [
      "100%|████████████████████████████████████████████████████████████████████████████| 1612/1612 [11:04<00:00,  2.43it/s]\n",
      "100%|██████████████████████████████████████████████████████████████████████████████| 403/403 [00:49<00:00,  8.08it/s]\n"
     ]
    },
    {
     "name": "stdout",
     "output_type": "stream",
     "text": [
      "Next Word Model LSTM -> Epoch: 146, Loss: 0.6474784016609192, Train Accuracy: 0.8695346490429949, Validation Accuracy: 0.9315068493150684, Validation Loss: 0.24201303616201367\n"
     ]
    },
    {
     "name": "stderr",
     "output_type": "stream",
     "text": [
      "100%|████████████████████████████████████████████████████████████████████████████| 1612/1612 [11:04<00:00,  2.43it/s]\n",
      "100%|██████████████████████████████████████████████████████████████████████████████| 403/403 [00:49<00:00,  8.12it/s]\n"
     ]
    },
    {
     "name": "stdout",
     "output_type": "stream",
     "text": [
      "Next Word Model LSTM -> Epoch: 147, Loss: 0.7268444299697876, Train Accuracy: 0.8700971066518883, Validation Accuracy: 0.9178082191780822, Validation Loss: 0.24157352021415784\n"
     ]
    },
    {
     "name": "stderr",
     "output_type": "stream",
     "text": [
      "100%|████████████████████████████████████████████████████████████████████████████| 1612/1612 [11:04<00:00,  2.42it/s]\n",
      "100%|██████████████████████████████████████████████████████████████████████████████| 403/403 [00:49<00:00,  8.12it/s]\n"
     ]
    },
    {
     "name": "stdout",
     "output_type": "stream",
     "text": [
      "Next Word Model LSTM -> Epoch: 148, Loss: 0.7995758056640625, Train Accuracy: 0.8698489635891412, Validation Accuracy: 0.8767123287671232, Validation Loss: 0.24131601209366307\n"
     ]
    },
    {
     "name": "stderr",
     "output_type": "stream",
     "text": [
      "100%|████████████████████████████████████████████████████████████████████████████| 1612/1612 [11:05<00:00,  2.42it/s]\n",
      "100%|██████████████████████████████████████████████████████████████████████████████| 403/403 [00:49<00:00,  8.08it/s]\n"
     ]
    },
    {
     "name": "stdout",
     "output_type": "stream",
     "text": [
      "Next Word Model LSTM -> Epoch: 149, Loss: 0.7219855785369873, Train Accuracy: 0.8704031497626098, Validation Accuracy: 0.9041095890410958, Validation Loss: 0.24340618518548982\n"
     ]
    },
    {
     "name": "stderr",
     "output_type": "stream",
     "text": [
      "100%|████████████████████████████████████████████████████████████████████████████| 1612/1612 [11:05<00:00,  2.42it/s]\n",
      "100%|██████████████████████████████████████████████████████████████████████████████| 403/403 [00:49<00:00,  8.08it/s]\n"
     ]
    },
    {
     "name": "stdout",
     "output_type": "stream",
     "text": [
      "Next Word Model LSTM -> Epoch: 150, Loss: 0.8703986406326294, Train Accuracy: 0.8702666710780989, Validation Accuracy: 0.863013698630137, Validation Loss: 0.24182606653564986\n"
     ]
    },
    {
     "name": "stderr",
     "output_type": "stream",
     "text": [
      "100%|████████████████████████████████████████████████████████████████████████████| 1612/1612 [11:04<00:00,  2.43it/s]\n",
      "100%|██████████████████████████████████████████████████████████████████████████████| 403/403 [00:49<00:00,  8.06it/s]\n"
     ]
    },
    {
     "name": "stdout",
     "output_type": "stream",
     "text": [
      "Next Word Model LSTM -> Epoch: 151, Loss: 0.9265605807304382, Train Accuracy: 0.8707588214858807, Validation Accuracy: 0.8698630136986302, Validation Loss: 0.24493541308759895\n"
     ]
    },
    {
     "name": "stderr",
     "output_type": "stream",
     "text": [
      "100%|████████████████████████████████████████████████████████████████████████████| 1612/1612 [11:03<00:00,  2.43it/s]\n",
      "100%|██████████████████████████████████████████████████████████████████████████████| 403/403 [00:50<00:00,  8.06it/s]\n"
     ]
    },
    {
     "name": "stdout",
     "output_type": "stream",
     "text": [
      "Next Word Model LSTM -> Epoch: 152, Loss: 0.9034817218780518, Train Accuracy: 0.8704196926334596, Validation Accuracy: 0.8561643835616438, Validation Loss: 0.2444318268179359\n"
     ]
    },
    {
     "name": "stderr",
     "output_type": "stream",
     "text": [
      "100%|████████████████████████████████████████████████████████████████████████████| 1612/1612 [11:03<00:00,  2.43it/s]\n",
      "100%|██████████████████████████████████████████████████████████████████████████████| 403/403 [00:49<00:00,  8.10it/s]\n"
     ]
    },
    {
     "name": "stdout",
     "output_type": "stream",
     "text": [
      "Next Word Model LSTM -> Epoch: 153, Loss: 0.9131795167922974, Train Accuracy: 0.8698985922016906, Validation Accuracy: 0.8424657534246576, Validation Loss: 0.2421618246472494\n"
     ]
    },
    {
     "name": "stderr",
     "output_type": "stream",
     "text": [
      "100%|████████████████████████████████████████████████████████████████████████████| 1612/1612 [11:04<00:00,  2.43it/s]\n",
      "100%|██████████████████████████████████████████████████████████████████████████████| 403/403 [00:49<00:00,  8.08it/s]\n"
     ]
    },
    {
     "name": "stdout",
     "output_type": "stream",
     "text": [
      "Next Word Model LSTM -> Epoch: 154, Loss: 0.9525250792503357, Train Accuracy: 0.8705272212939834, Validation Accuracy: 0.8493150684931506, Validation Loss: 0.24400508766243417\n"
     ]
    },
    {
     "name": "stderr",
     "output_type": "stream",
     "text": [
      "100%|████████████████████████████████████████████████████████████████████████████| 1612/1612 [11:04<00:00,  2.42it/s]\n",
      "100%|██████████████████████████████████████████████████████████████████████████████| 403/403 [00:49<00:00,  8.10it/s]\n"
     ]
    },
    {
     "name": "stdout",
     "output_type": "stream",
     "text": [
      "Next Word Model LSTM -> Epoch: 155, Loss: 0.8292394876480103, Train Accuracy: 0.8707216000264686, Validation Accuracy: 0.8356164383561644, Validation Loss: 0.2448922574646323\n"
     ]
    },
    {
     "name": "stderr",
     "output_type": "stream",
     "text": [
      "100%|████████████████████████████████████████████████████████████████████████████| 1612/1612 [11:04<00:00,  2.42it/s]\n",
      "100%|██████████████████████████████████████████████████████████████████████████████| 403/403 [00:49<00:00,  8.09it/s]\n"
     ]
    },
    {
     "name": "stdout",
     "output_type": "stream",
     "text": [
      "Next Word Model LSTM -> Epoch: 156, Loss: 0.8449994921684265, Train Accuracy: 0.8708870287349667, Validation Accuracy: 0.8493150684931506, Validation Loss: 0.24452981505468485\n"
     ]
    },
    {
     "name": "stderr",
     "output_type": "stream",
     "text": [
      "100%|████████████████████████████████████████████████████████████████████████████| 1612/1612 [11:04<00:00,  2.43it/s]\n",
      "100%|██████████████████████████████████████████████████████████████████████████████| 403/403 [00:49<00:00,  8.07it/s]\n"
     ]
    },
    {
     "name": "stdout",
     "output_type": "stream",
     "text": [
      "Next Word Model LSTM -> Epoch: 157, Loss: 0.7409359216690063, Train Accuracy: 0.8707546857681682, Validation Accuracy: 0.8972602739726028, Validation Loss: 0.24312012545017156\n"
     ]
    },
    {
     "name": "stderr",
     "output_type": "stream",
     "text": [
      "100%|████████████████████████████████████████████████████████████████████████████| 1612/1612 [11:03<00:00,  2.43it/s]\n",
      "100%|██████████████████████████████████████████████████████████████████████████████| 403/403 [00:49<00:00,  8.09it/s]\n"
     ]
    },
    {
     "name": "stdout",
     "output_type": "stream",
     "text": [
      "Next Word Model LSTM -> Epoch: 158, Loss: 0.7821364402770996, Train Accuracy: 0.8705024069877086, Validation Accuracy: 0.8767123287671232, Validation Loss: 0.24545962575268856\n"
     ]
    },
    {
     "name": "stderr",
     "output_type": "stream",
     "text": [
      "100%|████████████████████████████████████████████████████████████████████████████| 1612/1612 [11:04<00:00,  2.43it/s]\n",
      "100%|██████████████████████████████████████████████████████████████████████████████| 403/403 [00:49<00:00,  8.12it/s]\n"
     ]
    },
    {
     "name": "stdout",
     "output_type": "stream",
     "text": [
      "Next Word Model LSTM -> Epoch: 159, Loss: 0.9158834218978882, Train Accuracy: 0.871064864596602, Validation Accuracy: 0.8356164383561644, Validation Loss: 0.24678047913613949\n"
     ]
    },
    {
     "name": "stderr",
     "output_type": "stream",
     "text": [
      "100%|████████████████████████████████████████████████████████████████████████████| 1612/1612 [11:04<00:00,  2.43it/s]\n",
      "100%|██████████████████████████████████████████████████████████████████████████████| 403/403 [00:49<00:00,  8.10it/s]\n"
     ]
    },
    {
     "name": "stdout",
     "output_type": "stream",
     "text": [
      "Next Word Model LSTM -> Epoch: 160, Loss: 0.8536447286605835, Train Accuracy: 0.8717183079951695, Validation Accuracy: 0.8904109589041096, Validation Loss: 0.2456849165120652\n"
     ]
    },
    {
     "name": "stderr",
     "output_type": "stream",
     "text": [
      "100%|████████████████████████████████████████████████████████████████████████████| 1612/1612 [11:05<00:00,  2.42it/s]\n",
      "100%|██████████████████████████████████████████████████████████████████████████████| 403/403 [00:49<00:00,  8.08it/s]\n"
     ]
    },
    {
     "name": "stdout",
     "output_type": "stream",
     "text": [
      "Next Word Model LSTM -> Epoch: 161, Loss: 0.9090937972068787, Train Accuracy: 0.871375043425036, Validation Accuracy: 0.815068493150685, Validation Loss: 0.24575779796599173\n"
     ]
    },
    {
     "name": "stderr",
     "output_type": "stream",
     "text": [
      "100%|████████████████████████████████████████████████████████████████████████████| 1612/1612 [11:05<00:00,  2.42it/s]\n",
      "100%|██████████████████████████████████████████████████████████████████████████████| 403/403 [00:49<00:00,  8.07it/s]\n"
     ]
    },
    {
     "name": "stdout",
     "output_type": "stream",
     "text": [
      "Next Word Model LSTM -> Epoch: 162, Loss: 0.8440877199172974, Train Accuracy: 0.8708911644526791, Validation Accuracy: 0.8698630136986302, Validation Loss: 0.2434561868960095\n"
     ]
    },
    {
     "name": "stderr",
     "output_type": "stream",
     "text": [
      "100%|████████████████████████████████████████████████████████████████████████████| 1612/1612 [11:04<00:00,  2.42it/s]\n",
      "100%|██████████████████████████████████████████████████████████████████████████████| 403/403 [00:49<00:00,  8.06it/s]\n"
     ]
    },
    {
     "name": "stdout",
     "output_type": "stream",
     "text": [
      "Next Word Model LSTM -> Epoch: 163, Loss: 0.8944606781005859, Train Accuracy: 0.8713998577313107, Validation Accuracy: 0.8493150684931506, Validation Loss: 0.24615857217658507\n"
     ]
    },
    {
     "name": "stderr",
     "output_type": "stream",
     "text": [
      "100%|████████████████████████████████████████████████████████████████████████████| 1612/1612 [11:03<00:00,  2.43it/s]\n",
      "100%|██████████████████████████████████████████████████████████████████████████████| 403/403 [00:49<00:00,  8.07it/s]\n"
     ]
    },
    {
     "name": "stdout",
     "output_type": "stream",
     "text": [
      "Next Word Model LSTM -> Epoch: 164, Loss: 0.756271243095398, Train Accuracy: 0.8717017651243196, Validation Accuracy: 0.9041095890410958, Validation Loss: 0.244326744790085\n"
     ]
    },
    {
     "name": "stderr",
     "output_type": "stream",
     "text": [
      "100%|████████████████████████████████████████████████████████████████████████████| 1612/1612 [11:03<00:00,  2.43it/s]\n",
      "100%|██████████████████████████████████████████████████████████████████████████████| 403/403 [00:49<00:00,  8.09it/s]\n"
     ]
    },
    {
     "name": "stdout",
     "output_type": "stream",
     "text": [
      "Next Word Model LSTM -> Epoch: 165, Loss: 0.7966782450675964, Train Accuracy: 0.8710565931611772, Validation Accuracy: 0.9178082191780822, Validation Loss: 0.24404760038025017\n"
     ]
    },
    {
     "name": "stderr",
     "output_type": "stream",
     "text": [
      "100%|████████████████████████████████████████████████████████████████████████████| 1612/1612 [11:04<00:00,  2.43it/s]\n",
      "100%|██████████████████████████████████████████████████████████████████████████████| 403/403 [00:49<00:00,  8.08it/s]\n"
     ]
    },
    {
     "name": "stdout",
     "output_type": "stream",
     "text": [
      "Next Word Model LSTM -> Epoch: 166, Loss: 0.8726623058319092, Train Accuracy: 0.8710565931611772, Validation Accuracy: 0.8561643835616438, Validation Loss: 0.2465349332593381\n"
     ]
    },
    {
     "name": "stderr",
     "output_type": "stream",
     "text": [
      "100%|████████████████████████████████████████████████████████████████████████████| 1612/1612 [11:05<00:00,  2.42it/s]\n",
      "100%|██████████████████████████████████████████████████████████████████████████████| 403/403 [00:49<00:00,  8.08it/s]\n"
     ]
    },
    {
     "name": "stdout",
     "output_type": "stream",
     "text": [
      "Next Word Model LSTM -> Epoch: 167, Loss: 0.8322044610977173, Train Accuracy: 0.8718341080911182, Validation Accuracy: 0.863013698630137, Validation Loss: 0.24523468382676172\n"
     ]
    },
    {
     "name": "stderr",
     "output_type": "stream",
     "text": [
      "100%|████████████████████████████████████████████████████████████████████████████| 1612/1612 [11:05<00:00,  2.42it/s]\n",
      "100%|██████████████████████████████████████████████████████████████████████████████| 403/403 [00:49<00:00,  8.09it/s]\n"
     ]
    },
    {
     "name": "stdout",
     "output_type": "stream",
     "text": [
      "Next Word Model LSTM -> Epoch: 168, Loss: 0.8042834997177124, Train Accuracy: 0.8715611507220963, Validation Accuracy: 0.8493150684931506, Validation Loss: 0.24452440153596205\n"
     ]
    },
    {
     "name": "stderr",
     "output_type": "stream",
     "text": [
      "100%|████████████████████████████████████████████████████████████████████████████| 1612/1612 [11:04<00:00,  2.42it/s]\n",
      "100%|██████████████████████████████████████████████████████████████████████████████| 403/403 [00:49<00:00,  8.08it/s]\n"
     ]
    },
    {
     "name": "stdout",
     "output_type": "stream",
     "text": [
      "Next Word Model LSTM -> Epoch: 169, Loss: 0.8563655614852905, Train Accuracy: 0.872363479958312, Validation Accuracy: 0.8698630136986302, Validation Loss: 0.24524170963712405\n"
     ]
    },
    {
     "name": "stderr",
     "output_type": "stream",
     "text": [
      "100%|████████████████████████████████████████████████████████████████████████████| 1612/1612 [11:04<00:00,  2.42it/s]\n",
      "100%|██████████████████████████████████████████████████████████████████████████████| 403/403 [00:49<00:00,  8.08it/s]\n"
     ]
    },
    {
     "name": "stdout",
     "output_type": "stream",
     "text": [
      "Next Word Model LSTM -> Epoch: 170, Loss: 0.6844712495803833, Train Accuracy: 0.8726984730930205, Validation Accuracy: 0.910958904109589, Validation Loss: 0.24504388930854806\n"
     ]
    },
    {
     "name": "stderr",
     "output_type": "stream",
     "text": [
      "100%|████████████████████████████████████████████████████████████████████████████| 1612/1612 [11:05<00:00,  2.42it/s]\n",
      "100%|██████████████████████████████████████████████████████████████████████████████| 403/403 [00:49<00:00,  8.12it/s]\n"
     ]
    },
    {
     "name": "stdout",
     "output_type": "stream",
     "text": [
      "Next Word Model LSTM -> Epoch: 171, Loss: 0.8916993141174316, Train Accuracy: 0.8732195735247895, Validation Accuracy: 0.8561643835616438, Validation Loss: 0.24578077793338265\n"
     ]
    },
    {
     "name": "stderr",
     "output_type": "stream",
     "text": [
      "100%|████████████████████████████████████████████████████████████████████████████| 1612/1612 [11:05<00:00,  2.42it/s]\n",
      "100%|██████████████████████████████████████████████████████████████████████████████| 403/403 [00:49<00:00,  8.09it/s]\n"
     ]
    },
    {
     "name": "stdout",
     "output_type": "stream",
     "text": [
      "Next Word Model LSTM -> Epoch: 172, Loss: 0.7990313768386841, Train Accuracy: 0.8727315588347202, Validation Accuracy: 0.9041095890410958, Validation Loss: 0.2446431238982898\n"
     ]
    },
    {
     "name": "stderr",
     "output_type": "stream",
     "text": [
      "100%|████████████████████████████████████████████████████████████████████████████| 1612/1612 [11:06<00:00,  2.42it/s]\n",
      "100%|██████████████████████████████████████████████████████████████████████████████| 403/403 [00:49<00:00,  8.08it/s]\n"
     ]
    },
    {
     "name": "stdout",
     "output_type": "stream",
     "text": [
      "Next Word Model LSTM -> Epoch: 173, Loss: 0.8756850957870483, Train Accuracy: 0.8721318797664147, Validation Accuracy: 0.8356164383561644, Validation Loss: 0.24410696111769967\n"
     ]
    },
    {
     "name": "stderr",
     "output_type": "stream",
     "text": [
      "100%|████████████████████████████████████████████████████████████████████████████| 1612/1612 [11:05<00:00,  2.42it/s]\n",
      "100%|██████████████████████████████████████████████████████████████████████████████| 403/403 [00:49<00:00,  8.08it/s]\n"
     ]
    },
    {
     "name": "stdout",
     "output_type": "stream",
     "text": [
      "Next Word Model LSTM -> Epoch: 174, Loss: 0.9136208295822144, Train Accuracy: 0.8717100365597445, Validation Accuracy: 0.8424657534246576, Validation Loss: 0.2482482633576263\n"
     ]
    },
    {
     "name": "stderr",
     "output_type": "stream",
     "text": [
      "100%|████████████████████████████████████████████████████████████████████████████| 1612/1612 [11:05<00:00,  2.42it/s]\n",
      "100%|██████████████████████████████████████████████████████████████████████████████| 403/403 [00:49<00:00,  8.07it/s]\n"
     ]
    },
    {
     "name": "stdout",
     "output_type": "stream",
     "text": [
      "Next Word Model LSTM -> Epoch: 175, Loss: 1.0256891250610352, Train Accuracy: 0.872280765604063, Validation Accuracy: 0.821917808219178, Validation Loss: 0.24777110246048625\n"
     ]
    },
    {
     "name": "stderr",
     "output_type": "stream",
     "text": [
      "100%|████████████████████████████████████████████████████████████████████████████| 1612/1612 [11:03<00:00,  2.43it/s]\n",
      "100%|██████████████████████████████████████████████████████████████████████████████| 403/403 [00:50<00:00,  8.05it/s]\n"
     ]
    },
    {
     "name": "stdout",
     "output_type": "stream",
     "text": [
      "Next Word Model LSTM -> Epoch: 176, Loss: 0.7715883255004883, Train Accuracy: 0.8722642227332131, Validation Accuracy: 0.863013698630137, Validation Loss: 0.24691619291179567\n"
     ]
    },
    {
     "name": "stderr",
     "output_type": "stream",
     "text": [
      "100%|████████████████████████████████████████████████████████████████████████████| 1612/1612 [11:03<00:00,  2.43it/s]\n",
      "100%|██████████████████████████████████████████████████████████████████████████████| 403/403 [00:49<00:00,  8.08it/s]\n"
     ]
    },
    {
     "name": "stdout",
     "output_type": "stream",
     "text": [
      "Next Word Model LSTM -> Epoch: 177, Loss: 0.8477886915206909, Train Accuracy: 0.8727439659878575, Validation Accuracy: 0.8493150684931506, Validation Loss: 0.24416809510417756\n"
     ]
    },
    {
     "name": "stderr",
     "output_type": "stream",
     "text": [
      "100%|████████████████████████████████████████████████████████████████████████████| 1612/1612 [11:04<00:00,  2.43it/s]\n",
      "100%|██████████████████████████████████████████████████████████████████████████████| 403/403 [00:49<00:00,  8.09it/s]\n"
     ]
    },
    {
     "name": "stdout",
     "output_type": "stream",
     "text": [
      "Next Word Model LSTM -> Epoch: 178, Loss: 0.9184801578521729, Train Accuracy: 0.8721401512018395, Validation Accuracy: 0.8493150684931506, Validation Loss: 0.24587290897401173\n"
     ]
    },
    {
     "name": "stderr",
     "output_type": "stream",
     "text": [
      "100%|████████████████████████████████████████████████████████████████████████████| 1612/1612 [11:04<00:00,  2.42it/s]\n",
      "100%|██████████████████████████████████████████████████████████████████████████████| 403/403 [00:49<00:00,  8.08it/s]\n"
     ]
    },
    {
     "name": "stdout",
     "output_type": "stream",
     "text": [
      "Next Word Model LSTM -> Epoch: 179, Loss: 0.7391356229782104, Train Accuracy: 0.8723262584988999, Validation Accuracy: 0.8972602739726028, Validation Loss: 0.24589651480052613\n"
     ]
    },
    {
     "name": "stderr",
     "output_type": "stream",
     "text": [
      "100%|████████████████████████████████████████████████████████████████████████████| 1612/1612 [11:05<00:00,  2.42it/s]\n",
      "100%|██████████████████████████████████████████████████████████████████████████████| 403/403 [00:49<00:00,  8.08it/s]\n"
     ]
    },
    {
     "name": "stdout",
     "output_type": "stream",
     "text": [
      "Next Word Model LSTM -> Epoch: 180, Loss: 0.7499897480010986, Train Accuracy: 0.8727315588347202, Validation Accuracy: 0.8835616438356164, Validation Loss: 0.2458263388949905\n"
     ]
    },
    {
     "name": "stderr",
     "output_type": "stream",
     "text": [
      "100%|████████████████████████████████████████████████████████████████████████████| 1612/1612 [11:04<00:00,  2.43it/s]\n",
      "100%|██████████████████████████████████████████████████████████████████████████████| 403/403 [00:49<00:00,  8.08it/s]\n"
     ]
    },
    {
     "name": "stdout",
     "output_type": "stream",
     "text": [
      "Next Word Model LSTM -> Epoch: 181, Loss: 0.733317494392395, Train Accuracy: 0.8727439659878575, Validation Accuracy: 0.8835616438356164, Validation Loss: 0.24779284860610992\n"
     ]
    },
    {
     "name": "stderr",
     "output_type": "stream",
     "text": [
      "100%|████████████████████████████████████████████████████████████████████████████| 1612/1612 [11:03<00:00,  2.43it/s]\n",
      "100%|██████████████████████████████████████████████████████████████████████████████| 403/403 [00:49<00:00,  8.16it/s]\n"
     ]
    },
    {
     "name": "stdout",
     "output_type": "stream",
     "text": [
      "Next Word Model LSTM -> Epoch: 182, Loss: 0.9027307629585266, Train Accuracy: 0.8723014441926252, Validation Accuracy: 0.8424657534246576, Validation Loss: 0.24807352970974797\n"
     ]
    },
    {
     "name": "stderr",
     "output_type": "stream",
     "text": [
      "100%|████████████████████████████████████████████████████████████████████████████| 1612/1612 [11:02<00:00,  2.43it/s]\n",
      "100%|██████████████████████████████████████████████████████████████████████████████| 403/403 [00:49<00:00,  8.19it/s]\n"
     ]
    },
    {
     "name": "stdout",
     "output_type": "stream",
     "text": [
      "Next Word Model LSTM -> Epoch: 183, Loss: 0.8226155042648315, Train Accuracy: 0.8727563731409949, Validation Accuracy: 0.863013698630137, Validation Loss: 0.24809515989801542\n"
     ]
    },
    {
     "name": "stderr",
     "output_type": "stream",
     "text": [
      "100%|████████████████████████████████████████████████████████████████████████████| 1612/1612 [11:02<00:00,  2.43it/s]\n",
      "100%|██████████████████████████████████████████████████████████████████████████████| 403/403 [00:49<00:00,  8.17it/s]\n"
     ]
    },
    {
     "name": "stdout",
     "output_type": "stream",
     "text": [
      "Next Word Model LSTM -> Epoch: 184, Loss: 0.7903941869735718, Train Accuracy: 0.8732237092425019, Validation Accuracy: 0.8561643835616438, Validation Loss: 0.2461222893749625\n"
     ]
    },
    {
     "name": "stderr",
     "output_type": "stream",
     "text": [
      "100%|████████████████████████████████████████████████████████████████████████████| 1612/1612 [11:03<00:00,  2.43it/s]\n",
      "100%|██████████████████████████████████████████████████████████████████████████████| 403/403 [00:49<00:00,  8.16it/s]\n"
     ]
    },
    {
     "name": "stdout",
     "output_type": "stream",
     "text": [
      "Next Word Model LSTM -> Epoch: 185, Loss: 0.7233712673187256, Train Accuracy: 0.8732981521613261, Validation Accuracy: 0.8698630136986302, Validation Loss: 0.2477524769580497\n"
     ]
    },
    {
     "name": "stderr",
     "output_type": "stream",
     "text": [
      "100%|████████████████████████████████████████████████████████████████████████████| 1612/1612 [11:03<00:00,  2.43it/s]\n",
      "100%|██████████████████████████████████████████████████████████████████████████████| 403/403 [00:49<00:00,  8.12it/s]\n"
     ]
    },
    {
     "name": "stdout",
     "output_type": "stream",
     "text": [
      "Next Word Model LSTM -> Epoch: 186, Loss: 0.8035873174667358, Train Accuracy: 0.8732278449602144, Validation Accuracy: 0.8972602739726028, Validation Loss: 0.24812907945839796\n"
     ]
    },
    {
     "name": "stderr",
     "output_type": "stream",
     "text": [
      "100%|████████████████████████████████████████████████████████████████████████████| 1612/1612 [11:02<00:00,  2.43it/s]\n",
      "100%|██████████████████████████████████████████████████████████████████████████████| 403/403 [00:49<00:00,  8.14it/s]\n"
     ]
    },
    {
     "name": "stdout",
     "output_type": "stream",
     "text": [
      "Next Word Model LSTM -> Epoch: 187, Loss: 0.9376004934310913, Train Accuracy: 0.873397409386425, Validation Accuracy: 0.8287671232876712, Validation Loss: 0.24585663005503813\n"
     ]
    },
    {
     "name": "stderr",
     "output_type": "stream",
     "text": [
      "100%|████████████████████████████████████████████████████████████████████████████| 1612/1612 [11:01<00:00,  2.44it/s]\n",
      "100%|██████████████████████████████████████████████████████████████████████████████| 403/403 [00:49<00:00,  8.13it/s]\n"
     ]
    },
    {
     "name": "stdout",
     "output_type": "stream",
     "text": [
      "Next Word Model LSTM -> Epoch: 188, Loss: 0.7185983061790466, Train Accuracy: 0.8730582805340039, Validation Accuracy: 0.9041095890410958, Validation Loss: 0.24798256578582534\n"
     ]
    },
    {
     "name": "stderr",
     "output_type": "stream",
     "text": [
      "100%|████████████████████████████████████████████████████████████████████████████| 1612/1612 [11:01<00:00,  2.44it/s]\n",
      "100%|██████████████████████████████████████████████████████████████████████████████| 403/403 [00:49<00:00,  8.11it/s]\n"
     ]
    },
    {
     "name": "stdout",
     "output_type": "stream",
     "text": [
      "Next Word Model LSTM -> Epoch: 189, Loss: 0.8790594935417175, Train Accuracy: 0.8725661301262221, Validation Accuracy: 0.8767123287671232, Validation Loss: 0.24888076710384274\n"
     ]
    },
    {
     "name": "stderr",
     "output_type": "stream",
     "text": [
      "100%|████████████████████████████████████████████████████████████████████████████| 1612/1612 [11:03<00:00,  2.43it/s]\n",
      "100%|██████████████████████████████████████████████████████████████████████████████| 403/403 [00:49<00:00,  8.10it/s]\n"
     ]
    },
    {
     "name": "stdout",
     "output_type": "stream",
     "text": [
      "Next Word Model LSTM -> Epoch: 190, Loss: 0.7194883823394775, Train Accuracy: 0.8735669738126355, Validation Accuracy: 0.9041095890410958, Validation Loss: 0.24786148352860343\n"
     ]
    },
    {
     "name": "stderr",
     "output_type": "stream",
     "text": [
      "100%|████████████████████████████████████████████████████████████████████████████| 1612/1612 [11:03<00:00,  2.43it/s]\n",
      "100%|██████████████████████████████████████████████████████████████████████████████| 403/403 [00:49<00:00,  8.11it/s]\n"
     ]
    },
    {
     "name": "stdout",
     "output_type": "stream",
     "text": [
      "Next Word Model LSTM -> Epoch: 191, Loss: 0.8802331686019897, Train Accuracy: 0.8732402521133518, Validation Accuracy: 0.8356164383561644, Validation Loss: 0.24670434444238062\n"
     ]
    },
    {
     "name": "stderr",
     "output_type": "stream",
     "text": [
      "100%|████████████████████████████████████████████████████████████████████████████| 1612/1612 [11:03<00:00,  2.43it/s]\n",
      "100%|██████████████████████████████████████████████████████████████████████████████| 403/403 [00:49<00:00,  8.11it/s]\n"
     ]
    },
    {
     "name": "stdout",
     "output_type": "stream",
     "text": [
      "Next Word Model LSTM -> Epoch: 192, Loss: 0.7524681687355042, Train Accuracy: 0.873397409386425, Validation Accuracy: 0.9041095890410958, Validation Loss: 0.24804617641954185\n"
     ]
    },
    {
     "name": "stderr",
     "output_type": "stream",
     "text": [
      "100%|████████████████████████████████████████████████████████████████████████████| 1612/1612 [11:03<00:00,  2.43it/s]\n",
      "100%|██████████████████████████████████████████████████████████████████████████████| 403/403 [00:49<00:00,  8.09it/s]\n"
     ]
    },
    {
     "name": "stdout",
     "output_type": "stream",
     "text": [
      "Next Word Model LSTM -> Epoch: 193, Loss: 0.8446513414382935, Train Accuracy: 0.8730376019454417, Validation Accuracy: 0.863013698630137, Validation Loss: 0.25031875083942634\n"
     ]
    },
    {
     "name": "stderr",
     "output_type": "stream",
     "text": [
      "100%|████████████████████████████████████████████████████████████████████████████| 1612/1612 [11:02<00:00,  2.43it/s]\n",
      "100%|██████████████████████████████████████████████████████████████████████████████| 403/403 [00:49<00:00,  8.17it/s]\n"
     ]
    },
    {
     "name": "stdout",
     "output_type": "stream",
     "text": [
      "Next Word Model LSTM -> Epoch: 194, Loss: 0.696669340133667, Train Accuracy: 0.8734553094343992, Validation Accuracy: 0.8972602739726028, Validation Loss: 0.24679060288630347\n"
     ]
    },
    {
     "name": "stderr",
     "output_type": "stream",
     "text": [
      "100%|████████████████████████████████████████████████████████████████████████████| 1612/1612 [11:01<00:00,  2.44it/s]\n",
      "100%|██████████████████████████████████████████████████████████████████████████████| 403/403 [00:49<00:00,  8.19it/s]\n"
     ]
    },
    {
     "name": "stdout",
     "output_type": "stream",
     "text": [
      "Next Word Model LSTM -> Epoch: 195, Loss: 0.8786561489105225, Train Accuracy: 0.874038445631855, Validation Accuracy: 0.8835616438356164, Validation Loss: 0.24958200024673804\n"
     ]
    },
    {
     "name": "stderr",
     "output_type": "stream",
     "text": [
      "100%|████████████████████████████████████████████████████████████████████████████| 1612/1612 [11:02<00:00,  2.43it/s]\n",
      "100%|██████████████████████████████████████████████████████████████████████████████| 403/403 [00:49<00:00,  8.17it/s]\n"
     ]
    },
    {
     "name": "stdout",
     "output_type": "stream",
     "text": [
      "Next Word Model LSTM -> Epoch: 196, Loss: 0.7826787829399109, Train Accuracy: 0.8739970884547305, Validation Accuracy: 0.8356164383561644, Validation Loss: 0.24658599531779318\n"
     ]
    },
    {
     "name": "stderr",
     "output_type": "stream",
     "text": [
      "100%|████████████████████████████████████████████████████████████████████████████| 1612/1612 [11:54<00:00,  2.25it/s]\n",
      "100%|██████████████████████████████████████████████████████████████████████████████| 403/403 [00:49<00:00,  8.17it/s]\n"
     ]
    },
    {
     "name": "stdout",
     "output_type": "stream",
     "text": [
      "Next Word Model LSTM -> Epoch: 197, Loss: 0.6631138324737549, Train Accuracy: 0.8739267812536188, Validation Accuracy: 0.9178082191780822, Validation Loss: 0.24958737813889428\n"
     ]
    },
    {
     "name": "stderr",
     "output_type": "stream",
     "text": [
      "100%|████████████████████████████████████████████████████████████████████████████| 1612/1612 [11:03<00:00,  2.43it/s]\n",
      "100%|██████████████████████████████████████████████████████████████████████████████| 403/403 [00:49<00:00,  8.17it/s]\n"
     ]
    },
    {
     "name": "stdout",
     "output_type": "stream",
     "text": [
      "Next Word Model LSTM -> Epoch: 198, Loss: 0.6576101779937744, Train Accuracy: 0.8736372810137472, Validation Accuracy: 0.9178082191780822, Validation Loss: 0.24804568659585\n"
     ]
    },
    {
     "name": "stderr",
     "output_type": "stream",
     "text": [
      "100%|████████████████████████████████████████████████████████████████████████████| 1612/1612 [11:02<00:00,  2.43it/s]\n",
      "100%|██████████████████████████████████████████████████████████████████████████████| 403/403 [00:49<00:00,  8.13it/s]\n"
     ]
    },
    {
     "name": "stdout",
     "output_type": "stream",
     "text": [
      "Next Word Model LSTM -> Epoch: 199, Loss: 0.6980828642845154, Train Accuracy: 0.874633988982448, Validation Accuracy: 0.8972602739726028, Validation Loss: 0.25228253688381796\n"
     ]
    },
    {
     "name": "stderr",
     "output_type": "stream",
     "text": [
      "100%|████████████████████████████████████████████████████████████████████████████| 1612/1612 [11:01<00:00,  2.44it/s]\n",
      "100%|██████████████████████████████████████████████████████████████████████████████| 403/403 [00:49<00:00,  8.13it/s]\n"
     ]
    },
    {
     "name": "stdout",
     "output_type": "stream",
     "text": [
      "Next Word Model LSTM -> Epoch: 200, Loss: 0.8215367794036865, Train Accuracy: 0.8736331452960346, Validation Accuracy: 0.863013698630137, Validation Loss: 0.24818921802714378\n"
     ]
    },
    {
     "name": "stderr",
     "output_type": "stream",
     "text": [
      "100%|████████████████████████████████████████████████████████████████████████████| 1612/1612 [11:01<00:00,  2.44it/s]\n",
      "100%|██████████████████████████████████████████████████████████████████████████████| 403/403 [00:49<00:00,  8.14it/s]\n"
     ]
    },
    {
     "name": "stdout",
     "output_type": "stream",
     "text": [
      "Next Word Model LSTM -> Epoch: 201, Loss: 0.8813058733940125, Train Accuracy: 0.8739226455359063, Validation Accuracy: 0.8561643835616438, Validation Loss: 0.2484916485303109\n"
     ]
    },
    {
     "name": "stderr",
     "output_type": "stream",
     "text": [
      "100%|████████████████████████████████████████████████████████████████████████████| 1612/1612 [11:02<00:00,  2.43it/s]\n",
      "100%|██████████████████████████████████████████████████████████████████████████████| 403/403 [00:49<00:00,  8.16it/s]\n"
     ]
    },
    {
     "name": "stdout",
     "output_type": "stream",
     "text": [
      "Next Word Model LSTM -> Epoch: 202, Loss: 0.9097927808761597, Train Accuracy: 0.8732650664196264, Validation Accuracy: 0.8287671232876712, Validation Loss: 0.24989089888525268\n"
     ]
    },
    {
     "name": "stderr",
     "output_type": "stream",
     "text": [
      "100%|████████████████████████████████████████████████████████████████████████████| 1612/1612 [11:03<00:00,  2.43it/s]\n",
      "100%|██████████████████████████████████████████████████████████████████████████████| 403/403 [00:49<00:00,  8.15it/s]\n"
     ]
    },
    {
     "name": "stdout",
     "output_type": "stream",
     "text": [
      "Next Word Model LSTM -> Epoch: 203, Loss: 0.8232293128967285, Train Accuracy: 0.873215437807077, Validation Accuracy: 0.8767123287671232, Validation Loss: 0.24903272822079967\n"
     ]
    },
    {
     "name": "stderr",
     "output_type": "stream",
     "text": [
      "100%|████████████████████████████████████████████████████████████████████████████| 1612/1612 [11:04<00:00,  2.43it/s]\n",
      "100%|██████████████████████████████████████████████████████████████████████████████| 403/403 [00:49<00:00,  8.07it/s]\n"
     ]
    },
    {
     "name": "stdout",
     "output_type": "stream",
     "text": [
      "Next Word Model LSTM -> Epoch: 204, Loss: 0.8427942395210266, Train Accuracy: 0.8746174461115982, Validation Accuracy: 0.8356164383561644, Validation Loss: 0.249732300947534\n"
     ]
    },
    {
     "name": "stderr",
     "output_type": "stream",
     "text": [
      "100%|████████████████████████████████████████████████████████████████████████████| 1612/1612 [11:03<00:00,  2.43it/s]\n",
      "100%|██████████████████████████████████████████████████████████████████████████████| 403/403 [00:49<00:00,  8.09it/s]\n"
     ]
    },
    {
     "name": "stdout",
     "output_type": "stream",
     "text": [
      "Next Word Model LSTM -> Epoch: 205, Loss: 0.730387806892395, Train Accuracy: 0.8740177670432927, Validation Accuracy: 0.8835616438356164, Validation Loss: 0.25017348359750435\n"
     ]
    },
    {
     "name": "stderr",
     "output_type": "stream",
     "text": [
      "100%|████████████████████████████████████████████████████████████████████████████| 1612/1612 [11:04<00:00,  2.43it/s]\n",
      "100%|██████████████████████████████████████████████████████████████████████████████| 403/403 [00:49<00:00,  8.09it/s]\n"
     ]
    },
    {
     "name": "stdout",
     "output_type": "stream",
     "text": [
      "Next Word Model LSTM -> Epoch: 206, Loss: 0.7932742834091187, Train Accuracy: 0.8738606097702195, Validation Accuracy: 0.8835616438356164, Validation Loss: 0.250124127528374\n"
     ]
    },
    {
     "name": "stderr",
     "output_type": "stream",
     "text": [
      "100%|████████████████████████████████████████████████████████████████████████████| 1612/1612 [11:04<00:00,  2.43it/s]\n",
      "100%|██████████████████████████████████████████████████████████████████████████████| 403/403 [00:49<00:00,  8.11it/s]\n"
     ]
    },
    {
     "name": "stdout",
     "output_type": "stream",
     "text": [
      "Next Word Model LSTM -> Epoch: 207, Loss: 0.8156583309173584, Train Accuracy: 0.8744644245562375, Validation Accuracy: 0.863013698630137, Validation Loss: 0.25007204302258623\n"
     ]
    },
    {
     "name": "stderr",
     "output_type": "stream",
     "text": [
      "100%|████████████████████████████████████████████████████████████████████████████| 1612/1612 [11:04<00:00,  2.42it/s]\n",
      "100%|██████████████████████████████████████████████████████████████████████████████| 403/403 [00:49<00:00,  8.10it/s]\n"
     ]
    },
    {
     "name": "stdout",
     "output_type": "stream",
     "text": [
      "Next Word Model LSTM -> Epoch: 208, Loss: 0.7784820795059204, Train Accuracy: 0.8740136313255802, Validation Accuracy: 0.8835616438356164, Validation Loss: 0.2524241757623812\n"
     ]
    },
    {
     "name": "stderr",
     "output_type": "stream",
     "text": [
      "100%|████████████████████████████████████████████████████████████████████████████| 1612/1612 [11:06<00:00,  2.42it/s]\n",
      "100%|██████████████████████████████████████████████████████████████████████████████| 403/403 [00:49<00:00,  8.09it/s]\n"
     ]
    },
    {
     "name": "stdout",
     "output_type": "stream",
     "text": [
      "Next Word Model LSTM -> Epoch: 209, Loss: 0.8966476917266846, Train Accuracy: 0.8748738606097702, Validation Accuracy: 0.8493150684931506, Validation Loss: 0.25025892845414766\n"
     ]
    },
    {
     "name": "stderr",
     "output_type": "stream",
     "text": [
      "100%|████████████████████████████████████████████████████████████████████████████| 1612/1612 [11:05<00:00,  2.42it/s]\n",
      "100%|██████████████████████████████████████████████████████████████████████████████| 403/403 [00:50<00:00,  8.06it/s]\n"
     ]
    },
    {
     "name": "stdout",
     "output_type": "stream",
     "text": [
      "Next Word Model LSTM -> Epoch: 210, Loss: 0.6820054054260254, Train Accuracy: 0.8742865886946021, Validation Accuracy: 0.8972602739726028, Validation Loss: 0.2507790479465845\n"
     ]
    },
    {
     "name": "stderr",
     "output_type": "stream",
     "text": [
      "100%|████████████████████████████████████████████████████████████████████████████| 1612/1612 [11:05<00:00,  2.42it/s]\n",
      "100%|██████████████████████████████████████████████████████████████████████████████| 403/403 [00:50<00:00,  8.05it/s]\n"
     ]
    },
    {
     "name": "stdout",
     "output_type": "stream",
     "text": [
      "Next Word Model LSTM -> Epoch: 211, Loss: 0.9195190072059631, Train Accuracy: 0.8743279458717266, Validation Accuracy: 0.8424657534246576, Validation Loss: 0.2506461111758214\n"
     ]
    },
    {
     "name": "stderr",
     "output_type": "stream",
     "text": [
      "100%|████████████████████████████████████████████████████████████████████████████| 1612/1612 [11:03<00:00,  2.43it/s]\n",
      "100%|██████████████████████████████████████████████████████████████████████████████| 403/403 [00:49<00:00,  8.07it/s]\n"
     ]
    },
    {
     "name": "stdout",
     "output_type": "stream",
     "text": [
      "Next Word Model LSTM -> Epoch: 212, Loss: 0.7392220497131348, Train Accuracy: 0.8745099174510744, Validation Accuracy: 0.8767123287671232, Validation Loss: 0.24911061216603458\n"
     ]
    },
    {
     "name": "stderr",
     "output_type": "stream",
     "text": [
      "100%|████████████████████████████████████████████████████████████████████████████| 1612/1612 [11:03<00:00,  2.43it/s]\n",
      "100%|██████████████████████████████████████████████████████████████████████████████| 403/403 [00:49<00:00,  8.08it/s]\n"
     ]
    },
    {
     "name": "stdout",
     "output_type": "stream",
     "text": [
      "Next Word Model LSTM -> Epoch: 213, Loss: 0.6748255491256714, Train Accuracy: 0.874083938526692, Validation Accuracy: 0.9041095890410958, Validation Loss: 0.2522166108375732\n"
     ]
    },
    {
     "name": "stderr",
     "output_type": "stream",
     "text": [
      "100%|████████████████████████████████████████████████████████████████████████████| 1612/1612 [11:02<00:00,  2.43it/s]\n",
      "100%|██████████████████████████████████████████████████████████████████████████████| 403/403 [00:49<00:00,  8.17it/s]\n"
     ]
    },
    {
     "name": "stdout",
     "output_type": "stream",
     "text": [
      "Next Word Model LSTM -> Epoch: 214, Loss: 0.843028724193573, Train Accuracy: 0.8746753461595725, Validation Accuracy: 0.8356164383561644, Validation Loss: 0.24927049404675655\n"
     ]
    },
    {
     "name": "stderr",
     "output_type": "stream",
     "text": [
      "100%|████████████████████████████████████████████████████████████████████████████| 1612/1612 [11:03<00:00,  2.43it/s]\n",
      "100%|██████████████████████████████████████████████████████████████████████████████| 403/403 [00:49<00:00,  8.08it/s]\n"
     ]
    },
    {
     "name": "stdout",
     "output_type": "stream",
     "text": [
      "Next Word Model LSTM -> Epoch: 215, Loss: 0.7118958234786987, Train Accuracy: 0.8751716322850668, Validation Accuracy: 0.8972602739726028, Validation Loss: 0.24889731809367957\n"
     ]
    },
    {
     "name": "stderr",
     "output_type": "stream",
     "text": [
      "100%|████████████████████████████████████████████████████████████████████████████| 1612/1612 [11:05<00:00,  2.42it/s]\n",
      "100%|██████████████████████████████████████████████████████████████████████████████| 403/403 [00:49<00:00,  8.08it/s]\n"
     ]
    },
    {
     "name": "stdout",
     "output_type": "stream",
     "text": [
      "Next Word Model LSTM -> Epoch: 216, Loss: 0.8037106990814209, Train Accuracy: 0.8749069463514698, Validation Accuracy: 0.8561643835616438, Validation Loss: 0.25143678367702904\n"
     ]
    },
    {
     "name": "stderr",
     "output_type": "stream",
     "text": [
      "100%|████████████████████████████████████████████████████████████████████████████| 1612/1612 [11:04<00:00,  2.43it/s]\n",
      "100%|██████████████████████████████████████████████████████████████████████████████| 403/403 [00:49<00:00,  8.07it/s]\n"
     ]
    },
    {
     "name": "stdout",
     "output_type": "stream",
     "text": [
      "Next Word Model LSTM -> Epoch: 217, Loss: 0.8732445240020752, Train Accuracy: 0.8747415176429718, Validation Accuracy: 0.8287671232876712, Validation Loss: 0.2517697081177124\n"
     ]
    },
    {
     "name": "stderr",
     "output_type": "stream",
     "text": [
      "100%|████████████████████████████████████████████████████████████████████████████| 1612/1612 [11:04<00:00,  2.43it/s]\n",
      "100%|██████████████████████████████████████████████████████████████████████████████| 403/403 [00:49<00:00,  8.08it/s]\n"
     ]
    },
    {
     "name": "stdout",
     "output_type": "stream",
     "text": [
      "Next Word Model LSTM -> Epoch: 218, Loss: 0.9308621883392334, Train Accuracy: 0.8740012241724429, Validation Accuracy: 0.8493150684931506, Validation Loss: 0.24895086352904125\n"
     ]
    },
    {
     "name": "stderr",
     "output_type": "stream",
     "text": [
      "100%|████████████████████████████████████████████████████████████████████████████| 1612/1612 [11:04<00:00,  2.42it/s]\n",
      "100%|██████████████████████████████████████████████████████████████████████████████| 403/403 [00:49<00:00,  8.12it/s]\n"
     ]
    },
    {
     "name": "stdout",
     "output_type": "stream",
     "text": [
      "Next Word Model LSTM -> Epoch: 219, Loss: 0.7452946901321411, Train Accuracy: 0.875064103624543, Validation Accuracy: 0.8767123287671232, Validation Loss: 0.24771452917370576\n"
     ]
    },
    {
     "name": "stderr",
     "output_type": "stream",
     "text": [
      "100%|████████████████████████████████████████████████████████████████████████████| 1612/1612 [11:05<00:00,  2.42it/s]\n",
      "100%|██████████████████████████████████████████████████████████████████████████████| 403/403 [00:49<00:00,  8.10it/s]\n"
     ]
    },
    {
     "name": "stdout",
     "output_type": "stream",
     "text": [
      "Next Word Model LSTM -> Epoch: 220, Loss: 0.928523063659668, Train Accuracy: 0.8748283677149332, Validation Accuracy: 0.821917808219178, Validation Loss: 0.2552851328569917\n"
     ]
    },
    {
     "name": "stderr",
     "output_type": "stream",
     "text": [
      "100%|████████████████████████████████████████████████████████████████████████████| 1612/1612 [11:06<00:00,  2.42it/s]\n",
      "100%|██████████████████████████████████████████████████████████████████████████████| 403/403 [00:49<00:00,  8.09it/s]\n"
     ]
    },
    {
     "name": "stdout",
     "output_type": "stream",
     "text": [
      "Next Word Model LSTM -> Epoch: 221, Loss: 0.7640058994293213, Train Accuracy: 0.8749648463994442, Validation Accuracy: 0.8561643835616438, Validation Loss: 0.25411861703224037\n"
     ]
    },
    {
     "name": "stderr",
     "output_type": "stream",
     "text": [
      "100%|████████████████████████████████████████████████████████████████████████████| 1612/1612 [11:05<00:00,  2.42it/s]\n",
      "100%|██████████████████████████████████████████████████████████████████████████████| 403/403 [00:49<00:00,  8.08it/s]\n"
     ]
    },
    {
     "name": "stdout",
     "output_type": "stream",
     "text": [
      "Next Word Model LSTM -> Epoch: 222, Loss: 0.7761799097061157, Train Accuracy: 0.8750847822131053, Validation Accuracy: 0.9041095890410958, Validation Loss: 0.253564022319609\n"
     ]
    },
    {
     "name": "stderr",
     "output_type": "stream",
     "text": [
      "100%|████████████████████████████████████████████████████████████████████████████| 1612/1612 [11:05<00:00,  2.42it/s]\n",
      "100%|██████████████████████████████████████████████████████████████████████████████| 403/403 [00:49<00:00,  8.08it/s]\n"
     ]
    },
    {
     "name": "stdout",
     "output_type": "stream",
     "text": [
      "Next Word Model LSTM -> Epoch: 223, Loss: 0.8776088953018188, Train Accuracy: 0.8748573177389204, Validation Accuracy: 0.821917808219178, Validation Loss: 0.250092434637645\n"
     ]
    },
    {
     "name": "stderr",
     "output_type": "stream",
     "text": [
      "100%|████████████████████████████████████████████████████████████████████████████| 1612/1612 [11:03<00:00,  2.43it/s]\n",
      "100%|██████████████████████████████████████████████████████████████████████████████| 403/403 [00:50<00:00,  8.06it/s]\n"
     ]
    },
    {
     "name": "stdout",
     "output_type": "stream",
     "text": [
      "Next Word Model LSTM -> Epoch: 224, Loss: 0.7249068021774292, Train Accuracy: 0.8745802246521861, Validation Accuracy: 0.8904109589041096, Validation Loss: 0.2503993582849962\n"
     ]
    },
    {
     "name": "stderr",
     "output_type": "stream",
     "text": [
      "100%|████████████████████████████████████████████████████████████████████████████| 1612/1612 [11:03<00:00,  2.43it/s]\n",
      "100%|██████████████████████████████████████████████████████████████████████████████| 403/403 [00:49<00:00,  8.07it/s]\n"
     ]
    },
    {
     "name": "stdout",
     "output_type": "stream",
     "text": [
      "Next Word Model LSTM -> Epoch: 225, Loss: 0.7150111794471741, Train Accuracy: 0.8757299541762478, Validation Accuracy: 0.9041095890410958, Validation Loss: 0.2517526572466579\n"
     ]
    },
    {
     "name": "stderr",
     "output_type": "stream",
     "text": [
      "100%|████████████████████████████████████████████████████████████████████████████| 1612/1612 [11:04<00:00,  2.43it/s]\n",
      "100%|██████████████████████████████████████████████████████████████████████████████| 403/403 [00:49<00:00,  8.09it/s]\n"
     ]
    },
    {
     "name": "stdout",
     "output_type": "stream",
     "text": [
      "Next Word Model LSTM -> Epoch: 226, Loss: 0.8341734409332275, Train Accuracy: 0.8744023887905508, Validation Accuracy: 0.863013698630137, Validation Loss: 0.25260686036509006\n"
     ]
    },
    {
     "name": "stderr",
     "output_type": "stream",
     "text": [
      "100%|████████████████████████████████████████████████████████████████████████████| 1612/1612 [11:04<00:00,  2.42it/s]\n",
      "100%|██████████████████████████████████████████████████████████████████████████████| 403/403 [00:49<00:00,  8.09it/s]\n"
     ]
    },
    {
     "name": "stdout",
     "output_type": "stream",
     "text": [
      "Next Word Model LSTM -> Epoch: 227, Loss: 0.8715425133705139, Train Accuracy: 0.8754818111135007, Validation Accuracy: 0.8493150684931506, Validation Loss: 0.25227514046102534\n"
     ]
    },
    {
     "name": "stderr",
     "output_type": "stream",
     "text": [
      "100%|████████████████████████████████████████████████████████████████████████████| 1612/1612 [11:05<00:00,  2.42it/s]\n",
      "100%|██████████████████████████████████████████████████████████████████████████████| 403/403 [00:49<00:00,  8.09it/s]\n"
     ]
    },
    {
     "name": "stdout",
     "output_type": "stream",
     "text": [
      "Next Word Model LSTM -> Epoch: 228, Loss: 0.9107475280761719, Train Accuracy: 0.8751344108256547, Validation Accuracy: 0.8493150684931506, Validation Loss: 0.24987385784986682\n"
     ]
    },
    {
     "name": "stderr",
     "output_type": "stream",
     "text": [
      "100%|████████████████████████████████████████████████████████████████████████████| 1612/1612 [11:04<00:00,  2.43it/s]\n",
      "100%|██████████████████████████████████████████████████████████████████████████████| 403/403 [00:49<00:00,  8.06it/s]\n"
     ]
    },
    {
     "name": "stdout",
     "output_type": "stream",
     "text": [
      "Next Word Model LSTM -> Epoch: 229, Loss: 0.6517065763473511, Train Accuracy: 0.8758457542721964, Validation Accuracy: 0.9178082191780822, Validation Loss: 0.25148942998067764\n"
     ]
    },
    {
     "name": "stderr",
     "output_type": "stream",
     "text": [
      "100%|████████████████████████████████████████████████████████████████████████████| 1612/1612 [11:04<00:00,  2.43it/s]\n",
      "100%|██████████████████████████████████████████████████████████████████████████████| 403/403 [00:49<00:00,  8.08it/s]\n"
     ]
    },
    {
     "name": "stdout",
     "output_type": "stream",
     "text": [
      "Next Word Model LSTM -> Epoch: 230, Loss: 0.7761642932891846, Train Accuracy: 0.8753618752998396, Validation Accuracy: 0.8424657534246576, Validation Loss: 0.252108347932309\n"
     ]
    },
    {
     "name": "stderr",
     "output_type": "stream",
     "text": [
      "100%|████████████████████████████████████████████████████████████████████████████| 1612/1612 [11:04<00:00,  2.42it/s]\n",
      "100%|██████████████████████████████████████████████████████████████████████████████| 403/403 [00:49<00:00,  8.11it/s]\n"
     ]
    },
    {
     "name": "stdout",
     "output_type": "stream",
     "text": [
      "Next Word Model LSTM -> Epoch: 231, Loss: 0.7465265393257141, Train Accuracy: 0.8750971893662426, Validation Accuracy: 0.9041095890410958, Validation Loss: 0.2513973905300904\n"
     ]
    },
    {
     "name": "stderr",
     "output_type": "stream",
     "text": [
      "100%|████████████████████████████████████████████████████████████████████████████| 1612/1612 [11:05<00:00,  2.42it/s]\n",
      "100%|██████████████████████████████████████████████████████████████████████████████| 403/403 [00:49<00:00,  8.10it/s]\n"
     ]
    },
    {
     "name": "stdout",
     "output_type": "stream",
     "text": [
      "Next Word Model LSTM -> Epoch: 232, Loss: 0.7826622724533081, Train Accuracy: 0.875576932620887, Validation Accuracy: 0.8767123287671232, Validation Loss: 0.25166742370898487\n"
     ]
    },
    {
     "name": "stderr",
     "output_type": "stream",
     "text": [
      "100%|████████████████████████████████████████████████████████████████████████████| 1612/1612 [11:05<00:00,  2.42it/s]\n",
      "100%|██████████████████████████████████████████████████████████████████████████████| 403/403 [00:49<00:00,  8.08it/s]\n"
     ]
    },
    {
     "name": "stdout",
     "output_type": "stream",
     "text": [
      "Next Word Model LSTM -> Epoch: 233, Loss: 0.7504581809043884, Train Accuracy: 0.8752626180747407, Validation Accuracy: 0.8698630136986302, Validation Loss: 0.2531257869129463\n"
     ]
    },
    {
     "name": "stderr",
     "output_type": "stream",
     "text": [
      "100%|████████████████████████████████████████████████████████████████████████████| 1612/1612 [11:06<00:00,  2.42it/s]\n",
      "100%|██████████████████████████████████████████████████████████████████████████████| 403/403 [00:49<00:00,  8.08it/s]\n"
     ]
    },
    {
     "name": "stdout",
     "output_type": "stream",
     "text": [
      "Next Word Model LSTM -> Epoch: 234, Loss: 0.7008843421936035, Train Accuracy: 0.8752957038164403, Validation Accuracy: 0.910958904109589, Validation Loss: 0.2526338100970737\n"
     ]
    },
    {
     "name": "stderr",
     "output_type": "stream",
     "text": [
      "100%|████████████████████████████████████████████████████████████████████████████| 1612/1612 [11:04<00:00,  2.43it/s]\n",
      "100%|██████████████████████████████████████████████████████████████████████████████| 403/403 [00:49<00:00,  8.07it/s]\n"
     ]
    },
    {
     "name": "stdout",
     "output_type": "stream",
     "text": [
      "Next Word Model LSTM -> Epoch: 235, Loss: 0.8544548749923706, Train Accuracy: 0.8757878542242221, Validation Accuracy: 0.8561643835616438, Validation Loss: 0.2530797444472911\n"
     ]
    },
    {
     "name": "stderr",
     "output_type": "stream",
     "text": [
      "100%|████████████████████████████████████████████████████████████████████████████| 1612/1612 [11:01<00:00,  2.44it/s]\n",
      "100%|██████████████████████████████████████████████████████████████████████████████| 403/403 [00:49<00:00,  8.12it/s]\n"
     ]
    },
    {
     "name": "stdout",
     "output_type": "stream",
     "text": [
      "Next Word Model LSTM -> Epoch: 236, Loss: 0.7660036683082581, Train Accuracy: 0.875366011017552, Validation Accuracy: 0.8767123287671232, Validation Loss: 0.2538037971548313\n"
     ]
    },
    {
     "name": "stderr",
     "output_type": "stream",
     "text": [
      "100%|████████████████████████████████████████████████████████████████████████████| 1612/1612 [11:03<00:00,  2.43it/s]\n",
      "100%|██████████████████████████████████████████████████████████████████████████████| 403/403 [00:49<00:00,  8.07it/s]\n"
     ]
    },
    {
     "name": "stdout",
     "output_type": "stream",
     "text": [
      "Next Word Model LSTM -> Epoch: 237, Loss: 0.8919053673744202, Train Accuracy: 0.875403232476964, Validation Accuracy: 0.8356164383561644, Validation Loss: 0.25307860491482814\n"
     ]
    },
    {
     "name": "stderr",
     "output_type": "stream",
     "text": [
      "100%|████████████████████████████████████████████████████████████████████████████| 1612/1612 [11:04<00:00,  2.43it/s]\n",
      "100%|██████████████████████████████████████████████████████████████████████████████| 403/403 [00:49<00:00,  8.08it/s]\n"
     ]
    },
    {
     "name": "stdout",
     "output_type": "stream",
     "text": [
      "Next Word Model LSTM -> Epoch: 238, Loss: 0.9053455591201782, Train Accuracy: 0.8760070472629821, Validation Accuracy: 0.8493150684931506, Validation Loss: 0.25206762804241817\n"
     ]
    },
    {
     "name": "stderr",
     "output_type": "stream",
     "text": [
      "100%|████████████████████████████████████████████████████████████████████████████| 1612/1612 [11:05<00:00,  2.42it/s]\n",
      "100%|██████████████████████████████████████████████████████████████████████████████| 403/403 [00:49<00:00,  8.08it/s]\n"
     ]
    },
    {
     "name": "stdout",
     "output_type": "stream",
     "text": [
      "Next Word Model LSTM -> Epoch: 239, Loss: 0.6875624656677246, Train Accuracy: 0.8760649473109563, Validation Accuracy: 0.8835616438356164, Validation Loss: 0.2535585641336393\n"
     ]
    },
    {
     "name": "stderr",
     "output_type": "stream",
     "text": [
      "  9%|███████                                                                      | 149/1612 [01:01<10:03,  2.42it/s]"
     ]
    }
   ],
   "source": [
    "gc.collect\n",
    "torch.cuda.empty_cache()\n",
    "num_epochs = 700#751#301#651 #251\n",
    "len_data = len(train_loader.dataset)\n",
    "# early_stopper = EarlyStopper(patience=5, min_delta=0) #falta testar patience = 5 e min_delta = 0\n",
    "\n",
    "for epoch in range(1, num_epochs):\n",
    "  running_loss = 0\n",
    "  runningLossValid = 0\n",
    "  epoch_losses = []\n",
    "  nw_model.train() #####\n",
    "  accuracy = 0\n",
    "  totalSamples = 0\n",
    "  accuracyValid = 0\n",
    "  totalSamplesValid = 0\n",
    "\n",
    "  for batch_X, batch_y in tqdm(train_loader):\n",
    "      batch_X, batch_y = batch_X.to(device), batch_y.to(device)\n",
    "      optimizer.zero_grad()\n",
    "      outputs = nw_model(batch_X)\n",
    "      loss = criterion(outputs, batch_y.argmax(dim=1)) #batch_y tem shape: batch_size X 341, por isso dim = 1. argmax pega p argmax de \n",
    "                                                      #cada linha\n",
    "      ############### Parte da regularização L1 e L2 #############################\n",
    "      # Apply L1 regularization\n",
    "      if regularization_type1 == 'L1':\n",
    "        l1_norm = sum(p.abs().sum() for p in nw_model.parameters())\n",
    "        loss += lambda_reg1 * l1_norm\n",
    "        \n",
    "      # Apply L2 regularization\n",
    "      elif regularization_type2 == 'L2':\n",
    "        l2_norm = sum(p.pow(2).sum() for p in nw_model.parameters())\n",
    "        loss += lambda_reg2 * l2_norm  \n",
    "\n",
    "      ##################### Loss normalizado ##################\n",
    "      running_loss += loss.item() * batch_X.size(0)\n",
    "      epoch_loss = running_loss / len_data\n",
    "      epoch_losses.append(epoch_loss)  \n",
    "      \n",
    "      ######### parte de cáculo da acurácia ####################\n",
    "      prediction = outputs.argmax(dim=1) \n",
    "      realValue = batch_y.argmax(dim=1)\n",
    "      accuracy += (prediction == realValue).sum().item()\n",
    "      totalSamples += realValue.size(0)\n",
    "    \n",
    "      \n",
    "      loss.backward()\n",
    "      optimizer.step()\n",
    "      \n",
    "  accuracy = accuracy/totalSamples\n",
    "\n",
    "  nw_model.eval() #####\n",
    "  for batch_X, batch_y in tqdm(valid_loader):\n",
    "      batch_X, batch_y = batch_X.to(device), batch_y.to(device)\n",
    "      \n",
    "      outputs = nw_model(batch_X)\n",
    "      lossValid = criterion(outputs, batch_y.argmax(dim=1)) #batch_y tem shape: batch_size X 341, por isso dim = 1. argmax pega p argmax de \n",
    "                                                      #cada linha\n",
    "      # ##################### Loss normalizado ##################\n",
    "      # running_loss += loss.item() * batch_X.size(0)\n",
    "      # epoch_loss = running_loss / len_data\n",
    "      # epoch_losses.append(epoch_loss)  \n",
    "      \n",
    "      ######### parte de cáculo da acurácia ####################\n",
    "      predictionValid = outputs.argmax(dim=1) \n",
    "      realValueValid = batch_y.argmax(dim=1)\n",
    "      accuracyValid += (prediction == realValue).sum().item()\n",
    "      totalSamplesValid += realValue.size(0)\n",
    "\n",
    "      ################ loss normalizado validação ###############\n",
    "      runningLossValid += lossValid.item() * batch_X.size(0)\n",
    "      epochLossValid = runningLossValid / len_data\n",
    "    \n",
    "\n",
    "\n",
    "  # if early_stopper.early_stop(lossValid):             \n",
    "  if epoch > 300:\n",
    "      if early_stopper.early_stop(epochLossValid):          \n",
    "          break\n",
    "  accuracyValid = accuracyValid/totalSamplesValid  \n",
    "  print(f'Next Word Model LSTM -> Epoch: {epoch}, Loss: {loss}, Train Accuracy: {accuracy}, Validation Accuracy: {accuracyValid}, Validation Loss: {epochLossValid}')\n",
    "  # if epoch % 10 == 0:\n",
    "  #   print(f'Next Word Model LSTM -> Epoch: {epoch}, Loss: {loss}')\n",
    "    \n",
    "  # if epoch % 25 == 0:\n",
    "  #   print(f'Next Word Model LSTM -> Epoch: {epoch}, Loss: {loss}')\n",
    "  "
   ]
  },
  {
   "cell_type": "code",
   "execution_count": null,
   "metadata": {},
   "outputs": [],
   "source": [
    "early_stopper.early_stop(lossValid)"
   ]
  },
  {
   "cell_type": "code",
   "execution_count": null,
   "metadata": {},
   "outputs": [],
   "source": [
    "early_stopper.counter"
   ]
  },
  {
   "cell_type": "code",
   "execution_count": null,
   "metadata": {},
   "outputs": [],
   "source": [
    "early_stopper.min_validation_loss"
   ]
  },
  {
   "cell_type": "code",
   "execution_count": null,
   "metadata": {},
   "outputs": [],
   "source": [
    "# a = batch_y.argmax(dim=1)\n",
    "# b0 = outputs\n",
    "# b = outputs.argmax(dim=1)\n",
    "# c = a==b\n",
    "# total_correct = c.sum().item()\n",
    "# # print(total_correct)\n",
    "# a.size(0)\n",
    "# # b0[0,:].size()"
   ]
  },
  {
   "cell_type": "code",
   "execution_count": null,
   "metadata": {},
   "outputs": [],
   "source": [
    "# PATH = 'modelos/512_1024'\n",
    "# model = torch.load(PATH, weights_only=False)\n",
    "# model.eval()\n",
    "model = nw_model"
   ]
  },
  {
   "cell_type": "code",
   "execution_count": null,
   "metadata": {},
   "outputs": [],
   "source": [
    "# PATH = 'modelos/5_512_1024_lr_dropout_3_layers'\n",
    "# torch.save(nw_model, PATH)"
   ]
  },
  {
   "cell_type": "code",
   "execution_count": null,
   "metadata": {
    "colab": {
     "base_uri": "https://localhost:8080/"
    },
    "id": "pSqEH7l2wx3Q",
    "outputId": "89891d2c-b051-44f8-a011-75f06335aa96"
   },
   "outputs": [],
   "source": [
    "device_cpu = 'cpu'\n",
    "\n",
    "# nw_model.to(device_cpu)\n",
    "model.to(device_cpu)\n",
    "model.eval()"
   ]
  },
  {
   "cell_type": "code",
   "execution_count": null,
   "metadata": {
    "id": "86jA_biew61I"
   },
   "outputs": [],
   "source": [
    "def pick_ngram_sub_sequence(seq_list):\n",
    "  idx = random.randint(0, len(seq_list))\n",
    "  return seq_list[idx], seq_list[idx][:-1]"
   ]
  },
  {
   "cell_type": "code",
   "execution_count": null,
   "metadata": {
    "colab": {
     "base_uri": "https://localhost:8080/",
     "height": 315
    },
    "id": "iAvT2fr8w8gH",
    "outputId": "5ea86fa0-4d00-4272-df84-27a4d60f59b6"
   },
   "outputs": [],
   "source": [
    "num_trials = 10\n",
    "acertos = 0\n",
    "for i in range(1, num_trials+1):\n",
    "  ngram_seq_pick, ngram_sub_seq = pick_ngram_sub_sequence(ngram_sequences)\n",
    "  print(f'Trial #{i} - Picked sequence: {ngram_seq_pick}, Test sub-sequence: {ngram_sub_seq}')\n",
    "  # ngram_sub_seq_num = ngram_sequences_to_numbers([ngram_sub_seq])\n",
    "  ngram_sub_seq_num = [ngram_sub_seq]\n",
    "  X_test = torch.tensor(ngram_sub_seq_num)\n",
    "  print(f'Trial #{i} - X_test: {X_test}')\n",
    "  model.eval()\n",
    "  with torch.no_grad():\n",
    "    # y_predict = nw_model(X_test)\n",
    "    y_predict = model(X_test)\n",
    "    idx = torch.argmax(y_predict)\n",
    "    # print('idx: ', idx)\n",
    "    print(f'Trial #{i} - idx: {idx}, next word: {vocab_words_list[idx-1]}')\n",
    "    print(f'Trial #{i} - Real next word: {ngram_seq_pick[-1]}')\n",
    "    \n",
    "    if vocab_words_list[idx-1] == int(ngram_seq_pick[-1]):\n",
    "        acertos = acertos + 1\n",
    "    # print(acertos)\n",
    "print('percentual de acertos: ', 100*acertos/num_trials)     "
   ]
  },
  {
   "cell_type": "code",
   "execution_count": null,
   "metadata": {},
   "outputs": [],
   "source": [
    "PATH = 'modelos/7_650_3x650_3_linear_layers_4550_18200_4550_341_L1_L2_EarlyStop300_totalData'\n",
    "\n",
    "torch.save(nw_model, PATH)"
   ]
  },
  {
   "cell_type": "code",
   "execution_count": 63,
   "metadata": {},
   "outputs": [
    {
     "name": "stderr",
     "output_type": "stream",
     "text": [
      "  1%|▊                                                                           | 154/15403 [00:13<22:26, 11.32it/s]\n"
     ]
    },
    {
     "ename": "KeyboardInterrupt",
     "evalue": "",
     "output_type": "error",
     "traceback": [
      "\u001b[0;31m---------------------------------------------------------------------------\u001b[0m",
      "\u001b[0;31mKeyboardInterrupt\u001b[0m                         Traceback (most recent call last)",
      "Cell \u001b[0;32mIn[63], line 21\u001b[0m\n\u001b[1;32m     18\u001b[0m model\u001b[38;5;241m.\u001b[39meval()\n\u001b[1;32m     19\u001b[0m \u001b[38;5;28;01mwith\u001b[39;00m torch\u001b[38;5;241m.\u001b[39mno_grad():\n\u001b[1;32m     20\u001b[0m   \u001b[38;5;66;03m# y_predict = nw_model(X_test)\u001b[39;00m\n\u001b[0;32m---> 21\u001b[0m   y_predict \u001b[38;5;241m=\u001b[39m \u001b[43mmodel\u001b[49m\u001b[43m(\u001b[49m\u001b[43mX_test\u001b[49m\u001b[43m)\u001b[49m\n\u001b[1;32m     22\u001b[0m   idx \u001b[38;5;241m=\u001b[39m torch\u001b[38;5;241m.\u001b[39margmax(y_predict)\n\u001b[1;32m     23\u001b[0m   \u001b[38;5;66;03m# print('idx: ', idx)\u001b[39;00m\n\u001b[1;32m     24\u001b[0m   \u001b[38;5;66;03m# print(f'Trial #{i} - idx: {idx}, next word: {vocab_words_list[idx-1]}')\u001b[39;00m\n\u001b[1;32m     25\u001b[0m   \u001b[38;5;66;03m# print(f'Trial #{i} - Real next word: {ngram_seq_pick[-1]}')\u001b[39;00m\n",
      "File \u001b[0;32m~/Documentos/Mestrado/venv/lib/python3.12/site-packages/torch/nn/modules/module.py:1739\u001b[0m, in \u001b[0;36mModule._wrapped_call_impl\u001b[0;34m(self, *args, **kwargs)\u001b[0m\n\u001b[1;32m   1737\u001b[0m     \u001b[38;5;28;01mreturn\u001b[39;00m \u001b[38;5;28mself\u001b[39m\u001b[38;5;241m.\u001b[39m_compiled_call_impl(\u001b[38;5;241m*\u001b[39margs, \u001b[38;5;241m*\u001b[39m\u001b[38;5;241m*\u001b[39mkwargs)  \u001b[38;5;66;03m# type: ignore[misc]\u001b[39;00m\n\u001b[1;32m   1738\u001b[0m \u001b[38;5;28;01melse\u001b[39;00m:\n\u001b[0;32m-> 1739\u001b[0m     \u001b[38;5;28;01mreturn\u001b[39;00m \u001b[38;5;28;43mself\u001b[39;49m\u001b[38;5;241;43m.\u001b[39;49m\u001b[43m_call_impl\u001b[49m\u001b[43m(\u001b[49m\u001b[38;5;241;43m*\u001b[39;49m\u001b[43margs\u001b[49m\u001b[43m,\u001b[49m\u001b[43m \u001b[49m\u001b[38;5;241;43m*\u001b[39;49m\u001b[38;5;241;43m*\u001b[39;49m\u001b[43mkwargs\u001b[49m\u001b[43m)\u001b[49m\n",
      "File \u001b[0;32m~/Documentos/Mestrado/venv/lib/python3.12/site-packages/torch/nn/modules/module.py:1750\u001b[0m, in \u001b[0;36mModule._call_impl\u001b[0;34m(self, *args, **kwargs)\u001b[0m\n\u001b[1;32m   1745\u001b[0m \u001b[38;5;66;03m# If we don't have any hooks, we want to skip the rest of the logic in\u001b[39;00m\n\u001b[1;32m   1746\u001b[0m \u001b[38;5;66;03m# this function, and just call forward.\u001b[39;00m\n\u001b[1;32m   1747\u001b[0m \u001b[38;5;28;01mif\u001b[39;00m \u001b[38;5;129;01mnot\u001b[39;00m (\u001b[38;5;28mself\u001b[39m\u001b[38;5;241m.\u001b[39m_backward_hooks \u001b[38;5;129;01mor\u001b[39;00m \u001b[38;5;28mself\u001b[39m\u001b[38;5;241m.\u001b[39m_backward_pre_hooks \u001b[38;5;129;01mor\u001b[39;00m \u001b[38;5;28mself\u001b[39m\u001b[38;5;241m.\u001b[39m_forward_hooks \u001b[38;5;129;01mor\u001b[39;00m \u001b[38;5;28mself\u001b[39m\u001b[38;5;241m.\u001b[39m_forward_pre_hooks\n\u001b[1;32m   1748\u001b[0m         \u001b[38;5;129;01mor\u001b[39;00m _global_backward_pre_hooks \u001b[38;5;129;01mor\u001b[39;00m _global_backward_hooks\n\u001b[1;32m   1749\u001b[0m         \u001b[38;5;129;01mor\u001b[39;00m _global_forward_hooks \u001b[38;5;129;01mor\u001b[39;00m _global_forward_pre_hooks):\n\u001b[0;32m-> 1750\u001b[0m     \u001b[38;5;28;01mreturn\u001b[39;00m \u001b[43mforward_call\u001b[49m\u001b[43m(\u001b[49m\u001b[38;5;241;43m*\u001b[39;49m\u001b[43margs\u001b[49m\u001b[43m,\u001b[49m\u001b[43m \u001b[49m\u001b[38;5;241;43m*\u001b[39;49m\u001b[38;5;241;43m*\u001b[39;49m\u001b[43mkwargs\u001b[49m\u001b[43m)\u001b[49m\n\u001b[1;32m   1752\u001b[0m result \u001b[38;5;241m=\u001b[39m \u001b[38;5;28;01mNone\u001b[39;00m\n\u001b[1;32m   1753\u001b[0m called_always_called_hooks \u001b[38;5;241m=\u001b[39m \u001b[38;5;28mset\u001b[39m()\n",
      "Cell \u001b[0;32mIn[43], line 35\u001b[0m, in \u001b[0;36mNextWordLSTM.forward\u001b[0;34m(self, x_in)\u001b[0m\n\u001b[1;32m     33\u001b[0m \u001b[38;5;28;01mdef\u001b[39;00m\u001b[38;5;250m \u001b[39m\u001b[38;5;21mforward\u001b[39m(\u001b[38;5;28mself\u001b[39m, x_in: torch\u001b[38;5;241m.\u001b[39mTensor):\n\u001b[1;32m     34\u001b[0m   embedded \u001b[38;5;241m=\u001b[39m \u001b[38;5;28mself\u001b[39m\u001b[38;5;241m.\u001b[39membed(x_in)\n\u001b[0;32m---> 35\u001b[0m   output, _ \u001b[38;5;241m=\u001b[39m \u001b[38;5;28;43mself\u001b[39;49m\u001b[38;5;241;43m.\u001b[39;49m\u001b[43mlstm\u001b[49m\u001b[43m(\u001b[49m\u001b[43membedded\u001b[49m\u001b[43m)\u001b[49m\n\u001b[1;32m     36\u001b[0m   output \u001b[38;5;241m=\u001b[39m output\u001b[38;5;241m.\u001b[39mview(output\u001b[38;5;241m.\u001b[39msize(\u001b[38;5;241m0\u001b[39m), \u001b[38;5;241m-\u001b[39m\u001b[38;5;241m1\u001b[39m)\n\u001b[1;32m     37\u001b[0m   \u001b[38;5;66;03m# output = self.dropout(output)\u001b[39;00m\n\u001b[1;32m     38\u001b[0m   \u001b[38;5;66;03m# output = self.linear(output)\u001b[39;00m\n",
      "File \u001b[0;32m~/Documentos/Mestrado/venv/lib/python3.12/site-packages/torch/nn/modules/module.py:1739\u001b[0m, in \u001b[0;36mModule._wrapped_call_impl\u001b[0;34m(self, *args, **kwargs)\u001b[0m\n\u001b[1;32m   1737\u001b[0m     \u001b[38;5;28;01mreturn\u001b[39;00m \u001b[38;5;28mself\u001b[39m\u001b[38;5;241m.\u001b[39m_compiled_call_impl(\u001b[38;5;241m*\u001b[39margs, \u001b[38;5;241m*\u001b[39m\u001b[38;5;241m*\u001b[39mkwargs)  \u001b[38;5;66;03m# type: ignore[misc]\u001b[39;00m\n\u001b[1;32m   1738\u001b[0m \u001b[38;5;28;01melse\u001b[39;00m:\n\u001b[0;32m-> 1739\u001b[0m     \u001b[38;5;28;01mreturn\u001b[39;00m \u001b[38;5;28;43mself\u001b[39;49m\u001b[38;5;241;43m.\u001b[39;49m\u001b[43m_call_impl\u001b[49m\u001b[43m(\u001b[49m\u001b[38;5;241;43m*\u001b[39;49m\u001b[43margs\u001b[49m\u001b[43m,\u001b[49m\u001b[43m \u001b[49m\u001b[38;5;241;43m*\u001b[39;49m\u001b[38;5;241;43m*\u001b[39;49m\u001b[43mkwargs\u001b[49m\u001b[43m)\u001b[49m\n",
      "File \u001b[0;32m~/Documentos/Mestrado/venv/lib/python3.12/site-packages/torch/nn/modules/module.py:1750\u001b[0m, in \u001b[0;36mModule._call_impl\u001b[0;34m(self, *args, **kwargs)\u001b[0m\n\u001b[1;32m   1745\u001b[0m \u001b[38;5;66;03m# If we don't have any hooks, we want to skip the rest of the logic in\u001b[39;00m\n\u001b[1;32m   1746\u001b[0m \u001b[38;5;66;03m# this function, and just call forward.\u001b[39;00m\n\u001b[1;32m   1747\u001b[0m \u001b[38;5;28;01mif\u001b[39;00m \u001b[38;5;129;01mnot\u001b[39;00m (\u001b[38;5;28mself\u001b[39m\u001b[38;5;241m.\u001b[39m_backward_hooks \u001b[38;5;129;01mor\u001b[39;00m \u001b[38;5;28mself\u001b[39m\u001b[38;5;241m.\u001b[39m_backward_pre_hooks \u001b[38;5;129;01mor\u001b[39;00m \u001b[38;5;28mself\u001b[39m\u001b[38;5;241m.\u001b[39m_forward_hooks \u001b[38;5;129;01mor\u001b[39;00m \u001b[38;5;28mself\u001b[39m\u001b[38;5;241m.\u001b[39m_forward_pre_hooks\n\u001b[1;32m   1748\u001b[0m         \u001b[38;5;129;01mor\u001b[39;00m _global_backward_pre_hooks \u001b[38;5;129;01mor\u001b[39;00m _global_backward_hooks\n\u001b[1;32m   1749\u001b[0m         \u001b[38;5;129;01mor\u001b[39;00m _global_forward_hooks \u001b[38;5;129;01mor\u001b[39;00m _global_forward_pre_hooks):\n\u001b[0;32m-> 1750\u001b[0m     \u001b[38;5;28;01mreturn\u001b[39;00m \u001b[43mforward_call\u001b[49m\u001b[43m(\u001b[49m\u001b[38;5;241;43m*\u001b[39;49m\u001b[43margs\u001b[49m\u001b[43m,\u001b[49m\u001b[43m \u001b[49m\u001b[38;5;241;43m*\u001b[39;49m\u001b[38;5;241;43m*\u001b[39;49m\u001b[43mkwargs\u001b[49m\u001b[43m)\u001b[49m\n\u001b[1;32m   1752\u001b[0m result \u001b[38;5;241m=\u001b[39m \u001b[38;5;28;01mNone\u001b[39;00m\n\u001b[1;32m   1753\u001b[0m called_always_called_hooks \u001b[38;5;241m=\u001b[39m \u001b[38;5;28mset\u001b[39m()\n",
      "File \u001b[0;32m~/Documentos/Mestrado/venv/lib/python3.12/site-packages/torch/nn/modules/rnn.py:1124\u001b[0m, in \u001b[0;36mLSTM.forward\u001b[0;34m(self, input, hx)\u001b[0m\n\u001b[1;32m   1121\u001b[0m         hx \u001b[38;5;241m=\u001b[39m \u001b[38;5;28mself\u001b[39m\u001b[38;5;241m.\u001b[39mpermute_hidden(hx, sorted_indices)\n\u001b[1;32m   1123\u001b[0m \u001b[38;5;28;01mif\u001b[39;00m batch_sizes \u001b[38;5;129;01mis\u001b[39;00m \u001b[38;5;28;01mNone\u001b[39;00m:\n\u001b[0;32m-> 1124\u001b[0m     result \u001b[38;5;241m=\u001b[39m \u001b[43m_VF\u001b[49m\u001b[38;5;241;43m.\u001b[39;49m\u001b[43mlstm\u001b[49m\u001b[43m(\u001b[49m\n\u001b[1;32m   1125\u001b[0m \u001b[43m        \u001b[49m\u001b[38;5;28;43minput\u001b[39;49m\u001b[43m,\u001b[49m\n\u001b[1;32m   1126\u001b[0m \u001b[43m        \u001b[49m\u001b[43mhx\u001b[49m\u001b[43m,\u001b[49m\n\u001b[1;32m   1127\u001b[0m \u001b[43m        \u001b[49m\u001b[38;5;28;43mself\u001b[39;49m\u001b[38;5;241;43m.\u001b[39;49m\u001b[43m_flat_weights\u001b[49m\u001b[43m,\u001b[49m\u001b[43m  \u001b[49m\u001b[38;5;66;43;03m# type: ignore[arg-type]\u001b[39;49;00m\n\u001b[1;32m   1128\u001b[0m \u001b[43m        \u001b[49m\u001b[38;5;28;43mself\u001b[39;49m\u001b[38;5;241;43m.\u001b[39;49m\u001b[43mbias\u001b[49m\u001b[43m,\u001b[49m\n\u001b[1;32m   1129\u001b[0m \u001b[43m        \u001b[49m\u001b[38;5;28;43mself\u001b[39;49m\u001b[38;5;241;43m.\u001b[39;49m\u001b[43mnum_layers\u001b[49m\u001b[43m,\u001b[49m\n\u001b[1;32m   1130\u001b[0m \u001b[43m        \u001b[49m\u001b[38;5;28;43mself\u001b[39;49m\u001b[38;5;241;43m.\u001b[39;49m\u001b[43mdropout\u001b[49m\u001b[43m,\u001b[49m\n\u001b[1;32m   1131\u001b[0m \u001b[43m        \u001b[49m\u001b[38;5;28;43mself\u001b[39;49m\u001b[38;5;241;43m.\u001b[39;49m\u001b[43mtraining\u001b[49m\u001b[43m,\u001b[49m\n\u001b[1;32m   1132\u001b[0m \u001b[43m        \u001b[49m\u001b[38;5;28;43mself\u001b[39;49m\u001b[38;5;241;43m.\u001b[39;49m\u001b[43mbidirectional\u001b[49m\u001b[43m,\u001b[49m\n\u001b[1;32m   1133\u001b[0m \u001b[43m        \u001b[49m\u001b[38;5;28;43mself\u001b[39;49m\u001b[38;5;241;43m.\u001b[39;49m\u001b[43mbatch_first\u001b[49m\u001b[43m,\u001b[49m\n\u001b[1;32m   1134\u001b[0m \u001b[43m    \u001b[49m\u001b[43m)\u001b[49m\n\u001b[1;32m   1135\u001b[0m \u001b[38;5;28;01melse\u001b[39;00m:\n\u001b[1;32m   1136\u001b[0m     result \u001b[38;5;241m=\u001b[39m _VF\u001b[38;5;241m.\u001b[39mlstm(\n\u001b[1;32m   1137\u001b[0m         \u001b[38;5;28minput\u001b[39m,\n\u001b[1;32m   1138\u001b[0m         batch_sizes,\n\u001b[0;32m   (...)\u001b[0m\n\u001b[1;32m   1145\u001b[0m         \u001b[38;5;28mself\u001b[39m\u001b[38;5;241m.\u001b[39mbidirectional,\n\u001b[1;32m   1146\u001b[0m     )\n",
      "\u001b[0;31mKeyboardInterrupt\u001b[0m: "
     ]
    }
   ],
   "source": [
    "num_trials = int(0.05*len(ngram_sequences))\n",
    "# num_trials = int(0.1*len(ngram_sequences_valid))\n",
    "acertos = 0\n",
    "for i in tqdm(range(num_trials)):\n",
    "  # ngram_seq_pick, ngram_sub_seq = pick_ngram_sub_sequence(ngram_sequences)\n",
    "  # print(type(i))\n",
    "  ngram_sub_seq = ngram_sequences[i][:-1]\n",
    "  ngram_seq_pick= ngram_sequences[i][:]\n",
    "  # print(ngram_sequences[i][:])\n",
    "  # print(ngram_seq_pick)\n",
    "  # print(ngram_sub_seq)\n",
    "    \n",
    "  # print(f'Trial #{i} - Picked sequence: {ngram_seq_pick}, Test sub-sequence: {ngram_sub_seq}')\n",
    "  ngram_sub_seq_num = [ngram_sub_seq]\n",
    "  # print(ngram_sub_seq_num)\n",
    "  X_test = torch.tensor(ngram_sub_seq_num)\n",
    "  # print(f'Trial #{i} - X_test: {X_test}')\n",
    "  model.eval()\n",
    "  with torch.no_grad():\n",
    "    # y_predict = nw_model(X_test)\n",
    "    y_predict = model(X_test)\n",
    "    idx = torch.argmax(y_predict)\n",
    "    # print('idx: ', idx)\n",
    "    # print(f'Trial #{i} - idx: {idx}, next word: {vocab_words_list[idx-1]}')\n",
    "    # print(f'Trial #{i} - Real next word: {ngram_seq_pick[-1]}')\n",
    "    \n",
    "    if vocab_words_list[idx-1] == int(ngram_seq_pick[-1]):\n",
    "        acertos = acertos + 1\n",
    "    # print(acertos)\n",
    "print('percentual de acertos: ', 100*acertos/num_trials)"
   ]
  },
  {
   "cell_type": "code",
   "execution_count": 46,
   "metadata": {},
   "outputs": [],
   "source": [
    "# PATH = 'modelos/5_800_800_800_1024_linear_layers_5120_5120_341'\n",
    "# torch.save(nw_model, PATH)"
   ]
  },
  {
   "cell_type": "markdown",
   "metadata": {},
   "source": [
    "################################################################################################################################\n",
    "####################### Validação com dados não vistos ##########################################################################\n",
    "#################################################################################################################################"
   ]
  },
  {
   "cell_type": "markdown",
   "metadata": {},
   "source": [
    "Percentual de acertos para dados de validação: 61,5%. Muito similar ao nível de erro do conjunto de dados de treinamento."
   ]
  }
 ],
 "metadata": {
  "colab": {
   "provenance": []
  },
  "kernelspec": {
   "display_name": "Python 3 (ipykernel)",
   "language": "python",
   "name": "python3"
  },
  "language_info": {
   "codemirror_mode": {
    "name": "ipython",
    "version": 3
   },
   "file_extension": ".py",
   "mimetype": "text/x-python",
   "name": "python",
   "nbconvert_exporter": "python",
   "pygments_lexer": "ipython3",
   "version": "3.12.3"
  }
 },
 "nbformat": 4,
 "nbformat_minor": 4
}
